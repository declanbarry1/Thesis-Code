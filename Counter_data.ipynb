{
 "cells": [
  {
   "cell_type": "code",
   "execution_count": 18,
   "id": "02d09989-30db-4b22-aac2-3755768fa426",
   "metadata": {},
   "outputs": [],
   "source": [
    "from functools import reduce\n",
    "import numpy as np\n",
    "import pandas as pd\n",
    "import evall"
   ]
  },
  {
   "cell_type": "code",
   "execution_count": 19,
   "id": "c970ef4b-fff6-49c8-a2b1-47febd8e9ef3",
   "metadata": {},
   "outputs": [],
   "source": [
    "train_data = np.load(\"new_fa_train_data.npy\")\n",
    "\n",
    "train_users = train_data[:, 0]\n",
    "users = np.unique(train_users)\n",
    "\n",
    "train_attributes = train_data[:, 6:]\n",
    "attributes = np.unique(train_attributes, axis=0)\n",
    "train_attributes = train_data[:, 6:]\n",
    "attributes = np.unique(train_attributes, axis=0)\n",
    "\n",
    "\n",
    "\n",
    "train_brand_id = train_data[:,6]\n",
    "brand_id = np.unique(train_brand_id, axis=0)\n",
    "\n",
    "train_category = train_data[:,7]\n",
    "category = np.unique(train_category, axis=0)\n",
    "\n",
    "train_colour = train_data[:,8]\n",
    "colour = np.unique(train_colour, axis=0)\n",
    "\n",
    "train_divisioncode = train_data[:,9]\n",
    "divisioncode = np.unique(train_divisioncode, axis=0)\n",
    "\n",
    "train_itemcategorycode = train_data[:,10]\n",
    "itemcategorycode = np.unique(train_itemcategorycode, axis=0)\n",
    "\n",
    "train_itemfamilycode = train_data[:,11]\n",
    "itemfamilycode = np.unique(train_itemfamilycode, axis=0)\n",
    "\n",
    "train_itemseason = train_data[:,12]\n",
    "itemseason = np.unique(train_itemseason, axis=0)\n",
    "\n",
    "train_productgroup = train_data[:,13]\n",
    "productgroup = np.unique(train_productgroup, axis=0)\n",
    "\n",
    "train_counter_examples = np.empty([0, 9], dtype=int)"
   ]
  },
  {
   "cell_type": "code",
   "execution_count": 20,
   "id": "ec26aa56-f7fd-47e5-bdfc-1d29bd12d837",
   "metadata": {
    "tags": []
   },
   "outputs": [],
   "source": [
    "for b_c in attributes:\n",
    "    attribute = b_c[0]\n",
    "    index = train_brand_id == attribute\n",
    "    user_like_brand = np.unique(train_users[index])\n",
    "    user_dislike_brand = np.setdiff1d(users, user_like_brand)\n",
    " \n",
    "    attribute = b_c[1]\n",
    "    index = train_category == attribute\n",
    "    user_like_cat = np.unique(train_users[index])\n",
    "    user_dislike_cat = np.setdiff1d(users, user_like_cat)\n",
    "\n",
    "    attribute = b_c[2]\n",
    "    index = train_colour == attribute\n",
    "    user_like_col = np.unique(train_users[index])\n",
    "    user_dislike_col = np.setdiff1d(users, user_like_col)\n",
    "\n",
    "    attribute = b_c[3]\n",
    "    index = train_divisioncode == attribute\n",
    "    user_like_div = np.unique(train_users[index])\n",
    "    user_dislike_div = np.setdiff1d(users, user_like_div)\n",
    "\n",
    "    attribute = b_c[4]\n",
    "    index = train_itemcategorycode == attribute\n",
    "    user_like_itemcat = np.unique(train_users[index])\n",
    "    user_dislike_itemcat = np.setdiff1d(users, user_like_itemcat)\n",
    "\n",
    "    attribute = b_c[5]\n",
    "    index = train_itemfamilycode == attribute\n",
    "    user_like_itemfam = np.unique(train_users[index])\n",
    "    user_dislike_itemfam = np.setdiff1d(users, user_like_itemfam)\n",
    "\n",
    "    attribute = b_c[6]\n",
    "    index = train_itemseason == attribute\n",
    "    user_like_itemseason = np.unique(train_users[index])\n",
    "    user_dislike_itemseason = np.setdiff1d(users, user_like_itemseason)\n",
    "\n",
    "    attribute = b_c[7]\n",
    "    index = train_productgroup == attribute\n",
    "    user_like_productgroup = np.unique(train_users[index])\n",
    "    user_dislike_productgroup = np.setdiff1d(users, user_like_productgroup)\n",
    "\n",
    "    \n",
    "\n",
    "    user_dislike_attributes = reduce(np.intersect1d,(user_dislike_brand, user_dislike_cat, user_dislike_col, user_dislike_div,\n",
    "                                            user_dislike_itemcat, user_dislike_itemfam, user_dislike_itemseason,\n",
    "                                            user_dislike_productgroup))\n",
    "    DISLIKE_NUM = 1000\n",
    "    sub_user_dislike_attributes = np.random.choice(user_dislike_attributes, DISLIKE_NUM)\n",
    "    A = np.transpose(sub_user_dislike_attributes.reshape(1, -1))\n",
    "    B = np.repeat(b_c.reshape(1, -1), DISLIKE_NUM, axis=0)\n",
    "    #        print(A.ndim)\n",
    "    #        print(B.ndim)\n",
    "    samples = np.concatenate((A, B), axis=1)\n",
    "    #        print(samples)\n",
    "    train_counter_examples = np.concatenate((train_counter_examples, samples), axis=0)\n",
    "    #        print(train_counter_examples.size)\n",
    "    "
   ]
  },
  {
   "cell_type": "code",
   "execution_count": 21,
   "id": "2e8ae3e4-9650-4741-8aa3-4741b7c7fa9d",
   "metadata": {},
   "outputs": [
    {
     "name": "stdout",
     "output_type": "stream",
     "text": [
      "(48689,)\n",
      "(308,)\n",
      "(8,)\n",
      "(51,)\n",
      "(3,)\n",
      "(13,)\n",
      "(4,)\n",
      "(3,)\n",
      "(78,)\n"
     ]
    }
   ],
   "source": [
    "for i in range(9):\n",
    "    print(np.unique(train_counter_examples[:,i]).shape)"
   ]
  },
  {
   "cell_type": "code",
   "execution_count": 22,
   "id": "8d5a1d92-c83d-47f3-8d64-b08c8e2e4703",
   "metadata": {},
   "outputs": [],
   "source": [
    "np.save(\"train_counter_examples\", train_counter_examples)"
   ]
  },
  {
   "cell_type": "markdown",
   "id": "c937e18b-c91d-4577-86d2-c61cdfa43a08",
   "metadata": {},
   "source": [
    "## User Counter Examples"
   ]
  },
  {
   "cell_type": "code",
   "execution_count": 23,
   "id": "c7c9f2f0-d79a-4367-b29c-5145d871d63c",
   "metadata": {},
   "outputs": [],
   "source": [
    "train_items = train_data[:, 3]\n",
    "items = np.unique(train_items)"
   ]
  },
  {
   "cell_type": "code",
   "execution_count": 24,
   "id": "70c5d92f-3c04-4fb2-bad6-2bbb472f0ec3",
   "metadata": {},
   "outputs": [
    {
     "data": {
      "text/plain": [
       "array([[   0,  763,    1,    0],\n",
       "       [   0,  883,    1,    1],\n",
       "       [   0, 2492,    0,    1],\n",
       "       ...,\n",
       "       [   0,  398,    1,    1],\n",
       "       [   0,   85,    0,    1],\n",
       "       [   0,  510,    1,    1]])"
      ]
     },
     "execution_count": 24,
     "metadata": {},
     "output_type": "execute_result"
    }
   ],
   "source": [
    "train_data[:,[1,2,4,5]]"
   ]
  },
  {
   "cell_type": "code",
   "execution_count": 25,
   "id": "ad284fc3-13ea-4197-9fb2-74a1d896791b",
   "metadata": {},
   "outputs": [
    {
     "ename": "NameError",
     "evalue": "name 'train_div' is not defined",
     "output_type": "error",
     "traceback": [
      "\u001b[0;31m---------------------------------------------------------------------------\u001b[0m",
      "\u001b[0;31mNameError\u001b[0m                                 Traceback (most recent call last)",
      "\u001b[0;32m<ipython-input-25-d8857fdc8044>\u001b[0m in \u001b[0;36m<module>\u001b[0;34m\u001b[0m\n\u001b[1;32m     34\u001b[0m \u001b[0;34m\u001b[0m\u001b[0m\n\u001b[1;32m     35\u001b[0m     \u001b[0mattribute\u001b[0m \u001b[0;34m=\u001b[0m \u001b[0mb_c\u001b[0m\u001b[0;34m[\u001b[0m\u001b[0;36m3\u001b[0m\u001b[0;34m]\u001b[0m\u001b[0;34m\u001b[0m\u001b[0;34m\u001b[0m\u001b[0m\n\u001b[0;32m---> 36\u001b[0;31m     \u001b[0mindex\u001b[0m \u001b[0;34m=\u001b[0m \u001b[0mtrain_div\u001b[0m \u001b[0;34m==\u001b[0m \u001b[0mattribute\u001b[0m\u001b[0;34m\u001b[0m\u001b[0;34m\u001b[0m\u001b[0m\n\u001b[0m\u001b[1;32m     37\u001b[0m     \u001b[0muser_like_div\u001b[0m \u001b[0;34m=\u001b[0m \u001b[0mnp\u001b[0m\u001b[0;34m.\u001b[0m\u001b[0munique\u001b[0m\u001b[0;34m(\u001b[0m\u001b[0mtrain_items\u001b[0m\u001b[0;34m[\u001b[0m\u001b[0mindex\u001b[0m\u001b[0;34m]\u001b[0m\u001b[0;34m)\u001b[0m\u001b[0;34m\u001b[0m\u001b[0;34m\u001b[0m\u001b[0m\n\u001b[1;32m     38\u001b[0m     \u001b[0muser_dislike_div\u001b[0m \u001b[0;34m=\u001b[0m \u001b[0mnp\u001b[0m\u001b[0;34m.\u001b[0m\u001b[0msetdiff1d\u001b[0m\u001b[0;34m(\u001b[0m\u001b[0musers\u001b[0m\u001b[0;34m,\u001b[0m \u001b[0muser_like_div\u001b[0m\u001b[0;34m)\u001b[0m\u001b[0;34m\u001b[0m\u001b[0;34m\u001b[0m\u001b[0m\n",
      "\u001b[0;31mNameError\u001b[0m: name 'train_div' is not defined"
     ]
    }
   ],
   "source": [
    "train_attributes = train_data[:, [1,2,4,5]]\n",
    "attributes = np.unique(train_attributes, axis=0)\n",
    "\n",
    "train_country = train_data[:,1]\n",
    "country = np.unique(train_country, axis=0)\n",
    "\n",
    "train_pc = train_data[:,2]\n",
    "pc = np.unique(train_pc, axis=0)\n",
    "\n",
    "train_loyal = train_data[:,4]\n",
    "loyal = np.unique(train_loyal, axis=0)\n",
    "\n",
    "train_gender = train_data[:,5]\n",
    "gender = np.unique(train_gender, axis=0)\n",
    "\n",
    "\n",
    "train_counter_examples = np.empty([0, 4], dtype=int)\n",
    "\n",
    "for b_c in attributes:\n",
    "    attribute = b_c[0]\n",
    "    index = train_country == attribute\n",
    "    user_like_country = np.unique(train_items[index])\n",
    "    user_dislike_country = np.setdiff1d(users, user_like_country)\n",
    " \n",
    "    attribute = b_c[1]\n",
    "    index = train_pc == attribute\n",
    "    user_like_pc = np.unique(train_items[index])\n",
    "    user_dislike_pc = np.setdiff1d(users, user_like_pc)\n",
    "\n",
    "    attribute = b_c[2]\n",
    "    index = train_gender == attribute\n",
    "    user_like_gender = np.unique(train_items[index])\n",
    "    user_dislike_col = np.setdiff1d(users, user_like_gender)\n",
    "\n",
    "    attribute = b_c[3]\n",
    "    index = train_div == attribute\n",
    "    user_like_div = np.unique(train_items[index])\n",
    "    user_dislike_div = np.setdiff1d(users, user_like_div)\n",
    "\n",
    "\n",
    "\n",
    "    \n",
    "\n",
    "    user_dislike_attributes = reduce(np.intersect1d,(user_dislike_country, user_dislike_pc, user_dislike_col, user_dislike_div))\n",
    "    DISLIKE_NUM = 1000\n",
    "    sub_user_dislike_attributes = np.random.choice(user_dislike_attributes, DISLIKE_NUM)\n",
    "    A = np.transpose(sub_user_dislike_attributes.reshape(1, -1))\n",
    "    B = np.repeat(b_c.reshape(1, -1), DISLIKE_NUM, axis=0)\n",
    "    #        print(A.ndim)\n",
    "    #        print(B.ndim)\n",
    "    samples = np.concatenate((A, B), axis=1)\n",
    "    #        print(samples)\n",
    "    train_counter_examples = np.concatenate((train_counter_examples, samples), axis=0)\n",
    "    #        print(train_counter_examples.size)\n",
    "    "
   ]
  },
  {
   "cell_type": "code",
   "execution_count": null,
   "id": "3e4d44c1-5dbe-4696-880c-3590bfb0e678",
   "metadata": {},
   "outputs": [],
   "source": [
    "for i in range(9):\n",
    "    print(np.unique(train_counter_examples[:,i]).shape)"
   ]
  },
  {
   "cell_type": "code",
   "execution_count": null,
   "id": "0c01b006-14a1-42ee-b19b-3f86341f4ba4",
   "metadata": {},
   "outputs": [],
   "source": [
    "np.save(\"train_counter_examples\", train_counter_examples)"
   ]
  }
 ],
 "metadata": {
  "kernelspec": {
   "display_name": "thesis",
   "language": "python",
   "name": "thesis"
  },
  "language_info": {
   "codemirror_mode": {
    "name": "ipython",
    "version": 3
   },
   "file_extension": ".py",
   "mimetype": "text/x-python",
   "name": "python",
   "nbconvert_exporter": "python",
   "pygments_lexer": "ipython3",
   "version": "3.8.10"
  }
 },
 "nbformat": 4,
 "nbformat_minor": 5
}
