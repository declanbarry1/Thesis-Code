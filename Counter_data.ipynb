{
 "cells": [
  {
   "cell_type": "code",
   "execution_count": 1,
   "id": "02d09989-30db-4b22-aac2-3755768fa426",
   "metadata": {},
   "outputs": [],
   "source": [
    "from functools import reduce\n",
    "import numpy as np\n",
    "import pandas as pd\n",
    "import evall"
   ]
  },
  {
   "cell_type": "code",
   "execution_count": 3,
   "id": "7a7f2e51-73ac-429c-a775-2a78dd880c53",
   "metadata": {},
   "outputs": [],
   "source": [
    "train_data = np.load(\"new_fa_train_data.npy\")\n",
    "train_users = train_data[:, 0]\n",
    "users = np.unique(train_users)\n",
    "\n",
    "train_attributes = train_data[:, 7:]\n",
    "attributes = np.unique(train_attributes, axis=0)\n",
    "train_attributes = train_data[:, 7:]\n",
    "attributes = np.unique(train_attributes, axis=0)\n",
    "\n",
    "train_pricetype = train_data[:,4]\n",
    "pricetype= np.unique(train_pricetype, axis=0)\n",
    "\n",
    "train_brand_id = train_data[:,7]\n",
    "brand_id = np.unique(train_brand_id, axis=0)\n",
    "\n",
    "train_category = train_data[:,8]\n",
    "category = np.unique(train_category, axis=0)\n",
    "\n",
    "train_colour = train_data[:,9]\n",
    "colour = np.unique(train_colour, axis=0)\n",
    "\n",
    "train_divisioncode = train_data[:,10]\n",
    "divisioncode = np.unique(train_divisioncode, axis=0)\n",
    "\n",
    "train_itemcategorycode = train_data[:,11]\n",
    "itemcategorycode = np.unique(train_itemcategorycode, axis=0)\n",
    "\n",
    "train_itemfamilycode = train_data[:,12]\n",
    "itemfamilycode = np.unique(train_itemfamilycode, axis=0)\n",
    "\n",
    "train_itemseason = train_data[:,13]\n",
    "itemseason = np.unique(train_itemseason, axis=0)\n",
    "\n",
    "train_productgroup = train_data[:,14]\n",
    "productgroup = np.unique(train_productgroup, axis=0)\n",
    "\n",
    "train_counter_examples = np.empty([0, 9], dtype=int)"
   ]
  },
  {
   "cell_type": "code",
   "execution_count": 7,
   "id": "ec26aa56-f7fd-47e5-bdfc-1d29bd12d837",
   "metadata": {
    "tags": []
   },
   "outputs": [],
   "source": [
    "for b_c in attributes:\n",
    "    attribute = b_c[0]\n",
    "    index = train_brand_id == attribute\n",
    "    user_like_brand = np.unique(train_users[index])\n",
    "    user_dislike_brand = np.setdiff1d(users, user_like_brand)\n",
    " \n",
    "    attribute = b_c[1]\n",
    "    cat_index = train_category == attribute\n",
    "    user_like_cat = np.unique(train_users[index])\n",
    "    user_dislike_cat = np.setdiff1d(users, user_like_cat)\n",
    "\n",
    "    attribute = b_c[2]\n",
    "    index = train_colour == attribute\n",
    "    user_like_col = np.unique(train_users[index])\n",
    "    user_dislike_col = np.setdiff1d(users, user_like_col)\n",
    "\n",
    "    attribute = b_c[3]\n",
    "    index = train_divisioncode == attribute\n",
    "    user_like_div = np.unique(train_users[index])\n",
    "    user_dislike_div = np.setdiff1d(users, user_like_div)\n",
    "\n",
    "    attribute = b_c[4]\n",
    "    cat_index = train_itemcategorycode == attribute\n",
    "    user_like_itemcat = np.unique(train_users[index])\n",
    "    user_dislike_itemcat = np.setdiff1d(users, user_like_itemcat)\n",
    "\n",
    "    attribute = b_c[5]\n",
    "    cat_index = train_itemfamilycode == attribute\n",
    "    user_like_itemfam = np.unique(train_users[index])\n",
    "    user_dislike_itemfam = np.setdiff1d(users, user_like_itemfam)\n",
    "\n",
    "    attribute = b_c[6]\n",
    "    cat_index = train_itemseason == attribute\n",
    "    user_like_itemseason = np.unique(train_users[index])\n",
    "    user_dislike_itemseason = np.setdiff1d(users, user_like_itemseason)\n",
    "\n",
    "    attribute = b_c[7]\n",
    "    cat_index = train_productgroup == attribute\n",
    "    user_like_productgroup = np.unique(train_users[index])\n",
    "    user_dislike_productgroup = np.setdiff1d(users, user_like_productgroup)\n",
    "\n",
    "    \n",
    "\n",
    "    user_dislike_attributes = reduce(np.intersect1d,(user_dislike_brand, user_dislike_cat, user_dislike_col, user_dislike_div,\n",
    "                                            user_dislike_itemcat, user_dislike_itemfam, user_dislike_itemseason,\n",
    "                                            user_dislike_productgroup))\n",
    "    DISLIKE_NUM = 1000\n",
    "    sub_user_dislike_attributes = np.random.choice(user_dislike_attributes, DISLIKE_NUM)\n",
    "    A = np.transpose(sub_user_dislike_attributes.reshape(1, -1))\n",
    "    B = np.repeat(b_c.reshape(1, -1), DISLIKE_NUM, axis=0)\n",
    "    #        print(A.ndim)\n",
    "    #        print(B.ndim)\n",
    "    samples = np.concatenate((A, B), axis=1)\n",
    "    #        print(samples)\n",
    "    train_counter_examples = np.concatenate((train_counter_examples, samples), axis=0)\n",
    "    #        print(train_counter_examples.size)\n",
    "    "
   ]
  },
  {
   "cell_type": "code",
   "execution_count": 8,
   "id": "2e8ae3e4-9650-4741-8aa3-4741b7c7fa9d",
   "metadata": {},
   "outputs": [
    {
     "name": "stdout",
     "output_type": "stream",
     "text": [
      "(70161,)\n",
      "(301,)\n",
      "(8,)\n",
      "(53,)\n",
      "(3,)\n",
      "(13,)\n",
      "(5,)\n",
      "(2,)\n",
      "(78,)\n"
     ]
    }
   ],
   "source": [
    "for i in range(9):\n",
    "    print(np.unique(train_counter_examples[:,i]).shape)"
   ]
  },
  {
   "cell_type": "code",
   "execution_count": 9,
   "id": "8d5a1d92-c83d-47f3-8d64-b08c8e2e4703",
   "metadata": {},
   "outputs": [],
   "source": [
    "np.save(\"train_counter_examples\", train_counter_examples)"
   ]
  }
 ],
 "metadata": {
  "kernelspec": {
   "display_name": "thesis",
   "language": "python",
   "name": "thesis"
  },
  "language_info": {
   "codemirror_mode": {
    "name": "ipython",
    "version": 3
   },
   "file_extension": ".py",
   "mimetype": "text/x-python",
   "name": "python",
   "nbconvert_exporter": "python",
   "pygments_lexer": "ipython3",
   "version": "3.8.10"
  }
 },
 "nbformat": 4,
 "nbformat_minor": 5
}
