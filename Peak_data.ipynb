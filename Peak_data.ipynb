{
 "cells": [
  {
   "cell_type": "code",
   "execution_count": 1,
   "id": "45b0db7f-bedb-4c90-970f-76fd2794eea0",
   "metadata": {},
   "outputs": [],
   "source": [
    "from orion_recommend.datasets import DatasetMap, synthetic, utils\n",
    "from orion.sources import S3Source\n",
    "from orion.sources.io import read_csv, write_csv\n",
    "from orion.sources import RedshiftSource\n",
    "import pandas as pd\n",
    "import numpy as np\n",
    "from scipy import sparse"
   ]
  },
  {
   "cell_type": "code",
   "execution_count": 126,
   "id": "e7e63de3-7c1d-4b73-98ea-f823312073d7",
   "metadata": {},
   "outputs": [
    {
     "name": "stderr",
     "output_type": "stream",
     "text": [
      "/home/declanbarrycbc1/thesis/lib/python3.8/site-packages/IPython/core/interactiveshell.py:3441: DtypeWarning: Columns (0,11) have mixed types.Specify dtype option on import or set low_memory=False.\n",
      "  exec(code_obj, self.user_global_ns, self.user_ns)\n"
     ]
    }
   ],
   "source": [
    "#source = RedshiftSource(query='SELECT * FROM publish.inventory_lookup WHERE productid IS NULL')\n",
    "#df_stock = source.read_csv()\n",
    "\n",
    "with S3Source(key=\"masters/uploads/customers/1560425511130_Peak_customers.csv\", bucket=\"kilimanjaro-prod-datalake\") as s3:\n",
    "    df_cust = read_csv(s3)\n",
    "\n",
    "df_trans = read_csv(S3Source(key=\"masters/uploads/transactions/1560426066385_Peak_transactions.csv\", bucket=\"kilimanjaro-prod-datalake\"))\n",
    "df_prod = read_csv(S3Source(key=\"masters/uploads/product/1560425499995_Peak_product.csv\", bucket=\"kilimanjaro-prod-datalake\"))\n"
   ]
  },
  {
   "cell_type": "code",
   "execution_count": 127,
   "id": "12a906f7-e668-4fed-97c9-3989ed909f06",
   "metadata": {},
   "outputs": [
    {
     "data": {
      "text/plain": [
       "0.5487752814984791"
      ]
     },
     "execution_count": 127,
     "metadata": {},
     "output_type": "execute_result"
    }
   ],
   "source": [
    "# 30pc of transactions have keys that are not in df_cust\n",
    "pd.Series(df_trans.customerkey.unique()).isin(df_cust.customerkey).sum()/len(df_trans.customerkey.unique())\n",
    "# 45pc of item numbers not in df_prod\n",
    "pd.Series(df_trans.itemnumber.unique()).isin(df_prod.itemnumber).sum()/len(df_trans.itemnumber.unique())"
   ]
  },
  {
   "cell_type": "code",
   "execution_count": 128,
   "id": "645e7e7d-34ec-4d7f-ab88-03ae02c2510a",
   "metadata": {},
   "outputs": [],
   "source": [
    "# Fix item number \n",
    "df_prod.itemnumber = pd.to_numeric(df_prod.itemnumber, errors='coerce') "
   ]
  },
  {
   "cell_type": "code",
   "execution_count": 129,
   "id": "1e2556fb-50f8-46b8-a4cb-d8478168d200",
   "metadata": {},
   "outputs": [],
   "source": [
    "# Drop nas\n",
    "df_prod.dropna(subset=[\"itemnumber\"], inplace=True)"
   ]
  },
  {
   "cell_type": "code",
   "execution_count": 131,
   "id": "6c916e2f-92b8-45b2-bfcc-d8e93e3898d7",
   "metadata": {
    "tags": []
   },
   "outputs": [],
   "source": [
    "# Remove keys not in customer and product tables\n",
    "df_trans = df_trans.iloc[df_trans.customerkey[df_trans.customerkey.isin(df_cust.customerkey)].index,:]\n",
    "df_trans.reset_index(inplace=True, drop=True)\n",
    "df_trans = df_trans.iloc[df_trans.itemnumber[df_trans.itemnumber.isin(df_prod.itemnumber)].index,:]\n",
    "\n",
    "# Reset index before changing keys to integers\n",
    "df_trans.reset_index(inplace=True, drop=True)\n",
    "df_prod.reset_index(inplace=True, drop=True)\n"
   ]
  },
  {
   "cell_type": "code",
   "execution_count": 132,
   "id": "ddf3a104-1262-4a99-9714-e95d54806353",
   "metadata": {},
   "outputs": [],
   "source": [
    "# Drop redundant cols. Fabric all unknown, item colour less info than colourvalue\n",
    "df_prod.drop([\"itemstylecode\", \"itemquarter\", \"itemcolour\", \"fabric\"], axis=1, inplace=True)"
   ]
  },
  {
   "cell_type": "code",
   "execution_count": 133,
   "id": "76a69a87-a359-417a-9259-edda2722e752",
   "metadata": {},
   "outputs": [],
   "source": [
    "# Drop columns\n",
    "df_trans.drop([\"salestransactionkey\", \"salesordernumber\",\"discountpercent\", \"grosssales\",\n",
    "              'orderdate', 'ordertime', 'shippingdate','grossprofit'], axis=1, inplace=True)"
   ]
  },
  {
   "cell_type": "code",
   "execution_count": 134,
   "id": "94efe28c-b201-4476-920f-fd1d338f3902",
   "metadata": {},
   "outputs": [],
   "source": [
    "df = df_trans.merge(df_cust, on='customerkey', how = \"outer\")\n",
    "df = df.merge(df_prod, on = \"itemnumber\")"
   ]
  },
  {
   "cell_type": "code",
   "execution_count": 157,
   "id": "2fd49d60-b02a-48f2-aa8c-f3ac7fde4d2f",
   "metadata": {},
   "outputs": [],
   "source": [
    "# Rename and drop columns, nas\n",
    "df.rename(columns={\"customerkey\":\"user_id\",\"itemnumber\":\"item_id\",\"shipcountry\":\"country\", \"brandcode\":\"brand_id\",\n",
    "                  \"colourvalue\":\"colour\", }, inplace=True)\n",
    "df.dropna(inplace=True)\n",
    "df.reset_index(inplace=True, drop=True)"
   ]
  },
  {
   "cell_type": "code",
   "execution_count": 158,
   "id": "112f016f-48a0-4f23-85ba-4632d2b3f2c4",
   "metadata": {},
   "outputs": [],
   "source": [
    "cats = df.select_dtypes('object').columns\n",
    "keys = df[cats].apply(lambda x: x.factorize()[1])\n",
    "df[cats] = df[cats].apply(lambda x: x.factorize()[0])"
   ]
  },
  {
   "cell_type": "code",
   "execution_count": 159,
   "id": "61802cb7-8b0f-46a2-9a07-19fb91c98192",
   "metadata": {},
   "outputs": [],
   "source": [
    "user_num = len(df.user_id.unique())\n",
    "item_num = len(df.item_id.unique())"
   ]
  },
  {
   "cell_type": "code",
   "execution_count": 160,
   "id": "728d2913-6d32-45b7-9d40-23772a7610aa",
   "metadata": {},
   "outputs": [],
   "source": [
    "# Renumber customer keys\n",
    "ints = [i for i in range(user_num)]\n",
    "cust_keys = [i for i in df.user_id.unique()]\n",
    "customer_key_dict = {i:j for i,j in zip( cust_keys, ints)}\n",
    "\n",
    "#Renumber item ids\n",
    "ints = [i for i in range(item_num)]\n",
    "item_keys = [i for i in df.item_id.unique()]\n",
    "item_key_dict = {i:j for i,j in zip( item_keys, ints)}"
   ]
  },
  {
   "cell_type": "code",
   "execution_count": 161,
   "id": "0467417b-5c55-4af9-ae6e-bc4e85d35f6b",
   "metadata": {
    "tags": []
   },
   "outputs": [],
   "source": [
    "# Change keys to integers in dataframes\n",
    "df.item_id = [item_key_dict[df.item_id[i]] for i in range(len(df))]\n",
    "df.user_id = [customer_key_dict[df.user_id[i]] for i in range(len(df))]\n"
   ]
  },
  {
   "cell_type": "code",
   "execution_count": 163,
   "id": "951390e6-6025-4b4b-a3e9-17284d77e9dc",
   "metadata": {},
   "outputs": [],
   "source": [
    "# Train-test split\n",
    "train = df.sample(frac = 0.8)\n",
    "ind = df.index.isin(train.index)\n",
    "test = df[~ind]"
   ]
  },
  {
   "cell_type": "code",
   "execution_count": 164,
   "id": "1faf1b3c-2f5a-442c-a8f2-b5e014bed61c",
   "metadata": {},
   "outputs": [],
   "source": [
    "USER_NUM = len(df.user_id.unique())\n",
    "country_num = len(df.country.unique())\n",
    "#postcode_num = len(df.postcode.unique())\t\n",
    "item_id_num = len(df.item_id.unique())\n",
    "pricetype_num = len(df.pricetype.unique())\n",
    "unitssold_num = len(df.unitssold.unique())\n",
    "loyaltyaccount_num = len(df.loyaltyaccount.unique())\n",
    "gender_num = len(df.gender.unique())\n",
    "brand_id_num = len(df.brand_id.unique())\n",
    "category_num = len(df.category.unique())\n",
    "colour_num = len(df.colour.unique())\n",
    "divisioncode_num = len(df.divisioncode.unique())\n",
    "itemcategorycode_num = len(df.itemcategorycode.unique())\n",
    "itemfamilycode_num = len(df.itemfamilycode.unique())\n",
    "itemseason_num = len(df.itemseason.unique())\n",
    "productgroup_num = len(df.productgroup.unique())"
   ]
  },
  {
   "cell_type": "code",
   "execution_count": 190,
   "id": "c597af75-5f33-450e-b5ff-a2a0e8d9a144",
   "metadata": {},
   "outputs": [
    {
     "name": "stdout",
     "output_type": "stream",
     "text": [
      "37130 2 15 2 3 335 8 59 3 13 7 3 78\n"
     ]
    }
   ],
   "source": [
    "print(item_id_num,\n",
    "pricetype_num,\n",
    "unitssold_num,\n",
    "loyaltyaccount_num,\n",
    "gender_num,\n",
    "brand_id_num,\n",
    "category_num,\n",
    "colour_num,\n",
    "divisioncode_num,\n",
    "itemcategorycode_num,\n",
    "itemfamilycode_num,\n",
    "itemseason_num,\n",
    "productgroup_num)"
   ]
  },
  {
   "cell_type": "code",
   "execution_count": 236,
   "id": "bb0d0f8d-7ead-48ee-9d9c-0d99066c8f29",
   "metadata": {},
   "outputs": [],
   "source": [
    "features = [ country_num, pricetype_num, loyaltyaccount_num,\n",
    "            gender_num, brand_id_num, category_num, colour_num, divisioncode_num, \n",
    "            itemcategorycode_num, itemfamilycode_num, itemseason_num, productgroup_num]\n",
    "names = ['country' ,'pricetype', 'loyaltyaccount', 'gender', 'brand_id',\n",
    "         'category', 'colour', 'divisioncode', 'itemcategorycode',\n",
    "         'itemfamilycode', 'itemseason', 'productgroup']\n",
    "dic = dict(zip(features,names))"
   ]
  },
  {
   "cell_type": "code",
   "execution_count": 237,
   "id": "001b126e-a727-4969-a362-507322e089d4",
   "metadata": {},
   "outputs": [
    {
     "name": "stdout",
     "output_type": "stream",
     "text": [
      "[1 0 0 0 0 0 0 0 0 0 0 0 0 0 0 0 0 0 0 0 0 0 0 0 0 0 0 0 0 0 0 0 0 0 0 0 0\n",
      " 0 0 0 0 0 0 0 0 0 0 0 0 0 0 0 0 0 0 0 0 0 0 0 0 0 0 0 0 0 0 0]\n",
      "[0 1]\n",
      "[1 1 0]\n",
      "[1 0 1 0 0 0 0 0 0 0 0 0 0 0 0 0 0 0 0 0 0 0 0 0 0 0 0 0 0 0 0 0 0 0 0 0 0\n",
      " 0 0 0 0 0 0 0 0 0 0 0 0 0 0 0 0 0 0 0 0 0 0 0 0 0 0 0 0 0 0 0 0 0 0 0 0 0\n",
      " 0 0 0 0 0 0 0 0 0 0 0 0 0 0 0 0 0 0 0 0 0 0 0 0 0 0 0 0 0 0 0 0 0 0 0 0 0\n",
      " 0 0 0 0 0 0 0 0 0 0 0 0 0 0 0 0 0 0 0 0 0 0 0 0 0 0 0 0 0 0 0 0 0 0 0 0 0\n",
      " 0 0 0 0 0 0 0 0 0 0 0 0 0 0 0 0 0 0 0 0 0 0 0 0 0 0 0 0 0 0 0 0 0 0 0 0 0\n",
      " 0 0 0 0 0 0 0 0 0 0 0 0 0 0 0 0 0 0 0 0 0 0 0 0 0 0 0 0 0 0 0 0 0 0 0 0 0\n",
      " 0 0 0 0 0 0 0 0 0 0 0 0 0 0 0 0 0 0 0 0 0 0 0 0 0 0 0 0 0 0 0 0 0 0 0 0 0\n",
      " 0 0 0 0 0 0 0 0 0 0 0 0 0 0 0 0 0 0 0 0 0 0 0 0 0 0 0 0 0 0 0 0 0 0 0 0 0\n",
      " 0 0 0 0 0 0 0 0 0 0 0 0 0 0 0 0 0 0 0 0 0 0 0 0 0 0 0 0 0 0 0 0 0 0 0 0 0\n",
      " 0 0]\n",
      "[1 1 0 0 0 0 0 0]\n",
      "[1 0 1 0 0 0 0 0 0 0 0 0 0 0 0 0 0 0 0 0 0 0 0 0 0 0 0 0 0 0 0 0 0 0 0 0 0\n",
      " 0 0 0 0 0 0 0 0 0 0 0 0 0 0 0 0 0 0 0 0 0 0]\n",
      "[1 1 0 0 0 0 0 0 0 0 0 0 0]\n",
      "[1 0 0 0 0 0 0]\n",
      "[1 0 1 0 0 0 0 0 0 0 0 0 0 0 0 0 0 0 0 0 0 0 0 0 0 0 0 0 0 0 0 0 0 0 0 0 0\n",
      " 0 0 0 0 0 0 0 0 0 0 0 0 0 0 0 0 0 0 0 0 0 0 0 0 0 0 0 0 0 0 0 0 0 0 0 0 0\n",
      " 0 0 0 0]\n"
     ]
    }
   ],
   "source": [
    "matrices = []\n",
    "for i in dic.keys():\n",
    "    mat = np.zeros((USER_NUM, i), dtype = np.int)    \n",
    "    pair = df.loc[:,[\"user_id\", dic[i]]]\n",
    "    M = np.unique(pair, axis=0)\n",
    "    for m in M:\n",
    "        mat[m[0], m[1]] = 1\n",
    "    print(mat[1])\n",
    "    matrices.append(mat)"
   ]
  },
  {
   "cell_type": "code",
   "execution_count": 238,
   "id": "7b5f9348-2b62-4168-930a-8c8669341311",
   "metadata": {},
   "outputs": [],
   "source": [
    "fa_matrix = np.concatenate((matrices), axis=1)"
   ]
  },
  {
   "cell_type": "code",
   "execution_count": 239,
   "id": "2b36eb1f-d6a6-468e-95d5-d7b9cf4a1e36",
   "metadata": {},
   "outputs": [],
   "source": [
    "np.save('fa_matrix.npy', fa_matrix)"
   ]
  }
 ],
 "metadata": {
  "kernelspec": {
   "display_name": "thesis",
   "language": "python",
   "name": "thesis"
  },
  "language_info": {
   "codemirror_mode": {
    "name": "ipython",
    "version": 3
   },
   "file_extension": ".py",
   "mimetype": "text/x-python",
   "name": "python",
   "nbconvert_exporter": "python",
   "pygments_lexer": "ipython3",
   "version": "3.8.10"
  }
 },
 "nbformat": 4,
 "nbformat_minor": 5
}
