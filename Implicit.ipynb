{
 "cells": [
  {
   "cell_type": "code",
   "execution_count": 1,
   "id": "a0517bb8-564c-422d-b43e-843f8902caff",
   "metadata": {},
   "outputs": [],
   "source": [
    "import implicit\n",
    "import lightfm\n",
    "import pandas as pd \n",
    "import numpy as np\n",
    "from implicit.bpr import BayesianPersonalizedRanking as BPR\n",
    "from scipy import sparse\n",
    "import orion_recommend\n",
    "from orion_recommend.evaluate import metrics\n",
    "import lightfm"
   ]
  },
  {
   "cell_type": "code",
   "execution_count": 31,
   "id": "4aef5b5c-69c7-423e-b619-6949d880eba2",
   "metadata": {},
   "outputs": [],
   "source": [
    "train_np = np.load(\"new_fa_train_data.npy\")\n",
    "test_np = np.load(\"new_fa_test_data.npy\")"
   ]
  },
  {
   "cell_type": "code",
   "execution_count": 3,
   "id": "a35c1f87-4ede-4fb4-8e1b-12ea8566fe18",
   "metadata": {},
   "outputs": [],
   "source": [
    "ui_matrix = np.load(\"fa_ui_matrix.npy\")"
   ]
  },
  {
   "cell_type": "code",
   "execution_count": 4,
   "id": "0e80428f-b595-42a0-bd7c-b62af35ebee6",
   "metadata": {},
   "outputs": [],
   "source": [
    "ua_matrix = np.load(\"new_fa_ua_matrix.npy\")"
   ]
  },
  {
   "cell_type": "code",
   "execution_count": 5,
   "id": "b1ead648-e1ad-4d99-979d-a31d4f2a161f",
   "metadata": {},
   "outputs": [],
   "source": [
    "from lightfm import cross_validation"
   ]
  },
  {
   "cell_type": "code",
   "execution_count": 6,
   "id": "673bc3e2-dc17-4021-b201-93d0e5cf7e85",
   "metadata": {},
   "outputs": [],
   "source": [
    "train, test = cross_validation.random_train_test_split(sparse.coo_matrix(ui_matrix), test_percentage=0.2, random_state=None)"
   ]
  },
  {
   "cell_type": "code",
   "execution_count": 7,
   "id": "3e17b045-bb2d-44b6-a7d2-0177c0f4400f",
   "metadata": {},
   "outputs": [],
   "source": [
    "user_features = np.load(\"user_attributes_npc.npy\")"
   ]
  },
  {
   "cell_type": "code",
   "execution_count": 8,
   "id": "7c157db8-fdd3-428a-b1bf-acaa6009da70",
   "metadata": {},
   "outputs": [
    {
     "data": {
      "text/plain": [
       "(86297, 60)"
      ]
     },
     "execution_count": 8,
     "metadata": {},
     "output_type": "execute_result"
    }
   ],
   "source": [
    "user_features.shape"
   ]
  },
  {
   "cell_type": "code",
   "execution_count": 9,
   "id": "c2a20fc6-2ad5-474a-ba8b-383db90924b5",
   "metadata": {},
   "outputs": [],
   "source": [
    "user_features = sparse.coo_matrix(user_features)"
   ]
  },
  {
   "cell_type": "code",
   "execution_count": 10,
   "id": "1099550b-ae69-4ee4-8cdc-9fb348bc60c1",
   "metadata": {},
   "outputs": [
    {
     "data": {
      "text/plain": [
       "(86297, 60)"
      ]
     },
     "execution_count": 10,
     "metadata": {},
     "output_type": "execute_result"
    }
   ],
   "source": [
    "user_features.shape"
   ]
  },
  {
   "cell_type": "code",
   "execution_count": 11,
   "id": "6cb2e443-2bf9-4270-a199-6986abd583d5",
   "metadata": {},
   "outputs": [],
   "source": [
    "item_features = np.load(\"new_fa_ia_matrix.npy\")"
   ]
  },
  {
   "cell_type": "code",
   "execution_count": 12,
   "id": "43be3f28-c471-45c3-a0df-6fa1adb4da21",
   "metadata": {},
   "outputs": [],
   "source": [
    "item_features = sparse.coo_matrix(item_features)"
   ]
  },
  {
   "cell_type": "code",
   "execution_count": 13,
   "id": "eadb61cf-4f6a-42cc-a5b2-15672d4bac72",
   "metadata": {},
   "outputs": [
    {
     "data": {
      "text/plain": [
       "<lightfm.lightfm.LightFM at 0x7ff10a042820>"
      ]
     },
     "execution_count": 13,
     "metadata": {},
     "output_type": "execute_result"
    }
   ],
   "source": [
    "from lightfm import LightFM\n",
    "from lightfm.evaluation import precision_at_k, recall_at_k\n",
    "\n",
    "\n",
    "# Instantiate and train the model\n",
    "model = LightFM(loss='warp')\n",
    "model.fit(train, user_features = user_features,\n",
    "          item_features=item_features, epochs=100)"
   ]
  },
  {
   "cell_type": "code",
   "execution_count": 14,
   "id": "70d0bd44-0844-46f1-88a5-2b4c3d9c08f9",
   "metadata": {},
   "outputs": [],
   "source": [
    "mf = BPR()"
   ]
  },
  {
   "cell_type": "code",
   "execution_count": 15,
   "id": "28437afd-1fc5-4484-ad0d-617eb344b1e7",
   "metadata": {},
   "outputs": [
    {
     "data": {
      "application/vnd.jupyter.widget-view+json": {
       "model_id": "fd05a5204d3243ee90043da5dc75ae43",
       "version_major": 2,
       "version_minor": 0
      },
      "text/plain": [
       "  0%|          | 0/100 [00:00<?, ?it/s]"
      ]
     },
     "metadata": {},
     "output_type": "display_data"
    }
   ],
   "source": [
    "mf.fit(train)"
   ]
  },
  {
   "cell_type": "code",
   "execution_count": 21,
   "id": "e6ede7b2-3c9b-43e5-b8fc-c3265fa55d1a",
   "metadata": {},
   "outputs": [
    {
     "data": {
      "text/plain": [
       "<lightfm.lightfm.LightFM at 0x7ff01c7e2850>"
      ]
     },
     "execution_count": 21,
     "metadata": {},
     "output_type": "execute_result"
    }
   ],
   "source": [
    "mf1 = LightFM(loss='bpr')\n",
    "mf1.fit(train, epochs=100)"
   ]
  },
  {
   "cell_type": "code",
   "execution_count": null,
   "id": "90e95a5a-33cb-472a-a7f4-5989accaa4a7",
   "metadata": {},
   "outputs": [],
   "source": [
    "rec_dic = {}\n",
    "n=10\n",
    "for u in user_list:\n",
    "    user_preds = np.empty(shape=ui_matrix.shape[1])\n",
    "    for i in range(ui_matrix.shape[1]):\n",
    "        user_preds[i] = (mf1.predict(np.array([u]),np.array([i])))\n",
    "    top_n = np.argsort(user_preds)[-n:]\n",
    "    rec_dic[u] = top_n "
   ]
  },
  {
   "cell_type": "code",
   "execution_count": null,
   "id": "647e0ba4-731d-47b7-84ff-9878d75bfbef",
   "metadata": {},
   "outputs": [],
   "source": [
    "def metrics_user_rec(item, sim_users, k):\n",
    "    count = 0\n",
    "    for i, user_list in zip(item, sim_users):       \n",
    "        for u in user_list:\n",
    "            if ui_matrix[u,i] == 1:\n",
    "                count = count + 1            \n",
    "    p_at_k = round(count/(item.shape[0] * k), 4)\n",
    "\n",
    "    RS = []\n",
    "    ans = 0.0\n",
    "    for i, user_list in zip(item, sim_users):           \n",
    "        r=[]\n",
    "        for u in user_list:\n",
    "             r.append(ui_matrix[u][i])\n",
    "        ans = ans + evall.ndcg_at_k(r, k, method=1)\n",
    "        RS.append(r)\n",
    "    G_at_k = ans/item.shape[0]\n",
    "    M_at_k = evall.mean_average_precision(RS)\n",
    "    return p_at_k, G_at_k, M_at_k\n",
    "\n",
    "def metrics_item_rec(user, sim_items, k):\n",
    "    count = 0\n",
    "    for u, item_list in zip(user, sim_items):       \n",
    "        for i in item_list:\n",
    "            if ui_matrix[u,i] == 1:\n",
    "                count = count + 1            \n",
    "    p_at_k = round(count/(user.shape[0] * k), 4)\n",
    "\n",
    "    RS = []\n",
    "    ans = 0.0\n",
    "    for u, item_list in zip(user, sim_items):           \n",
    "        r=[]\n",
    "        for i in item_list:\n",
    "             r.append(ui_matrix[u][i])\n",
    "        ans = ans + evall.ndcg_at_k(r, k, method=1)\n",
    "        RS.append(r)\n",
    "    G_at_k = ans/user.shape[0]\n",
    "    M_at_k = evall.mean_average_precision(RS)\n",
    "    return p_at_k, G_at_k, M_at_k\n"
   ]
  },
  {
   "cell_type": "code",
   "execution_count": 24,
   "id": "663522b7-761d-4219-a6cf-cadb69b50dd2",
   "metadata": {},
   "outputs": [
    {
     "name": "stdout",
     "output_type": "stream",
     "text": [
      "0.00010805554\n",
      "0.072156735\n",
      "0.001026527635204495\n"
     ]
    }
   ],
   "source": [
    "# Evaluate the trained model\n",
    "test_precision = precision_at_k(mf1, test,  k=10)\n",
    "\n",
    "print(test_precision.mean())\n",
    "\n",
    "train_precision = precision_at_k(mf1, train,  k=10)\n",
    "\n",
    "print(train_precision.mean())\n",
    "\n",
    "print(recall_at_k(mf1,test,  k=10).mean())"
   ]
  },
  {
   "cell_type": "code",
   "execution_count": 97,
   "id": "f5d90f98-a6cf-4b35-9e14-46fc519d7403",
   "metadata": {},
   "outputs": [],
   "source": [
    "# Evaluate the trained model\n",
    "test_precision = precision_at_k(model, test, user_features=item_features,\n",
    "          item_features=user_features,  k=10)\n",
    "\n",
    "test_precision.mean()"
   ]
  },
  {
   "cell_type": "code",
   "execution_count": 99,
   "id": "0acd6f4a-7c3d-4dc0-8739-833f7a714922",
   "metadata": {},
   "outputs": [],
   "source": [
    "train_precision = precision_at_k(model, train, user_features=item_features,\n",
    "          item_features=user_features,  k=10)\n",
    "\n",
    "train_precision.mean()"
   ]
  },
  {
   "cell_type": "code",
   "execution_count": 100,
   "id": "d858a83f-a820-41d8-80da-a2bc0be18b83",
   "metadata": {},
   "outputs": [
    {
     "data": {
      "text/plain": [
       "3.1094527363184084e-05"
      ]
     },
     "execution_count": 100,
     "metadata": {},
     "output_type": "execute_result"
    }
   ],
   "source": [
    "recall_at_k(model,test, user_features=item_features,\n",
    "          item_features = user_features,  k=10).mean()"
   ]
  }
 ],
 "metadata": {
  "kernelspec": {
   "display_name": "thesis",
   "language": "python",
   "name": "thesis"
  },
  "language_info": {
   "codemirror_mode": {
    "name": "ipython",
    "version": 3
   },
   "file_extension": ".py",
   "mimetype": "text/x-python",
   "name": "python",
   "nbconvert_exporter": "python",
   "pygments_lexer": "ipython3",
   "version": "3.8.10"
  }
 },
 "nbformat": 4,
 "nbformat_minor": 5
}
