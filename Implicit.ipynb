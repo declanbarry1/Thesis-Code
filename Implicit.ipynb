{
 "cells": [
  {
   "cell_type": "code",
   "execution_count": 2,
   "id": "a0517bb8-564c-422d-b43e-843f8902caff",
   "metadata": {},
   "outputs": [],
   "source": [
    "import implicit\n",
    "import lightfm\n",
    "import pandas as pd \n",
    "import numpy as np\n",
    "from implicit.bpr import BayesianPersonalizedRanking as BPR\n",
    "from scipy import sparse\n",
    "import orion_recommend\n",
    "from orion_recommend.evaluate import metrics\n",
    "import lightfm"
   ]
  },
  {
   "cell_type": "code",
   "execution_count": 2,
   "id": "7d6ebdc8-996b-4457-8308-9a14e8045686",
   "metadata": {},
   "outputs": [],
   "source": [
    "users = pd.read_csv(\"users\", index_col = 0)\n",
    "items = pd.read_csv(\"items\", index_col = 0)\n",
    "interactions = pd.read_csv(\"interactions\", index_col = 0)"
   ]
  },
  {
   "cell_type": "code",
   "execution_count": 3,
   "id": "4aef5b5c-69c7-423e-b619-6949d880eba2",
   "metadata": {},
   "outputs": [],
   "source": [
    "train = np.load(\"new_fa_train_data.npy\")\n",
    "test = np.load(\"new_fa_test_data.npy\")"
   ]
  },
  {
   "cell_type": "code",
   "execution_count": 4,
   "id": "a35c1f87-4ede-4fb4-8e1b-12ea8566fe18",
   "metadata": {},
   "outputs": [],
   "source": [
    "ui_matrix = np.load(\"fa_ui_matrix.npy\")"
   ]
  },
  {
   "cell_type": "code",
   "execution_count": 5,
   "id": "0e80428f-b595-42a0-bd7c-b62af35ebee6",
   "metadata": {},
   "outputs": [],
   "source": [
    "ua_matrix = np.load(\"new_fa_ua_matrix.npy\")"
   ]
  },
  {
   "cell_type": "code",
   "execution_count": 6,
   "id": "0c5e9987-77f6-41e0-a241-02cfd3907670",
   "metadata": {},
   "outputs": [
    {
     "data": {
      "text/plain": [
       "(86317, 471)"
      ]
     },
     "execution_count": 6,
     "metadata": {},
     "output_type": "execute_result"
    }
   ],
   "source": [
    "ua_matrix.shape"
   ]
  },
  {
   "cell_type": "markdown",
   "id": "f08d8734-c1fe-4c1c-b725-3bd73e8081d5",
   "metadata": {},
   "source": [
    "### Using user-item matrix\n"
   ]
  },
  {
   "cell_type": "code",
   "execution_count": 7,
   "id": "74c70c16-a071-4340-aa13-b142023824c9",
   "metadata": {},
   "outputs": [
    {
     "data": {
      "text/plain": [
       "((86317, 10392), (76163, 15), (19041, 15))"
      ]
     },
     "execution_count": 7,
     "metadata": {},
     "output_type": "execute_result"
    }
   ],
   "source": [
    "ui_matrix.shape, train.shape, test.shape"
   ]
  },
  {
   "cell_type": "code",
   "execution_count": 8,
   "id": "33facdba-ad93-441a-97a7-cde760a427c2",
   "metadata": {},
   "outputs": [],
   "source": [
    "test_users = np.unique(test[:,0])\n",
    "train_users = np.unique(train[:,0])"
   ]
  },
  {
   "cell_type": "code",
   "execution_count": 9,
   "id": "0e2d2e60-769e-44fa-a83d-5659f7266c08",
   "metadata": {},
   "outputs": [],
   "source": [
    "test_items = np.unique(test[:,3])\n",
    "train_items = np.unique(train[:,3])"
   ]
  },
  {
   "cell_type": "code",
   "execution_count": 10,
   "id": "99b65c4b-2197-4ca6-83eb-cda6a199b89e",
   "metadata": {},
   "outputs": [
    {
     "data": {
      "text/plain": [
       "((18645,), (70196,))"
      ]
     },
     "execution_count": 10,
     "metadata": {},
     "output_type": "execute_result"
    }
   ],
   "source": [
    "test_users.shape, train_users.shape"
   ]
  },
  {
   "cell_type": "code",
   "execution_count": 11,
   "id": "ea85be9f-b354-40b2-8a3c-e21dd5c9d6a5",
   "metadata": {},
   "outputs": [
    {
     "data": {
      "text/plain": [
       "((6452,), (9989,))"
      ]
     },
     "execution_count": 11,
     "metadata": {},
     "output_type": "execute_result"
    }
   ],
   "source": [
    "test_items.shape, train_items.shape"
   ]
  },
  {
   "cell_type": "code",
   "execution_count": 12,
   "id": "53eaf7c0-852f-4fb9-b038-5fc26723fc80",
   "metadata": {},
   "outputs": [],
   "source": [
    "intersection_users = np.intersect1d(train_users,test_users)\n",
    "intersection_items =  np.intersect1d(train_items,test_items)"
   ]
  },
  {
   "cell_type": "code",
   "execution_count": 13,
   "id": "46d8b0ec-c6aa-40e5-bdb2-58fe396b5ba3",
   "metadata": {},
   "outputs": [],
   "source": [
    "ind_users = pd.Series(test_users).isin(intersection_users)\n",
    "ind_items = pd.Series(test_items).isin(intersection_items)"
   ]
  },
  {
   "cell_type": "code",
   "execution_count": 14,
   "id": "f572e9c1-c1b6-4bb3-b4a7-90eec8f50845",
   "metadata": {},
   "outputs": [],
   "source": [
    "test_users = test_users[~ind_users]\n",
    "test_items = test_items[~ind_items]"
   ]
  },
  {
   "cell_type": "code",
   "execution_count": 15,
   "id": "366a7384-eaf1-4def-83a9-6990d3a9f872",
   "metadata": {},
   "outputs": [
    {
     "data": {
      "text/plain": [
       "True"
      ]
     },
     "execution_count": 15,
     "metadata": {},
     "output_type": "execute_result"
    }
   ],
   "source": [
    "test_users.shape[0] + train_users.shape[0] - ui_matrix.shape[0] == 0"
   ]
  },
  {
   "cell_type": "code",
   "execution_count": 16,
   "id": "f250ddef-e200-4a26-a106-2b0c617a64c9",
   "metadata": {},
   "outputs": [
    {
     "data": {
      "text/plain": [
       "True"
      ]
     },
     "execution_count": 16,
     "metadata": {},
     "output_type": "execute_result"
    }
   ],
   "source": [
    "test_items.shape[0] + train_items.shape[0] - ui_matrix.shape[1] == 0"
   ]
  },
  {
   "cell_type": "code",
   "execution_count": 17,
   "id": "6c513549-612a-484a-b3b2-87e130a4ce50",
   "metadata": {},
   "outputs": [],
   "source": [
    "ui_train = ui_matrix[train_users]\n",
    "ui_test = ui_matrix[test_users]"
   ]
  },
  {
   "cell_type": "code",
   "execution_count": 18,
   "id": "395f82d7-a1d3-482a-9993-29dc8643887c",
   "metadata": {},
   "outputs": [],
   "source": [
    "iu_train = ui_matrix.T[train_items]\n",
    "iu_test = ui_matrix.T[test_items]"
   ]
  },
  {
   "cell_type": "code",
   "execution_count": 19,
   "id": "6df7eba6-8d82-4623-86f5-99f0f1e6f666",
   "metadata": {},
   "outputs": [
    {
     "data": {
      "text/plain": [
       "((70196, 10392), (16121, 10392))"
      ]
     },
     "execution_count": 19,
     "metadata": {},
     "output_type": "execute_result"
    }
   ],
   "source": [
    "ui_train.shape, ui_test.shape"
   ]
  },
  {
   "cell_type": "code",
   "execution_count": 20,
   "id": "fab7c830-7aff-453f-8927-d46d8b4ae415",
   "metadata": {},
   "outputs": [],
   "source": [
    "train_sparse = sparse.coo_matrix(ui_train)\n",
    "test_sparse = sparse.coo_matrix(ui_test)"
   ]
  },
  {
   "cell_type": "code",
   "execution_count": 21,
   "id": "436f4726-8102-433c-ac0f-25673fd1637d",
   "metadata": {},
   "outputs": [
    {
     "data": {
      "text/plain": [
       "(16121, 10392)"
      ]
     },
     "execution_count": 21,
     "metadata": {},
     "output_type": "execute_result"
    }
   ],
   "source": [
    "test_sparse.shape"
   ]
  },
  {
   "cell_type": "code",
   "execution_count": 22,
   "id": "7c07bee9-2a58-4942-981a-1b21f3f7a461",
   "metadata": {},
   "outputs": [
    {
     "data": {
      "text/plain": [
       "(70196, 10392)"
      ]
     },
     "execution_count": 22,
     "metadata": {},
     "output_type": "execute_result"
    }
   ],
   "source": [
    "train_sparse.shape"
   ]
  },
  {
   "cell_type": "markdown",
   "id": "f5574dd6-b2f6-4743-9e9f-d1c59a43aa95",
   "metadata": {},
   "source": [
    "### User-Attribute"
   ]
  },
  {
   "cell_type": "code",
   "execution_count": 23,
   "id": "abf09887-6832-4b24-b8e7-438e4d0f3845",
   "metadata": {},
   "outputs": [
    {
     "data": {
      "text/plain": [
       "((86317, 471), (76163, 15), (19041, 15))"
      ]
     },
     "execution_count": 23,
     "metadata": {},
     "output_type": "execute_result"
    }
   ],
   "source": [
    "ua_matrix.shape, train.shape, test.shape"
   ]
  },
  {
   "cell_type": "code",
   "execution_count": 24,
   "id": "74347408-5731-4abe-baaa-17f213aa5e02",
   "metadata": {},
   "outputs": [],
   "source": [
    "test_users = np.unique(test[:,0])\n",
    "train_users = np.unique(train[:,0])"
   ]
  },
  {
   "cell_type": "code",
   "execution_count": 25,
   "id": "5e200bff-edff-43ed-85e6-d35bac439c52",
   "metadata": {},
   "outputs": [],
   "source": [
    "test_items = np.unique(test[:,3])\n",
    "train_items = np.unique(train[:,3])"
   ]
  },
  {
   "cell_type": "code",
   "execution_count": 26,
   "id": "17f93bb3-0aaa-4167-b069-c7e663abdf5c",
   "metadata": {},
   "outputs": [
    {
     "data": {
      "text/plain": [
       "((18645,), (70196,))"
      ]
     },
     "execution_count": 26,
     "metadata": {},
     "output_type": "execute_result"
    }
   ],
   "source": [
    "test_users.shape, train_users.shape"
   ]
  },
  {
   "cell_type": "code",
   "execution_count": 27,
   "id": "6fa1d8ef-02a5-4a26-833d-870474553293",
   "metadata": {},
   "outputs": [
    {
     "data": {
      "text/plain": [
       "((6452,), (9989,))"
      ]
     },
     "execution_count": 27,
     "metadata": {},
     "output_type": "execute_result"
    }
   ],
   "source": [
    "test_items.shape, train_items.shape"
   ]
  },
  {
   "cell_type": "code",
   "execution_count": 28,
   "id": "38433901-d5e4-4fa3-8db4-57b16a11026c",
   "metadata": {},
   "outputs": [
    {
     "data": {
      "text/plain": [
       "False"
      ]
     },
     "execution_count": 28,
     "metadata": {},
     "output_type": "execute_result"
    }
   ],
   "source": [
    "test_users.shape[0] + train_users.shape[0] - ua_matrix.shape[0] == 0"
   ]
  },
  {
   "cell_type": "code",
   "execution_count": 29,
   "id": "865e1397-5e8e-448b-a8e8-680af3f31517",
   "metadata": {},
   "outputs": [],
   "source": [
    "ua_train = ua_matrix[train_users]\n",
    "ua_test = ua_matrix[test_users]"
   ]
  },
  {
   "cell_type": "code",
   "execution_count": 30,
   "id": "a21a5fb4-8ffe-489d-a945-4672f9e94dcd",
   "metadata": {},
   "outputs": [
    {
     "data": {
      "text/plain": [
       "((70196, 471), (18645, 471))"
      ]
     },
     "execution_count": 30,
     "metadata": {},
     "output_type": "execute_result"
    }
   ],
   "source": [
    "ua_train.shape, ua_test.shape"
   ]
  },
  {
   "cell_type": "code",
   "execution_count": 31,
   "id": "e0f4d33b-b86d-4c1a-8f47-0fe691f5ecf7",
   "metadata": {},
   "outputs": [],
   "source": [
    "train_sparse = sparse.coo_matrix(ua_train)\n",
    "test_sparse = sparse.coo_matrix(ua_test)"
   ]
  },
  {
   "cell_type": "code",
   "execution_count": 32,
   "id": "79cad0dd-632b-4b2a-929d-e8cffb601a39",
   "metadata": {},
   "outputs": [
    {
     "data": {
      "text/plain": [
       "(18645, 471)"
      ]
     },
     "execution_count": 32,
     "metadata": {},
     "output_type": "execute_result"
    }
   ],
   "source": [
    "test_sparse.shape"
   ]
  },
  {
   "cell_type": "code",
   "execution_count": 33,
   "id": "1d96915c-cb41-4c09-a707-ef7ce9bb74d8",
   "metadata": {},
   "outputs": [
    {
     "data": {
      "text/plain": [
       "(70196, 471)"
      ]
     },
     "execution_count": 33,
     "metadata": {},
     "output_type": "execute_result"
    }
   ],
   "source": [
    "train_sparse.shape"
   ]
  },
  {
   "cell_type": "code",
   "execution_count": 34,
   "id": "b1ead648-e1ad-4d99-979d-a31d4f2a161f",
   "metadata": {},
   "outputs": [],
   "source": [
    "from lightfm import cross_validation"
   ]
  },
  {
   "cell_type": "code",
   "execution_count": 35,
   "id": "673bc3e2-dc17-4021-b201-93d0e5cf7e85",
   "metadata": {},
   "outputs": [],
   "source": [
    "train, test = cross_validation.random_train_test_split(sparse.coo_matrix(ui_matrix), test_percentage=0.2, random_state=None)"
   ]
  },
  {
   "cell_type": "code",
   "execution_count": 10,
   "id": "3e17b045-bb2d-44b6-a7d2-0177c0f4400f",
   "metadata": {},
   "outputs": [],
   "source": [
    "user_features = np.load(\"user_attributes_npc.npy\")"
   ]
  },
  {
   "cell_type": "code",
   "execution_count": 11,
   "id": "7c157db8-fdd3-428a-b1bf-acaa6009da70",
   "metadata": {},
   "outputs": [
    {
     "data": {
      "text/plain": [
       "(86297, 60)"
      ]
     },
     "execution_count": 11,
     "metadata": {},
     "output_type": "execute_result"
    }
   ],
   "source": [
    "user_features.shape"
   ]
  },
  {
   "cell_type": "code",
   "execution_count": 12,
   "id": "c2a20fc6-2ad5-474a-ba8b-383db90924b5",
   "metadata": {},
   "outputs": [],
   "source": [
    "user_features = sparse.coo_matrix(user_features)"
   ]
  },
  {
   "cell_type": "code",
   "execution_count": 13,
   "id": "1099550b-ae69-4ee4-8cdc-9fb348bc60c1",
   "metadata": {},
   "outputs": [
    {
     "data": {
      "text/plain": [
       "(86297, 60)"
      ]
     },
     "execution_count": 13,
     "metadata": {},
     "output_type": "execute_result"
    }
   ],
   "source": [
    "user_features.shape"
   ]
  },
  {
   "cell_type": "code",
   "execution_count": 14,
   "id": "6cb2e443-2bf9-4270-a199-6986abd583d5",
   "metadata": {},
   "outputs": [],
   "source": [
    "item_features = np.load(\"new_fa_ia_matrix.npy\")"
   ]
  },
  {
   "cell_type": "code",
   "execution_count": 16,
   "id": "43be3f28-c471-45c3-a0df-6fa1adb4da21",
   "metadata": {},
   "outputs": [],
   "source": [
    "item_features = sparse.coo_matrix(item_features)"
   ]
  },
  {
   "cell_type": "code",
   "execution_count": 17,
   "id": "eadb61cf-4f6a-42cc-a5b2-15672d4bac72",
   "metadata": {},
   "outputs": [
    {
     "ename": "NameError",
     "evalue": "name 'train' is not defined",
     "output_type": "error",
     "traceback": [
      "\u001b[0;31m---------------------------------------------------------------------------\u001b[0m",
      "\u001b[0;31mNameError\u001b[0m                                 Traceback (most recent call last)",
      "\u001b[0;32m<ipython-input-17-f64c649da4e3>\u001b[0m in \u001b[0;36m<module>\u001b[0;34m\u001b[0m\n\u001b[1;32m      5\u001b[0m \u001b[0;31m# Instantiate and train the model\u001b[0m\u001b[0;34m\u001b[0m\u001b[0;34m\u001b[0m\u001b[0;34m\u001b[0m\u001b[0m\n\u001b[1;32m      6\u001b[0m \u001b[0mmodel\u001b[0m \u001b[0;34m=\u001b[0m \u001b[0mLightFM\u001b[0m\u001b[0;34m(\u001b[0m\u001b[0mloss\u001b[0m\u001b[0;34m=\u001b[0m\u001b[0;34m'warp'\u001b[0m\u001b[0;34m)\u001b[0m\u001b[0;34m\u001b[0m\u001b[0;34m\u001b[0m\u001b[0m\n\u001b[0;32m----> 7\u001b[0;31m model.fit(train, \n\u001b[0m\u001b[1;32m      8\u001b[0m           item_features=item_features, epochs=30)\n",
      "\u001b[0;31mNameError\u001b[0m: name 'train' is not defined"
     ]
    }
   ],
   "source": [
    "from lightfm import LightFM\n",
    "from lightfm.evaluation import precision_at_k, recall_at_k\n",
    "\n",
    "\n",
    "# Instantiate and train the model\n",
    "model = LightFM(loss='warp')\n",
    "model.fit(train, \n",
    "          item_features=item_features, epochs=30)"
   ]
  },
  {
   "cell_type": "code",
   "execution_count": 49,
   "id": "bc4f9d56-67fd-4811-a9ae-1610b29483fe",
   "metadata": {},
   "outputs": [],
   "source": [
    "# Evaluate the trained model\n",
    "test_precision = precision_at_k(model, test,train,\n",
    "          item_features=item_features,  k=10)"
   ]
  },
  {
   "cell_type": "code",
   "execution_count": 54,
   "id": "4ab4178e-3651-46c7-b3f2-cd16884b8c42",
   "metadata": {},
   "outputs": [
    {
     "data": {
      "text/plain": [
       "0.0002973455"
      ]
     },
     "execution_count": 54,
     "metadata": {},
     "output_type": "execute_result"
    }
   ],
   "source": [
    "test_precision.mean()"
   ]
  },
  {
   "cell_type": "code",
   "execution_count": 52,
   "id": "dd44e257-fd78-491d-b746-f76b690bed08",
   "metadata": {},
   "outputs": [],
   "source": [
    "train_precision = precision_at_k(model, train, \n",
    "          item_features=item_features,  k=10)"
   ]
  },
  {
   "cell_type": "code",
   "execution_count": 53,
   "id": "51592613-de7f-4358-99b7-8eee564486e7",
   "metadata": {},
   "outputs": [
    {
     "data": {
      "text/plain": [
       "0.035814065"
      ]
     },
     "execution_count": 53,
     "metadata": {},
     "output_type": "execute_result"
    }
   ],
   "source": [
    "train_precision.mean()"
   ]
  },
  {
   "cell_type": "code",
   "execution_count": 60,
   "id": "d858a83f-a820-41d8-80da-a2bc0be18b83",
   "metadata": {},
   "outputs": [
    {
     "data": {
      "text/plain": [
       "0.2915999087721299"
      ]
     },
     "execution_count": 60,
     "metadata": {},
     "output_type": "execute_result"
    }
   ],
   "source": [
    "recall_at_k(model,train,\n",
    "          item_features = item_features,  k=10).mean()"
   ]
  }
 ],
 "metadata": {
  "kernelspec": {
   "display_name": "thesis",
   "language": "python",
   "name": "thesis"
  },
  "language_info": {
   "codemirror_mode": {
    "name": "ipython",
    "version": 3
   },
   "file_extension": ".py",
   "mimetype": "text/x-python",
   "name": "python",
   "nbconvert_exporter": "python",
   "pygments_lexer": "ipython3",
   "version": "3.8.10"
  }
 },
 "nbformat": 4,
 "nbformat_minor": 5
}
