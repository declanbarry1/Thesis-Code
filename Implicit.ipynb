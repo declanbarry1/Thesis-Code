{
 "cells": [
  {
   "cell_type": "code",
   "execution_count": 1,
   "id": "d96fd0cd-d9ca-4d6d-a7cf-4b3e5b4239bf",
   "metadata": {},
   "outputs": [],
   "source": [
    "import tqdm\n",
    "import implicit\n",
    "import lightfm\n",
    "import pandas as pd \n",
    "import numpy as np\n",
    "from implicit.bpr import BayesianPersonalizedRanking as BPR\n",
    "from scipy import sparse\n",
    "import orion_recommend\n",
    "from orion_recommend.evaluate import metrics\n",
    "import lightfm\n",
    "import evall\n",
    "from lightfm import cross_validation"
   ]
  },
  {
   "cell_type": "code",
   "execution_count": 294,
   "id": "fc7fa88c-23d7-4cf3-8606-aab17df24385",
   "metadata": {
    "tags": []
   },
   "outputs": [],
   "source": [
    "# Functions\n",
    "def metrics_user_rec(item, sim_users, k):\n",
    "    count = 0\n",
    "    for i, user_list in zip(item, sim_users):       \n",
    "        for u in user_list:\n",
    "            if ui_matrix[u,i] == 1:\n",
    "                count = count + 1            \n",
    "    p_at_k = round(count/(item.shape[0] * k), 4)\n",
    "\n",
    "    RS = []\n",
    "    ans = 0.0\n",
    "    for i, user_list in zip(item, sim_users):           \n",
    "        r=[]\n",
    "        for u in user_list:\n",
    "             r.append(ui_matrix[u][i])\n",
    "        ans = ans + evall.ndcg_at_k(r, k, method=1)\n",
    "        RS.append(r)\n",
    "    G_at_k = ans/item.shape[0]\n",
    "    M_at_k = evall.mean_average_precision(RS)\n",
    "    return p_at_k, G_at_k, M_at_k\n",
    "\n",
    "def metrics_item_rec(user, sim_items, k):\n",
    "    count = 0\n",
    "    for u, item_list in zip(user, sim_items):       \n",
    "        for i in item_list:\n",
    "            if ui_matrix[u,i] == 1:\n",
    "                count = count + 1            \n",
    "    p_at_k = round(count/(user.shape[0] * k), 4)\n",
    "\n",
    "    RS = []\n",
    "    ans = 0.0\n",
    "    for u, item_list in zip(user, sim_items):           \n",
    "        r=[]\n",
    "        for i in item_list:\n",
    "             r.append(ui_matrix[u][i])\n",
    "        ans = ans + evall.ndcg_at_k(r, k, method=1)\n",
    "        RS.append(r)\n",
    "    G_at_k = ans/user.shape[0]\n",
    "    M_at_k = evall.mean_average_precision(RS)\n",
    "    return p_at_k, G_at_k, M_at_k\n",
    "\n",
    "\n",
    "def test_model_item_user(model, test, k, hybrid):\n",
    "    rec_dic = {}\n",
    "    if hybrid ==False:\n",
    "        with tqdm.tqdm(total=len(user_list)) as progress:\n",
    "            for u in test_items:\n",
    "                user_preds = model.predict(np.repeat(u,ui_matrixT.shape[1]),np.array([i for i in range(ui_matrixT.shape[1])]))\n",
    "                top_k = np.argsort(user_preds)[-k:]\n",
    "                rec_dic[u] = top_k\n",
    "                progress.update(1)\n",
    "    else:\n",
    "        with tqdm.tqdm(total=len(user_list)) as progress:\n",
    "            for u in test_items:\n",
    "                user_preds = model.predict(np.repeat(u,ui_matrixT.shape[1]),np.array([i for i in range(ui_matrixT.shape[1])]),\n",
    "                                           item_features = user_features, user_features = item_features)\n",
    "                top_k = np.argsort(user_preds)[-k:]\n",
    "                rec_dic[u] = top_k\n",
    "                progress.update(1)\n",
    "\n",
    "    targets =  np.array([i for i in rec_dic.keys()])\n",
    "    recommended = np.array([i for i in rec_dic.values()])\n",
    "    metrics = metrics_user_rec(targets, recommended, k)\n",
    "    return metrics\n",
    "\n",
    "def test_model(model, test, k, hybrid):\n",
    "    rec_dic = {}\n",
    "    if hybrid ==False:\n",
    "        with tqdm.tqdm(total=len(user_list)) as progress:\n",
    "            for u in test_users:\n",
    "                user_preds = model.predict(np.repeat(u,ui_matrix.shape[1]),np.array([i for i in range(ui_matrix.shape[1])]))\n",
    "                top_k = np.argsort(user_preds)[-k:]\n",
    "                rec_dic[u] = top_k\n",
    "                progress.update(1)\n",
    "    else:\n",
    "        with tqdm.tqdm(total=len(user_list)) as progress:\n",
    "            for u in test_users:\n",
    "                user_preds = model.predict(np.repeat(u,ui_matrix.shape[1]),np.array([i for i in range(ui_matrix.shape[1])]),\n",
    "                                           item_features = item_features)\n",
    "                top_k = np.argsort(user_preds)[-k:]\n",
    "                rec_dic[u] = top_k\n",
    "                progress.update(1)\n",
    "\n",
    "    targets =  np.array([i for i in rec_dic.keys()])\n",
    "    recommended = np.array([i for i in rec_dic.values()])\n",
    "    metrics = metrics_item_rec(targets, recommended, k)\n",
    "    return metrics"
   ]
  },
  {
   "cell_type": "code",
   "execution_count": 283,
   "id": "a35c1f87-4ede-4fb4-8e1b-12ea8566fe18",
   "metadata": {},
   "outputs": [],
   "source": [
    "ui_matrix = np.load(\"fa_ui_matrix.npy\")\n",
    "ui_matrixT = ui_matrix.T"
   ]
  },
  {
   "cell_type": "code",
   "execution_count": 4,
   "id": "0e80428f-b595-42a0-bd7c-b62af35ebee6",
   "metadata": {},
   "outputs": [],
   "source": [
    "ua_matrix = np.load(\"new_fa_ua_matrix.npy\")"
   ]
  },
  {
   "cell_type": "code",
   "execution_count": 6,
   "id": "673bc3e2-dc17-4021-b201-93d0e5cf7e85",
   "metadata": {},
   "outputs": [],
   "source": [
    "train, test = cross_validation.random_train_test_split(sparse.coo_matrix(ui_matrix), test_percentage=0.2, random_state=None)"
   ]
  },
  {
   "cell_type": "code",
   "execution_count": 292,
   "id": "f21a9aea-2e43-44e5-8a2d-43cd19dacc05",
   "metadata": {},
   "outputs": [],
   "source": [
    "train_users = train.nonzero()[0]\n",
    "test_users = test.nonzero()[0]\n",
    "train_items = train.nonzero()[1]\n",
    "test_items = test.nonzero()[1]"
   ]
  },
  {
   "cell_type": "code",
   "execution_count": 7,
   "id": "3e17b045-bb2d-44b6-a7d2-0177c0f4400f",
   "metadata": {},
   "outputs": [],
   "source": [
    "user_features = np.load(\"user_attributes_npc.npy\")"
   ]
  },
  {
   "cell_type": "code",
   "execution_count": 9,
   "id": "c2a20fc6-2ad5-474a-ba8b-383db90924b5",
   "metadata": {},
   "outputs": [],
   "source": [
    "user_features = sparse.coo_matrix(user_features)"
   ]
  },
  {
   "cell_type": "code",
   "execution_count": 11,
   "id": "6cb2e443-2bf9-4270-a199-6986abd583d5",
   "metadata": {},
   "outputs": [],
   "source": [
    "item_features = np.load(\"new_fa_ia_matrix.npy\")"
   ]
  },
  {
   "cell_type": "code",
   "execution_count": 12,
   "id": "43be3f28-c471-45c3-a0df-6fa1adb4da21",
   "metadata": {},
   "outputs": [],
   "source": [
    "item_features = sparse.coo_matrix(item_features)"
   ]
  },
  {
   "cell_type": "markdown",
   "id": "72c6b787-56b7-4294-b64c-49e2b7933fcf",
   "metadata": {},
   "source": [
    "### User-Item"
   ]
  },
  {
   "cell_type": "code",
   "execution_count": 21,
   "id": "43f85c04-a861-44e5-a0ca-d2531834feae",
   "metadata": {},
   "outputs": [],
   "source": [
    "from lightfm import LightFM\n",
    "from lightfm.evaluation import precision_at_k, recall_at_k\n",
    "\n",
    "\n",
    "# Instantiate and train the model\n",
    "model = LightFM(loss='warp')\n",
    "model.fit(train, user_features = user_features,\n",
    "          item_features=item_features, epochs=100)\n",
    "\n",
    "mf1 = LightFM(loss='bpr')\n",
    "mf1.fit(train, epochs=100)"
   ]
  },
  {
   "cell_type": "code",
   "execution_count": 244,
   "id": "8eadb3c3-b4cf-4914-980e-cd91f7c47565",
   "metadata": {},
   "outputs": [],
   "source": [
    "metrics_bpr_20 = test_model(mf1,test,20)\n",
    "pd.Series(metrics_bpr_20).to_csv(\"baselines_item-user/metrics_bpr_20.csv\")"
   ]
  },
  {
   "cell_type": "code",
   "execution_count": 254,
   "id": "f4230e80-cd88-42a6-b279-c363343cec2c",
   "metadata": {},
   "outputs": [
    {
     "data": {
      "text/plain": [
       "array([-608.4024], dtype=float32)"
      ]
     },
     "execution_count": 254,
     "metadata": {},
     "output_type": "execute_result"
    }
   ],
   "source": [
    "model.predict(np.array([1]), np.array([1]),user_features=user_features, item_features = item_features)"
   ]
  },
  {
   "cell_type": "code",
   "execution_count": 263,
   "id": "a946cd2f-5899-4b9c-a875-41e91ac58a72",
   "metadata": {
    "tags": []
   },
   "outputs": [
    {
     "name": "stderr",
     "output_type": "stream",
     "text": [
      "100%|██████████| 19041/19041 [01:32<00:00, 204.84it/s]\n"
     ]
    }
   ],
   "source": [
    "metrics = test_model(model,test,10, hybrid=True)\n",
    "pd.Series(metrics).to_csv(\"baselines_item-user/metrics_hybrid_10_nousers.csv\")"
   ]
  },
  {
   "cell_type": "code",
   "execution_count": 264,
   "id": "1ede1e67-26b9-4f7f-a222-e79ad8a6d456",
   "metadata": {},
   "outputs": [
    {
     "data": {
      "text/plain": [
       "(0.003, 0.01169153339737001, 0.006635734931042895)"
      ]
     },
     "execution_count": 264,
     "metadata": {},
     "output_type": "execute_result"
    }
   ],
   "source": [
    "metrics"
   ]
  },
  {
   "cell_type": "code",
   "execution_count": 265,
   "id": "dca47729-2620-4f22-966b-e2897a8fe3d0",
   "metadata": {},
   "outputs": [
    {
     "name": "stderr",
     "output_type": "stream",
     "text": [
      "100%|██████████| 19041/19041 [01:33<00:00, 202.74it/s]\n"
     ]
    }
   ],
   "source": [
    "metrics = test_model(model,test,20, hybrid=True)\n",
    "pd.Series(metrics).to_csv(\"baselines_item-user/metrics_hybrid_20_nousers.csv\")"
   ]
  },
  {
   "cell_type": "code",
   "execution_count": 266,
   "id": "b4d9e896-4528-4f24-8981-ab0a1b0c2d3d",
   "metadata": {},
   "outputs": [
    {
     "data": {
      "text/plain": [
       "(0.0031, 0.021498005990391773, 0.01062182431756176)"
      ]
     },
     "execution_count": 266,
     "metadata": {},
     "output_type": "execute_result"
    }
   ],
   "source": [
    "metrics"
   ]
  },
  {
   "cell_type": "markdown",
   "id": "4e896571-017f-4f2c-98e2-919bde8015c5",
   "metadata": {},
   "source": [
    "### Item-User"
   ]
  },
  {
   "cell_type": "code",
   "execution_count": 281,
   "id": "356f13d2-611c-4e36-9e82-52835b592a38",
   "metadata": {},
   "outputs": [
    {
     "data": {
      "text/plain": [
       "<lightfm.lightfm.LightFM at 0x7ff00faf1130>"
      ]
     },
     "execution_count": 281,
     "metadata": {},
     "output_type": "execute_result"
    }
   ],
   "source": [
    "# Instantiate and train the model\n",
    "model = LightFM(loss='warp')\n",
    "model.fit(train.T, user_features = item_features,\n",
    "          item_features=user_features, epochs=100)\n",
    "\n",
    "mf1 = LightFM(loss='bpr')\n",
    "mf1.fit(train.T, epochs=100)"
   ]
  },
  {
   "cell_type": "code",
   "execution_count": 287,
   "id": "a84c78bd-d258-4a40-a817-297c07169666",
   "metadata": {},
   "outputs": [
    {
     "data": {
      "text/plain": [
       "<86297x60 sparse matrix of type '<class 'numpy.int64'>'\n",
       "\twith 258914 stored elements in COOrdinate format>"
      ]
     },
     "execution_count": 287,
     "metadata": {},
     "output_type": "execute_result"
    }
   ],
   "source": [
    "user_features"
   ]
  },
  {
   "cell_type": "code",
   "execution_count": 289,
   "id": "add6891d-2393-418c-9d7e-4b674b85b483",
   "metadata": {},
   "outputs": [
    {
     "data": {
      "text/plain": [
       "(10456, 86297)"
      ]
     },
     "execution_count": 289,
     "metadata": {},
     "output_type": "execute_result"
    }
   ],
   "source": [
    "ui_matrixT.shape"
   ]
  },
  {
   "cell_type": "code",
   "execution_count": 296,
   "id": "e03c95b9-6d03-41b4-899b-92faa6ea4a7d",
   "metadata": {},
   "outputs": [],
   "source": [
    "metrics_hybrid_20 = test_model_item_user(model,test,20, hybrid=True)\n",
    "pd.Series(metrics_hybrid_20).to_csv(\"baselines_item-user/metrics_hybrid_20.csv\")"
   ]
  },
  {
   "cell_type": "code",
   "execution_count": 298,
   "id": "d1011fe2-0636-494b-9f3e-b1ffb8d046c6",
   "metadata": {},
   "outputs": [
    {
     "data": {
      "text/plain": [
       "(0.0008, 0.0053514663088928315, 0.0030504014181894756)"
      ]
     },
     "execution_count": 298,
     "metadata": {},
     "output_type": "execute_result"
    }
   ],
   "source": [
    "metrics_hybrid_20"
   ]
  },
  {
   "cell_type": "code",
   "execution_count": 299,
   "id": "31a42db7-7662-4bdf-9cd4-b6bf3b2b8367",
   "metadata": {
    "tags": []
   },
   "outputs": [
    {
     "name": "stderr",
     "output_type": "stream",
     "text": [
      " 99%|█████████▉| 18884/19041 [06:51<00:03, 45.88it/s]\n"
     ]
    }
   ],
   "source": [
    "metrics = test_model_item_user(model,test,10, hybrid=True)\n",
    "pd.Series(metrics).to_csv(\"baselines_item-user/metrics_hybrid_10.csv\")"
   ]
  },
  {
   "cell_type": "code",
   "execution_count": 300,
   "id": "9cbbbcac-4726-48e8-afcf-3ca85f35777b",
   "metadata": {},
   "outputs": [
    {
     "data": {
      "text/plain": [
       "(0.0007, 0.0033925894740746477, 0.002422665190107051)"
      ]
     },
     "execution_count": 300,
     "metadata": {},
     "output_type": "execute_result"
    }
   ],
   "source": [
    "metrics"
   ]
  },
  {
   "cell_type": "code",
   "execution_count": 301,
   "id": "88b5a90e-df9a-495f-83d4-293212bb675d",
   "metadata": {},
   "outputs": [
    {
     "name": "stderr",
     "output_type": "stream",
     "text": [
      " 99%|█████████▉| 18884/19041 [06:45<00:03, 46.55it/s]\n"
     ]
    }
   ],
   "source": [
    "metrics = test_model_item_user(mf1,test,20, hybrid=False)\n",
    "pd.Series(metrics).to_csv(\"baselines_item-user/metrics_bpr_20.csv\")"
   ]
  },
  {
   "cell_type": "code",
   "execution_count": 302,
   "id": "18a9deb4-6174-444b-9e58-5d8dd01a713e",
   "metadata": {},
   "outputs": [
    {
     "data": {
      "text/plain": [
       "(0.2285, 0.42958979151601356, 0.27674562708594624)"
      ]
     },
     "execution_count": 302,
     "metadata": {},
     "output_type": "execute_result"
    }
   ],
   "source": [
    "metrics"
   ]
  },
  {
   "cell_type": "code",
   "execution_count": 303,
   "id": "08e09db7-c961-40ea-98b2-1c77edb20771",
   "metadata": {},
   "outputs": [
    {
     "name": "stderr",
     "output_type": "stream",
     "text": [
      " 99%|█████████▉| 18884/19041 [06:46<00:03, 46.45it/s]\n"
     ]
    }
   ],
   "source": [
    "metrics = test_model_item_user(mf1,test,10, hybrid=False)\n",
    "pd.Series(metrics).to_csv(\"baselines_item-user/metrics_bpr_20.csv\")"
   ]
  },
  {
   "cell_type": "code",
   "execution_count": 304,
   "id": "b35b9673-db5f-46aa-aac5-68fba7054ee4",
   "metadata": {},
   "outputs": [
    {
     "data": {
      "text/plain": [
       "(0.2402, 0.4603669129918061, 0.35823127156978213)"
      ]
     },
     "execution_count": 304,
     "metadata": {},
     "output_type": "execute_result"
    }
   ],
   "source": [
    "metrics"
   ]
  }
 ],
 "metadata": {
  "kernelspec": {
   "display_name": "thesis",
   "language": "python",
   "name": "thesis"
  },
  "language_info": {
   "codemirror_mode": {
    "name": "ipython",
    "version": 3
   },
   "file_extension": ".py",
   "mimetype": "text/x-python",
   "name": "python",
   "nbconvert_exporter": "python",
   "pygments_lexer": "ipython3",
   "version": "3.8.10"
  }
 },
 "nbformat": 4,
 "nbformat_minor": 5
}
