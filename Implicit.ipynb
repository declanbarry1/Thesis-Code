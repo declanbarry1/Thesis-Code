{
 "cells": [
  {
   "cell_type": "code",
   "execution_count": 19,
   "id": "d96fd0cd-d9ca-4d6d-a7cf-4b3e5b4239bf",
   "metadata": {},
   "outputs": [],
   "source": [
    "import tqdm\n",
    "import implicit\n",
    "import lightfm\n",
    "import pandas as pd \n",
    "import numpy as np\n",
    "from implicit.bpr import BayesianPersonalizedRanking as BPR\n",
    "from scipy import sparse\n",
    "import orion_recommend\n",
    "from orion_recommend.evaluate import metrics\n",
    "import lightfm\n",
    "import evall\n",
    "from lightfm import cross_validation\n",
    "from lightfm import LightFM\n",
    "from lightfm.evaluation import precision_at_k, recall_at_k"
   ]
  },
  {
   "cell_type": "code",
   "execution_count": 2,
   "id": "fc7fa88c-23d7-4cf3-8606-aab17df24385",
   "metadata": {
    "tags": []
   },
   "outputs": [],
   "source": [
    "# Functions\n",
    "def metrics_user_rec(item, sim_users, k):\n",
    "    count = 0\n",
    "    for i, user_list in zip(item, sim_users):       \n",
    "        for u in user_list:\n",
    "            if ui_matrix[u,i] == 1:\n",
    "                count = count + 1            \n",
    "    p_at_k = round(count/(item.shape[0] * k), 4)\n",
    "\n",
    "    RS = []\n",
    "    ans = 0.0\n",
    "    for i, user_list in zip(item, sim_users):           \n",
    "        r=[]\n",
    "        for u in user_list:\n",
    "             r.append(ui_matrix[u][i])\n",
    "        ans = ans + evall.ndcg_at_k(r, k, method=1)\n",
    "        RS.append(r)\n",
    "    G_at_k = ans/item.shape[0]\n",
    "    M_at_k = evall.mean_average_precision(RS)\n",
    "    return p_at_k, G_at_k, M_at_k\n",
    "\n",
    "def metrics_item_rec(user, sim_items, k):\n",
    "    count = 0\n",
    "    for u, item_list in zip(user, sim_items):       \n",
    "        for i in item_list:\n",
    "            if ui_matrix[u,i] == 1:\n",
    "                count = count + 1            \n",
    "    p_at_k = round(count/(user.shape[0] * k), 4)\n",
    "\n",
    "    RS = []\n",
    "    ans = 0.0\n",
    "    for u, item_list in zip(user, sim_items):           \n",
    "        r=[]\n",
    "        for i in item_list:\n",
    "             r.append(ui_matrix[u][i])\n",
    "        ans = ans + evall.ndcg_at_k(r, k, method=1)\n",
    "        RS.append(r)\n",
    "    G_at_k = ans/user.shape[0]\n",
    "    M_at_k = evall.mean_average_precision(RS)\n",
    "    return p_at_k, G_at_k, M_at_k\n",
    "\n",
    "\n",
    "def test_model_item_user(model, test, k, hybrid, item_features, user_features):\n",
    "    rec_dic = {}\n",
    "    if hybrid ==False:\n",
    "        with tqdm.tqdm(total=len(test_items)) as progress:\n",
    "            for u in test_items:\n",
    "                user_preds = model.predict(np.repeat(u,ui_matrixT.shape[1]),np.array([i for i in range(ui_matrixT.shape[1])]))\n",
    "                top_k = np.argsort(user_preds)[-k:]\n",
    "                rec_dic[u] = top_k\n",
    "                progress.update(1)\n",
    "    else:\n",
    "        with tqdm.tqdm(total=len(test_items)) as progress:\n",
    "            for u in test_items:\n",
    "                user_preds = model.predict(np.repeat(u,ui_matrixT.shape[1]),np.array([i for i in range(ui_matrixT.shape[1])]),\n",
    "                                           item_features = user_features, user_features = item_features)\n",
    "                top_k = np.argsort(user_preds)[-k:]\n",
    "                rec_dic[u] = top_k\n",
    "                progress.update(1)\n",
    "\n",
    "    targets =  np.array([i for i in rec_dic.keys()])\n",
    "    recommended = np.array([i for i in rec_dic.values()])\n",
    "    metrics = metrics_user_rec(targets, recommended, k)\n",
    "    return metrics\n",
    "\n",
    "def test_model(model, test, k, hybrid, item_features, user_features):\n",
    "    rec_dic = {}\n",
    "    if hybrid ==False:\n",
    "        with tqdm.tqdm(total=len(test_users)) as progress:\n",
    "            for u in test_users:\n",
    "                user_preds = model.predict(np.repeat(u,ui_matrix.shape[1]),np.array([i for i in range(ui_matrix.shape[1])]))\n",
    "                top_k = np.argsort(user_preds)[-k:]\n",
    "                rec_dic[u] = top_k\n",
    "                progress.update(1)\n",
    "    else:\n",
    "        with tqdm.tqdm(total=len(test_users)) as progress:\n",
    "            for u in test_users:\n",
    "                user_preds = model.predict(np.repeat(u,ui_matrix.shape[1]),np.array([i for i in range(ui_matrix.shape[1])]), user_features = user_features,\n",
    "                                           item_features = item_features)\n",
    "                top_k = np.argsort(user_preds)[-k:]\n",
    "                rec_dic[u] = top_k\n",
    "                progress.update(1)\n",
    "\n",
    "    targets =  np.array([i for i in rec_dic.keys()])\n",
    "    recommended = np.array([i for i in rec_dic.values()])\n",
    "    metrics = metrics_item_rec(targets, recommended, k)\n",
    "    return metrics\n",
    "\n",
    "def test_model_item_user_nousers(model, test, k, hybrid, item_features):\n",
    "    rec_dic = {}\n",
    "    if hybrid ==False:\n",
    "        with tqdm.tqdm(total=len(test_items)) as progress:\n",
    "            for u in test_items:\n",
    "                user_preds = model.predict(np.repeat(u,ui_matrixT.shape[1]),np.array([i for i in range(ui_matrixT.shape[1])]))\n",
    "                top_k = np.argsort(user_preds)[-k:]\n",
    "                rec_dic[u] = top_k\n",
    "                progress.update(1)\n",
    "    else:\n",
    "        with tqdm.tqdm(total=len(test_items)) as progress:\n",
    "            for u in test_items:\n",
    "                user_preds = model.predict(np.repeat(u,ui_matrixT.shape[1]),np.array([i for i in range(ui_matrixT.shape[1])]),\n",
    "                                            user_features = item_features)\n",
    "                top_k = np.argsort(user_preds)[-k:]\n",
    "                rec_dic[u] = top_k\n",
    "                progress.update(1)\n",
    "\n",
    "    targets =  np.array([i for i in rec_dic.keys()])\n",
    "    recommended = np.array([i for i in rec_dic.values()])\n",
    "    metrics = metrics_user_rec(targets, recommended, k)\n",
    "    return metrics\n",
    "\n",
    "def test_model_nousers(model, test, k, hybrid, item_features):\n",
    "    rec_dic = {}\n",
    "    if hybrid ==False:\n",
    "        with tqdm.tqdm(total=len(test_users)) as progress:\n",
    "            for u in test_users:\n",
    "                user_preds = model.predict(np.repeat(u,ui_matrix.shape[1]),np.array([i for i in range(ui_matrix.shape[1])]))\n",
    "                top_k = np.argsort(user_preds)[-k:]\n",
    "                rec_dic[u] = top_k\n",
    "                progress.update(1)\n",
    "    else:\n",
    "        with tqdm.tqdm(total=len(test_users)) as progress:\n",
    "            for u in test_users:\n",
    "                user_preds = model.predict(np.repeat(u,ui_matrix.shape[1]),np.array([i for i in range(ui_matrix.shape[1])]),\n",
    "                                           item_features = item_features)\n",
    "                top_k = np.argsort(user_preds)[-k:]\n",
    "                rec_dic[u] = top_k\n",
    "                progress.update(1)\n",
    "\n",
    "    targets =  np.array([i for i in rec_dic.keys()])\n",
    "    recommended = np.array([i for i in rec_dic.values()])\n",
    "    metrics = metrics_item_rec(targets, recommended, k)\n",
    "    return metrics\n"
   ]
  },
  {
   "cell_type": "code",
   "execution_count": 3,
   "id": "a35c1f87-4ede-4fb4-8e1b-12ea8566fe18",
   "metadata": {},
   "outputs": [],
   "source": [
    "ui_matrix = np.load(\"fa_ui_matrix.npy\")\n",
    "ui_matrixT = ui_matrix.T"
   ]
  },
  {
   "cell_type": "code",
   "execution_count": 39,
   "id": "0e80428f-b595-42a0-bd7c-b62af35ebee6",
   "metadata": {},
   "outputs": [],
   "source": [
    "ua_matrix = np.load(\"new_fa_ua_matrix.npy\")"
   ]
  },
  {
   "cell_type": "code",
   "execution_count": 4,
   "id": "673bc3e2-dc17-4021-b201-93d0e5cf7e85",
   "metadata": {},
   "outputs": [],
   "source": [
    "train, test = cross_validation.random_train_test_split(sparse.coo_matrix(ui_matrix), test_percentage=0.2, random_state=None)"
   ]
  },
  {
   "cell_type": "code",
   "execution_count": 5,
   "id": "f21a9aea-2e43-44e5-8a2d-43cd19dacc05",
   "metadata": {},
   "outputs": [],
   "source": [
    "train_users = train.nonzero()[0]\n",
    "test_users = test.nonzero()[0]\n",
    "train_items = train.nonzero()[1]\n",
    "test_items = test.nonzero()[1]"
   ]
  },
  {
   "cell_type": "code",
   "execution_count": 36,
   "id": "2482529b-10fe-4d40-beb4-ac2aff138c6e",
   "metadata": {},
   "outputs": [],
   "source": [
    "user_features = np.load(\"user_attributes_npc.npy\")\n",
    "user_features = sparse.coo_matrix(user_features)\n",
    "\n",
    "item_features = np.load(\"new_fa_ia_matrix.npy\")\n",
    "item_features = sparse.coo_matrix(item_features)"
   ]
  },
  {
   "cell_type": "markdown",
   "id": "72c6b787-56b7-4294-b64c-49e2b7933fcf",
   "metadata": {},
   "source": [
    "# User-Item"
   ]
  },
  {
   "cell_type": "code",
   "execution_count": 55,
   "id": "43f85c04-a861-44e5-a0ca-d2531834feae",
   "metadata": {},
   "outputs": [
    {
     "data": {
      "text/plain": [
       "<lightfm.lightfm.LightFM at 0x7f32feb1c400>"
      ]
     },
     "execution_count": 55,
     "metadata": {},
     "output_type": "execute_result"
    }
   ],
   "source": [
    "# Instantiate and train the model\n",
    "model = LightFM(loss='warp')\n",
    "model.fit(train, user_features = user_features,\n",
    "          item_features=item_features, epochs=100)\n",
    "\n",
    "#mf1 = LightFM(loss='bpr')\n",
    "#mf1.fit(train, epochs=100)"
   ]
  },
  {
   "cell_type": "code",
   "execution_count": 39,
   "id": "8eadb3c3-b4cf-4914-980e-cd91f7c47565",
   "metadata": {},
   "outputs": [
    {
     "name": "stderr",
     "output_type": "stream",
     "text": [
      "100%|██████████| 18884/18884 [00:45<00:00, 412.11it/s]\n"
     ]
    }
   ],
   "source": [
    "metrics_bpr_20 = test_model(mf1,test,20, False, item_features, user_features)\n",
    "pd.Series(metrics_bpr_20).to_csv(\"baselines_user-item/metrics_bpr_20.csv\")"
   ]
  },
  {
   "cell_type": "code",
   "execution_count": 40,
   "id": "cd538c58-cfa3-4961-ab7b-56beb34058a0",
   "metadata": {},
   "outputs": [
    {
     "data": {
      "text/plain": [
       "(0.005, 0.024074260751620957, 0.0073390213171257036)"
      ]
     },
     "execution_count": 40,
     "metadata": {},
     "output_type": "execute_result"
    }
   ],
   "source": [
    "metrics_bpr_20"
   ]
  },
  {
   "cell_type": "code",
   "execution_count": 41,
   "id": "611b8af8-c662-4b7e-bda7-7fff21bfb6a9",
   "metadata": {},
   "outputs": [
    {
     "name": "stderr",
     "output_type": "stream",
     "text": [
      "100%|██████████| 18884/18884 [00:45<00:00, 413.09it/s]\n"
     ]
    }
   ],
   "source": [
    "metrics_bpr_10 = test_model(mf1,test,10, False, item_features, user_features)\n",
    "pd.Series(metrics_bpr_10).to_csv(\"baselines_user-item/metrics_bpr_10.csv\")"
   ]
  },
  {
   "cell_type": "code",
   "execution_count": 42,
   "id": "bddb35eb-876f-456e-b3c9-ba497ee816cf",
   "metadata": {},
   "outputs": [
    {
     "data": {
      "text/plain": [
       "(0.0087, 0.027582650438547154, 0.01212330700865543)"
      ]
     },
     "execution_count": 42,
     "metadata": {},
     "output_type": "execute_result"
    }
   ],
   "source": [
    "metrics_bpr_10"
   ]
  },
  {
   "cell_type": "code",
   "execution_count": 56,
   "id": "a946cd2f-5899-4b9c-a875-41e91ac58a72",
   "metadata": {
    "tags": []
   },
   "outputs": [
    {
     "name": "stderr",
     "output_type": "stream",
     "text": [
      "100%|██████████| 18884/18884 [14:42<00:00, 21.41it/s]\n"
     ]
    }
   ],
   "source": [
    "metrics = test_model(model,test,10, True, item_features, user_features)\n",
    "pd.Series(metrics).to_csv(\"baselines_user-item/metrics_hybrid_10_pretrain.csv\")"
   ]
  },
  {
   "cell_type": "code",
   "execution_count": 57,
   "id": "e2b06540-9050-400a-80d8-fbf9ed951e66",
   "metadata": {},
   "outputs": [
    {
     "data": {
      "text/plain": [
       "(0.0053, 0.019302018222776864, 0.009440314830427994)"
      ]
     },
     "execution_count": 57,
     "metadata": {},
     "output_type": "execute_result"
    }
   ],
   "source": [
    "metrics"
   ]
  },
  {
   "cell_type": "code",
   "execution_count": 58,
   "id": "dca47729-2620-4f22-966b-e2897a8fe3d0",
   "metadata": {},
   "outputs": [
    {
     "name": "stderr",
     "output_type": "stream",
     "text": [
      "100%|██████████| 18884/18884 [14:45<00:00, 21.32it/s]\n"
     ]
    }
   ],
   "source": [
    "metrics = test_model(model,test,20, True, item_features, user_features)\n",
    "pd.Series(metrics).to_csv(\"baselines_item-user/metrics_hybrid_20_pretrain.csv\")"
   ]
  },
  {
   "cell_type": "code",
   "execution_count": 59,
   "id": "7408e5a0-59b2-47c5-8be5-afdcda484a5e",
   "metadata": {},
   "outputs": [
    {
     "data": {
      "text/plain": [
       "(0.0032, 0.016551289055875128, 0.005065788566381225)"
      ]
     },
     "execution_count": 59,
     "metadata": {},
     "output_type": "execute_result"
    }
   ],
   "source": [
    "metrics"
   ]
  },
  {
   "cell_type": "markdown",
   "id": "4e896571-017f-4f2c-98e2-919bde8015c5",
   "metadata": {},
   "source": [
    "# Item-User"
   ]
  },
  {
   "cell_type": "code",
   "execution_count": 54,
   "id": "356f13d2-611c-4e36-9e82-52835b592a38",
   "metadata": {},
   "outputs": [
    {
     "data": {
      "text/plain": [
       "<lightfm.lightfm.LightFM at 0x7f6aba0489d0>"
      ]
     },
     "execution_count": 54,
     "metadata": {},
     "output_type": "execute_result"
    }
   ],
   "source": [
    "# Instantiate and train the model\n",
    "model = LightFM(loss='warp')\n",
    "model.fit(train.T, user_features = item_features,\n",
    "          item_features=user_features, epochs=100)\n",
    "\n",
    "mf1 = LightFM(loss='bpr')\n",
    "mf1.fit(train.T, epochs=100)"
   ]
  },
  {
   "cell_type": "code",
   "execution_count": 57,
   "id": "e03c95b9-6d03-41b4-899b-92faa6ea4a7d",
   "metadata": {},
   "outputs": [
    {
     "name": "stderr",
     "output_type": "stream",
     "text": [
      "100%|██████████| 18884/18884 [13:32<00:00, 23.24it/s]\n"
     ]
    }
   ],
   "source": [
    "metrics_hybrid_20 = test_model_item_user(model,test,20, hybrid=True)\n",
    "pd.Series(metrics_hybrid_20).to_csv(\"baselines_item-user/metrics_hybrid_20.csv\")"
   ]
  },
  {
   "cell_type": "code",
   "execution_count": 58,
   "id": "d1011fe2-0636-494b-9f3e-b1ffb8d046c6",
   "metadata": {},
   "outputs": [
    {
     "data": {
      "text/plain": [
       "(0.0008, 0.0042951750676738995, 0.0018982227388538776)"
      ]
     },
     "execution_count": 58,
     "metadata": {},
     "output_type": "execute_result"
    }
   ],
   "source": [
    "metrics_hybrid_20"
   ]
  },
  {
   "cell_type": "code",
   "execution_count": 59,
   "id": "31a42db7-7662-4bdf-9cd4-b6bf3b2b8367",
   "metadata": {
    "tags": []
   },
   "outputs": [
    {
     "name": "stderr",
     "output_type": "stream",
     "text": [
      "100%|██████████| 18884/18884 [13:28<00:00, 23.35it/s]\n"
     ]
    }
   ],
   "source": [
    "metrics_hybrid_10 = test_model_item_user(model,test,10, hybrid=True)\n",
    "pd.Series(metrics).to_csv(\"baselines_item-user/metrics_hybrid_10.csv\")"
   ]
  },
  {
   "cell_type": "code",
   "execution_count": 60,
   "id": "9cbbbcac-4726-48e8-afcf-3ca85f35777b",
   "metadata": {},
   "outputs": [
    {
     "data": {
      "text/plain": [
       "(0.0009, 0.004076232355578079, 0.002780871691677867)"
      ]
     },
     "execution_count": 60,
     "metadata": {},
     "output_type": "execute_result"
    }
   ],
   "source": [
    "metrics_hybrid_10"
   ]
  },
  {
   "cell_type": "code",
   "execution_count": 61,
   "id": "88b5a90e-df9a-495f-83d4-293212bb675d",
   "metadata": {},
   "outputs": [
    {
     "name": "stderr",
     "output_type": "stream",
     "text": [
      "100%|██████████| 18884/18884 [12:20<00:00, 25.49it/s]\n"
     ]
    }
   ],
   "source": [
    "metrics_bpr_20 = test_model_item_user(mf1,test,20, hybrid=False)\n",
    "pd.Series(metrics_bpr_20).to_csv(\"baselines_item-user/metrics_bpr_20.csv\")"
   ]
  },
  {
   "cell_type": "code",
   "execution_count": 62,
   "id": "18a9deb4-6174-444b-9e58-5d8dd01a713e",
   "metadata": {},
   "outputs": [
    {
     "data": {
      "text/plain": [
       "(0.227, 0.42922481738052554, 0.2765190773955193)"
      ]
     },
     "execution_count": 62,
     "metadata": {},
     "output_type": "execute_result"
    }
   ],
   "source": [
    "metrics_bpr_20"
   ]
  },
  {
   "cell_type": "code",
   "execution_count": 63,
   "id": "08e09db7-c961-40ea-98b2-1c77edb20771",
   "metadata": {},
   "outputs": [
    {
     "name": "stderr",
     "output_type": "stream",
     "text": [
      "100%|██████████| 18884/18884 [12:19<00:00, 25.52it/s]\n"
     ]
    }
   ],
   "source": [
    "metrics_bpr_10 = test_model_item_user(mf1,test,10, hybrid=False)\n",
    "pd.Series(metrics_bpr_10).to_csv(\"baselines_item-user/metrics_bpr_10.csv\")"
   ]
  },
  {
   "cell_type": "code",
   "execution_count": 64,
   "id": "b35b9673-db5f-46aa-aac5-68fba7054ee4",
   "metadata": {},
   "outputs": [
    {
     "data": {
      "text/plain": [
       "(0.2397, 0.4574309635938121, 0.3546278444167544)"
      ]
     },
     "execution_count": 64,
     "metadata": {},
     "output_type": "execute_result"
    }
   ],
   "source": [
    "metrics_bpr_10"
   ]
  },
  {
   "cell_type": "markdown",
   "id": "181996c3-ecfd-40e3-b555-40160d10ab3d",
   "metadata": {},
   "source": [
    "# Pre trained "
   ]
  },
  {
   "cell_type": "code",
   "execution_count": 6,
   "id": "fd8859ae-d027-441f-b35d-b9c6999574be",
   "metadata": {},
   "outputs": [],
   "source": [
    "G_prod_embs = np.load(\"embeddings/Product_embs.npy\")\n",
    "G_brand_embs = np.load(\"embeddings/brand_embs.npy\")\n",
    "G_category_embs = np.load(\"embeddings/category_embs.npy\")\n",
    "G_colour_embs = np.load(\"embeddings/colour_embs.npy\")\n",
    "G_div_embs = np.load(\"embeddings/div_embs.npy\")\n",
    "G_itemcat_embs = np.load(\"embeddings/itemcat_embs.npy\")\n",
    "G_itemfam_embs = np.load(\"embeddings/itemfam_embs.npy\")\n",
    "G_season_embs = np.load(\"embeddings/season_embs.npy\")\n"
   ]
  },
  {
   "cell_type": "code",
   "execution_count": 8,
   "id": "a89bd738-4dfb-4fe2-a5b2-d3b8836ff567",
   "metadata": {
    "tags": []
   },
   "outputs": [],
   "source": [
    "train_codes = np.load(\"new_fa_train_data.npy\")\n",
    "test_codes = np.load(\"new_fa_test_data.npy\")"
   ]
  },
  {
   "cell_type": "code",
   "execution_count": 9,
   "id": "7c20c184-c330-4b21-85ab-166a6dde5dc5",
   "metadata": {},
   "outputs": [],
   "source": [
    "codes = np.concatenate([train_codes, test_codes],axis=0)"
   ]
  },
  {
   "cell_type": "code",
   "execution_count": 10,
   "id": "b6e52b68-879d-46e6-b923-dbbd0893ca33",
   "metadata": {},
   "outputs": [],
   "source": [
    "item_attributes = codes[:,6:]"
   ]
  },
  {
   "cell_type": "code",
   "execution_count": 11,
   "id": "00b1d8ef-d22e-4494-87fd-f0732f975591",
   "metadata": {},
   "outputs": [],
   "source": [
    "brand_id = item_attributes[:,0]\n",
    "category = item_attributes[:,1]\n",
    "colour = item_attributes[:,2]\n",
    "divisioncode = item_attributes[:,3]\n",
    "itemcategorycode = item_attributes[:,4]\n",
    "itemfamilycode  = item_attributes[:,5]\n",
    "itemseason = item_attributes[:,6]\n",
    "productgroup = item_attributes[:,7]"
   ]
  },
  {
   "cell_type": "code",
   "execution_count": 12,
   "id": "67af0829-fcc2-4188-8d8d-f2d29fdefa44",
   "metadata": {},
   "outputs": [],
   "source": [
    "item_codes = np.concatenate([brand_id.reshape(-1,1), category.reshape(-1,1), colour.reshape(-1,1), divisioncode.reshape(-1,1),\\\n",
    "                itemcategorycode.reshape(-1,1), itemfamilycode.reshape(-1,1), itemseason.reshape(-1,1), productgroup.reshape(-1,1) ], axis=1)"
   ]
  },
  {
   "cell_type": "code",
   "execution_count": 13,
   "id": "a3995a5a-9cc1-440e-9f87-ecb61b6aadea",
   "metadata": {},
   "outputs": [],
   "source": [
    "item_codes = np.unique(item_codes,axis=0)"
   ]
  },
  {
   "cell_type": "code",
   "execution_count": 14,
   "id": "4463cfb0-55f3-4294-baa9-bce6dca76a35",
   "metadata": {},
   "outputs": [],
   "source": [
    "embs = [G_prod_embs[item_codes[:,7]],\n",
    "G_brand_embs[item_codes[:,0]],\n",
    "G_category_embs[item_codes[:,1]],\n",
    "G_colour_embs[item_codes[:,2]],\n",
    "G_div_embs[item_codes[:,3]],\n",
    "G_itemcat_embs[item_codes[:,4]],\n",
    "G_itemfam_embs[item_codes[:,5]],\n",
    "G_season_embs[item_codes[:,6]]]"
   ]
  },
  {
   "cell_type": "code",
   "execution_count": 15,
   "id": "d938ce50-e5bb-40ed-aff2-a1e19a6b5c10",
   "metadata": {},
   "outputs": [],
   "source": [
    "gan_item_features = np.concatenate(embs, axis=1)\n"
   ]
  },
  {
   "cell_type": "code",
   "execution_count": 16,
   "id": "f3a73be8-894f-4c72-932b-6d7c9ec7b96c",
   "metadata": {},
   "outputs": [],
   "source": [
    "sparse_feats = sparse.csr_matrix(gan_item_features)"
   ]
  },
  {
   "cell_type": "code",
   "execution_count": 78,
   "id": "b134e092-4d6f-4761-8476-1c22434ef8bd",
   "metadata": {},
   "outputs": [],
   "source": [
    "np.savetxt(\"embeddings/item_embeddings_50\", gan_item_features)"
   ]
  },
  {
   "cell_type": "code",
   "execution_count": 140,
   "id": "0d953266-77cf-46d8-83db-89cdbc431a52",
   "metadata": {},
   "outputs": [
    {
     "name": "stdout",
     "output_type": "stream",
     "text": [
      "Pre-Train Item Embedding Lunch.\n",
      "Pre-Train Item Embedding Finished.\n"
     ]
    },
    {
     "data": {
      "text/plain": [
       "<lightfm.pretrain_lightfm.LightFM at 0x7f32fd77bee0>"
      ]
     },
     "execution_count": 140,
     "metadata": {},
     "output_type": "execute_result"
    }
   ],
   "source": [
    "from lightfm.pretrain_lightfm import LightFM as ptmod\n",
    "\n",
    "ptmodel= ptmod(loss='warp',no_components=400, item_pretrain=True, item_pretrain_file=\"embeddings/item_embeddings_50\")\n",
    "ptmodel.fit(train, epochs=100)\n"
   ]
  },
  {
   "cell_type": "code",
   "execution_count": 163,
   "id": "ae35b690-bef4-4ade-86b0-eaf0f9fc6d42",
   "metadata": {},
   "outputs": [
    {
     "data": {
      "text/plain": [
       "<lightfm.lightfm.LightFM at 0x7f32fd77b370>"
      ]
     },
     "execution_count": 163,
     "metadata": {},
     "output_type": "execute_result"
    }
   ],
   "source": [
    "# Instantiate and train the model\n",
    "model = LightFM(loss='warp')\n",
    "model.fit(train.T, user_features = item_features, epochs=100)"
   ]
  },
  {
   "cell_type": "code",
   "execution_count": 164,
   "id": "59d12b70-e14a-4915-b857-17701821a5f6",
   "metadata": {},
   "outputs": [
    {
     "data": {
      "text/plain": [
       "(472, 10)"
      ]
     },
     "execution_count": 164,
     "metadata": {},
     "output_type": "execute_result"
    }
   ],
   "source": [
    "model.user_embeddings.shape"
   ]
  },
  {
   "cell_type": "code",
   "execution_count": 165,
   "id": "19f4892a-3811-4ee7-bea8-a1b00bb74849",
   "metadata": {},
   "outputs": [
    {
     "data": {
      "text/plain": [
       "(86297, 10)"
      ]
     },
     "execution_count": 165,
     "metadata": {},
     "output_type": "execute_result"
    }
   ],
   "source": [
    "model.item_embeddings.shape"
   ]
  },
  {
   "cell_type": "code",
   "execution_count": 168,
   "id": "c458e4ac-ea1b-4d7d-b70e-c28611d90f10",
   "metadata": {},
   "outputs": [],
   "source": [
    "model.user_embeddings = gan_item_features"
   ]
  },
  {
   "cell_type": "code",
   "execution_count": 169,
   "id": "82f59b9c-d73c-40a3-a360-ba4363a578a2",
   "metadata": {},
   "outputs": [
    {
     "name": "stderr",
     "output_type": "stream",
     "text": [
      "100%|██████████| 18884/18884 [2:06:38<00:00,  2.49it/s]  \n"
     ]
    }
   ],
   "source": [
    "metrics_hybrid_20 = test_model_item_user_nousers(model,test,20, True, sparse_feats)\n",
    "#pd.Series(metrics_hybrid_20).to_csv(\"baselines_item-user/metrics_hybrid_20.csv\")"
   ]
  },
  {
   "cell_type": "code",
   "execution_count": 170,
   "id": "a9294855-0e6f-490d-8c63-5e03e99eb138",
   "metadata": {},
   "outputs": [
    {
     "data": {
      "text/plain": [
       "(0.0005, 0.0031449086716142743, 0.0014489530873678807)"
      ]
     },
     "execution_count": 170,
     "metadata": {},
     "output_type": "execute_result"
    }
   ],
   "source": [
    "metrics_hybrid_20"
   ]
  },
  {
   "cell_type": "code",
   "execution_count": 23,
   "id": "6925e1cf-b097-4635-8e46-27089eaf7332",
   "metadata": {
    "tags": []
   },
   "outputs": [
    {
     "name": "stderr",
     "output_type": "stream",
     "text": [
      "100%|██████████| 18884/18884 [1:49:25<00:00,  2.88it/s]\n"
     ]
    }
   ],
   "source": [
    "metrics_hybrid_10 = test_model_item_user_nousers(model,test,10, hybrid=True, item_features= sparse_feats)\n",
    "#pd.Series(metrics).to_csv(\"baselines_item-user/metrics_hybrid_10.csv\")"
   ]
  },
  {
   "cell_type": "code",
   "execution_count": 24,
   "id": "593c97dd-38ec-45e6-b386-45a0c240c093",
   "metadata": {},
   "outputs": [
    {
     "data": {
      "text/plain": [
       "(0.0002, 0.0007657937093469053, 0.00043463292882347875)"
      ]
     },
     "execution_count": 24,
     "metadata": {},
     "output_type": "execute_result"
    }
   ],
   "source": [
    "metrics_hybrid_10"
   ]
  }
 ],
 "metadata": {
  "kernelspec": {
   "display_name": "thesis",
   "language": "python",
   "name": "thesis"
  },
  "language_info": {
   "codemirror_mode": {
    "name": "ipython",
    "version": 3
   },
   "file_extension": ".py",
   "mimetype": "text/x-python",
   "name": "python",
   "nbconvert_exporter": "python",
   "pygments_lexer": "ipython3",
   "version": "3.8.10"
  }
 },
 "nbformat": 4,
 "nbformat_minor": 5
}
