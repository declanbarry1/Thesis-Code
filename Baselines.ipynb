{
 "cells": [
  {
   "cell_type": "code",
   "execution_count": 1,
   "id": "6bd35441-cf1e-4359-b8a0-88918afec161",
   "metadata": {
    "tags": []
   },
   "outputs": [],
   "source": [
    "import orion_recommend\n",
    "from orion_recommend.models import HybridMatrixFactorizationModel as HMFModel\n",
    "import pandas as pd\n",
    "import numpy as np\n",
    "from orion_recommend.datasets import DatasetMap, synthetic, utils, Encoder\n",
    "from orion.sources import S3Source\n",
    "from orion.sources.io import read_csv, write_csv\n",
    "from orion.sources import RedshiftSource\n",
    "import pandas as pd\n",
    "import numpy as np\n",
    "from scipy import sparse\n",
    "from orion_recommend.evaluate import metrics\n",
    "import implicit\n",
    "import lightfm"
   ]
  },
  {
   "cell_type": "code",
   "execution_count": 2,
   "id": "83001c3d-1ab7-4be3-81ad-7336d25f1588",
   "metadata": {},
   "outputs": [
    {
     "name": "stderr",
     "output_type": "stream",
     "text": [
      "/home/declanbarrycbc1/thesis/lib/python3.8/site-packages/IPython/core/interactiveshell.py:3441: DtypeWarning: Columns (0,11) have mixed types.Specify dtype option on import or set low_memory=False.\n",
      "  exec(code_obj, self.user_global_ns, self.user_ns)\n"
     ]
    }
   ],
   "source": [
    "#source = RedshiftSource(query='SELECT * FROM publish.inventory_lookup WHERE productid IS NULL')\n",
    "#df_stock = source.read_csv()\n",
    "\n",
    "with S3Source(key=\"masters/uploads/customers/1560425511130_Peak_customers.csv\", bucket=\"kilimanjaro-prod-datalake\") as s3:\n",
    "    df_cust = read_csv(s3)\n",
    "\n",
    "df_trans = read_csv(S3Source(key=\"masters/uploads/transactions/1560426066385_Peak_transactions.csv\", bucket=\"kilimanjaro-prod-datalake\"))\n",
    "df_prod = read_csv(S3Source(key=\"masters/uploads/product/1560425499995_Peak_product.csv\", bucket=\"kilimanjaro-prod-datalake\"))\n"
   ]
  },
  {
   "cell_type": "code",
   "execution_count": 3,
   "id": "2f3db361-db5c-4fdf-bcf2-d4eba53537ae",
   "metadata": {},
   "outputs": [],
   "source": [
    "# Fix item number \n",
    "df_prod.itemnumber = pd.to_numeric(df_prod.itemnumber, errors='coerce') "
   ]
  },
  {
   "cell_type": "code",
   "execution_count": 4,
   "id": "c41f57ba-91ba-4db3-abee-1a4d417a6e6c",
   "metadata": {},
   "outputs": [],
   "source": [
    "# Drop nas\n",
    "df_prod.dropna(subset=[\"itemnumber\"], inplace=True)"
   ]
  },
  {
   "cell_type": "code",
   "execution_count": 5,
   "id": "3977f0ca-9141-4afd-af6e-564d59a57ee4",
   "metadata": {
    "tags": []
   },
   "outputs": [],
   "source": [
    "# Remove keys not in customer and product tables\n",
    "df_trans = df_trans.iloc[df_trans.customerkey[df_trans.customerkey.isin(df_cust.customerkey)].index,:]\n",
    "df_trans.reset_index(inplace=True, drop=True)\n",
    "df_trans = df_trans.iloc[df_trans.itemnumber[df_trans.itemnumber.isin(df_prod.itemnumber)].index,:]\n",
    "\n",
    "# Reset index before changing keys to integers\n",
    "df_trans.reset_index(inplace=True, drop=True)\n",
    "df_prod.reset_index(inplace=True, drop=True)\n"
   ]
  },
  {
   "cell_type": "code",
   "execution_count": 6,
   "id": "27159bca-76f7-4af4-b9fd-3a0c7690c388",
   "metadata": {},
   "outputs": [],
   "source": [
    "df_prod.dropna(inplace=True)"
   ]
  },
  {
   "cell_type": "code",
   "execution_count": 7,
   "id": "a5060176-6080-4c73-8e27-b92c0699cc23",
   "metadata": {},
   "outputs": [
    {
     "name": "stdout",
     "output_type": "stream",
     "text": [
      "(2434521,)\n",
      "(1701289,)\n"
     ]
    }
   ],
   "source": [
    "print(df_cust.customerkey.unique().shape)\n",
    "df_cust.dropna(inplace=True)\n",
    "print(df_cust.customerkey.unique().shape)"
   ]
  },
  {
   "cell_type": "code",
   "execution_count": 8,
   "id": "e09c5827-9da6-483b-9c27-3edc2ac5ba39",
   "metadata": {},
   "outputs": [],
   "source": [
    "# Drop redundant cols. Fabric all unknown, item colour less info than colourvalue\n",
    "df_prod.drop([\"itemstylecode\", \"itemquarter\", \"itemcolour\", \"fabric\"], axis=1, inplace=True)"
   ]
  },
  {
   "cell_type": "code",
   "execution_count": 9,
   "id": "5a61b57c-2ba2-499c-b48b-16506650d2e5",
   "metadata": {},
   "outputs": [],
   "source": [
    "# Drop columns\n",
    "df_trans.drop([\"salestransactionkey\", \"salesordernumber\",\"discountpercent\", \"grosssales\",\n",
    "              'orderdate', 'ordertime', 'shippingdate','grossprofit', 'pricetype'], axis=1, inplace=True)"
   ]
  },
  {
   "cell_type": "code",
   "execution_count": 10,
   "id": "d3f1c4da-8469-4158-8d6d-098581df90b7",
   "metadata": {},
   "outputs": [],
   "source": [
    "df_cust = df_cust.merge(df_trans, on = 'customerkey', how='left')\n",
    "\n",
    "df_cust.drop(['itemnumber','unitssold'],axis=1, inplace=True)"
   ]
  },
  {
   "cell_type": "code",
   "execution_count": 11,
   "id": "9d975adf-8c66-4163-a246-d472fa5ce314",
   "metadata": {},
   "outputs": [],
   "source": [
    "df_trans.drop(['postcode', 'shipcountry', 'unitssold'], axis=1, inplace=True)"
   ]
  },
  {
   "cell_type": "code",
   "execution_count": 12,
   "id": "221a5ce9-a058-4082-af54-734605cbd58d",
   "metadata": {},
   "outputs": [],
   "source": [
    "# Rename and drop columns, nas\n",
    "df_trans.rename(columns={\"customerkey\":\"user_id\",\"itemnumber\":\"item_id\" }, inplace=True)\n",
    "df_trans.dropna(inplace=True)\n",
    "df_trans.reset_index(inplace=True, drop=True)"
   ]
  },
  {
   "cell_type": "code",
   "execution_count": 13,
   "id": "f94bda37-394a-47be-8c60-db5b9e0459fe",
   "metadata": {},
   "outputs": [],
   "source": [
    "df_cust.rename(columns={\"customerkey\":\"user_id\", \"shipcountry\":'country'}, inplace=True)\n",
    "df_prod.rename(columns={\"itemnumber\":\"item_id\", \"brandcode\":\"brand_id\"}, inplace=True)"
   ]
  },
  {
   "cell_type": "code",
   "execution_count": 14,
   "id": "96abf69a-e0d7-426b-b4b9-41291a6875bf",
   "metadata": {},
   "outputs": [],
   "source": [
    "# Interactions\n",
    "cats = df_trans.select_dtypes('object').columns\n",
    "keys = df_trans[cats].apply(lambda x: x.factorize()[1])\n",
    "df_trans[cats] = df_trans[cats].apply(lambda x: x.factorize()[0])\n",
    "\n",
    "# Users\n",
    "cats = df_cust.select_dtypes('object').columns\n",
    "keys = df_cust[cats].apply(lambda x: x.factorize()[1])\n",
    "df_cust[cats] = df_cust[cats].apply(lambda x: x.factorize()[0])\n",
    "# Items\n",
    "cats = df_prod.select_dtypes('object').columns\n",
    "keys = df_prod[cats].apply(lambda x: x.factorize()[1])\n",
    "df_prod[cats] = df_prod[cats].apply(lambda x: x.factorize()[0])"
   ]
  },
  {
   "cell_type": "code",
   "execution_count": 15,
   "id": "61f47fb2-305c-4bb7-b7d5-8356c539225a",
   "metadata": {},
   "outputs": [],
   "source": [
    "df_new_users = df_cust[~df_cust.user_id.isin(df_trans.user_id)]"
   ]
  },
  {
   "cell_type": "code",
   "execution_count": 16,
   "id": "07edbf4d-10e9-4440-a3f6-66b67c29acb2",
   "metadata": {},
   "outputs": [],
   "source": [
    "np.save(\"new_users\",df_new_users.to_numpy())"
   ]
  },
  {
   "cell_type": "code",
   "execution_count": 17,
   "id": "6285c0fa-e0fa-4179-83e1-bacf18444504",
   "metadata": {},
   "outputs": [],
   "source": [
    "df_cust= df_cust[df_cust.user_id.isin(df_trans.user_id)]\n",
    "df_trans= df_trans[df_trans.user_id.isin(df_cust.user_id)]\n"
   ]
  },
  {
   "cell_type": "code",
   "execution_count": 18,
   "id": "cf2fde37-38bd-438c-913d-273faaa20fe4",
   "metadata": {},
   "outputs": [],
   "source": [
    "df_new_items = df_prod[~df_prod.item_id.isin(df_trans.item_id)]"
   ]
  },
  {
   "cell_type": "code",
   "execution_count": 19,
   "id": "b35b2c48-1098-4cd5-b866-995302b868a2",
   "metadata": {},
   "outputs": [],
   "source": [
    "np.save(\"new_items\",df_new_items.to_numpy())"
   ]
  },
  {
   "cell_type": "code",
   "execution_count": 20,
   "id": "6c12b069-deca-402c-bbf5-a06bb9ba44a1",
   "metadata": {},
   "outputs": [],
   "source": [
    "df_prod = df_prod[df_prod.item_id.isin(df_trans.item_id)]\n",
    "df_trans = df_trans[df_trans.item_id.isin(df_prod.item_id)]"
   ]
  },
  {
   "cell_type": "code",
   "execution_count": 21,
   "id": "2d7a9681-32b2-49e9-b209-202e1479713d",
   "metadata": {},
   "outputs": [],
   "source": [
    "df_trans.user_id = df_trans.user_id.astype('int32')"
   ]
  },
  {
   "cell_type": "code",
   "execution_count": 22,
   "id": "5b971574-eb40-4ee0-9b51-2911cb40675e",
   "metadata": {},
   "outputs": [],
   "source": [
    "df_cust.user_id = df_cust.user_id.astype('int32')"
   ]
  },
  {
   "cell_type": "code",
   "execution_count": 23,
   "id": "aaa8e02c-b47b-4e40-b03c-ad57b9b9a1b9",
   "metadata": {},
   "outputs": [],
   "source": [
    "df_prod.item_id = df_prod.item_id.astype('int32')"
   ]
  },
  {
   "cell_type": "code",
   "execution_count": 24,
   "id": "afe14b92-fc18-4232-808e-13c5164dfc59",
   "metadata": {},
   "outputs": [],
   "source": [
    "df_trans.rename(columns={\"user_id\":\"user\", \"item_id\":'item'}, inplace=True)\n",
    "df_cust.rename(columns={\"customerkey\":\"user\", \"shipcountry\":'country'}, inplace=True)\n",
    "df_prod.rename(columns={\"item_id\":\"item\", \"brandcode\":\"brand_id\"}, inplace=True)"
   ]
  },
  {
   "cell_type": "code",
   "execution_count": 25,
   "id": "c3080239-4c87-494c-a08e-9e0bdcaaf9e6",
   "metadata": {},
   "outputs": [],
   "source": [
    "item_num = df_prod.item.unique().shape[0]"
   ]
  },
  {
   "cell_type": "code",
   "execution_count": 26,
   "id": "ae265930-9d9c-442e-8ad6-af4366ab2008",
   "metadata": {},
   "outputs": [
    {
     "data": {
      "text/plain": [
       "36126"
      ]
     },
     "execution_count": 26,
     "metadata": {},
     "output_type": "execute_result"
    }
   ],
   "source": [
    "item_num"
   ]
  },
  {
   "cell_type": "code",
   "execution_count": 27,
   "id": "1b517707-b6be-443b-bc7a-410499411a21",
   "metadata": {},
   "outputs": [],
   "source": [
    "#Renumber item ids\n",
    "ints = [i for i in range(item_num)]\n",
    "item_keys = [i for i in df_prod.item.unique()]\n",
    "item_key_dict = {i:j for i,j in zip( item_keys, ints)}\n",
    "\n",
    "# Change keys to integers in dataframes\n",
    "df_prod.item = [item_key_dict[df_prod.item.iloc[i]] for i in range(len(df_prod))]"
   ]
  },
  {
   "cell_type": "code",
   "execution_count": 28,
   "id": "24cefee1-694b-4299-8d90-37c5e47de3d4",
   "metadata": {},
   "outputs": [],
   "source": [
    "df_trans.item = [item_key_dict[df_trans.item.iloc[i]] for i in range(len(df_trans))]"
   ]
  },
  {
   "cell_type": "markdown",
   "id": "82896784-c881-4028-bf2f-44387aaeb8c7",
   "metadata": {},
   "source": [
    "### Final dataframes to be used\n"
   ]
  },
  {
   "cell_type": "code",
   "execution_count": 40,
   "id": "04fb7788-4ed6-435b-bc5c-531fc89af3e7",
   "metadata": {},
   "outputs": [],
   "source": [
    "df_prod.to_csv(\"items\")\n",
    "\n",
    "df_cust.to_csv(\"users\")\n",
    "\n",
    "df_trans.to_csv(\"interactions\")"
   ]
  },
  {
   "cell_type": "markdown",
   "id": "ec2ae2a4-e632-4ef9-8696-ee59f8fe6d53",
   "metadata": {},
   "source": [
    "### Orion baselines"
   ]
  },
  {
   "cell_type": "code",
   "execution_count": 29,
   "id": "be024afb-159c-4092-84d2-ba38b6e1fe01",
   "metadata": {},
   "outputs": [
    {
     "name": "stderr",
     "output_type": "stream",
     "text": [
      "/home/declanbarrycbc1/thesis/src/orion-recommend/orion_recommend/evaluate/utils.py:176: UserWarning: The total number of users that can be sampled from for your test set is less than 75% of the available users. Consider reducing yourchosen 'n_test' (it is set to 1).\n",
      "  warnings.warn(\n",
      "/home/declanbarrycbc1/thesis/src/orion-recommend/orion_recommend/datasets/dataset_map.py:222: UserWarning: There are elements in 'customer_list' that are not in 'users'.\n",
      "  warnings.warn(\n",
      "/home/declanbarrycbc1/thesis/src/orion-recommend/orion_recommend/datasets/dataset_map.py:222: UserWarning: There are elements in 'inventory' that are not in 'items'.\n",
      "  warnings.warn(\n",
      "/home/declanbarrycbc1/thesis/src/orion-recommend/orion_recommend/datasets/dataset_map.py:222: UserWarning: There are elements in 'customer_list' that are not in 'users'.\n",
      "  warnings.warn(\n",
      "/home/declanbarrycbc1/thesis/src/orion-recommend/orion_recommend/datasets/dataset_map.py:222: UserWarning: There are elements in 'inventory' that are not in 'items'.\n",
      "  warnings.warn(\n"
     ]
    }
   ],
   "source": [
    "train, test = DatasetMap.split(df_trans, users=df_cust, items=df_prod, frac_train=0.8)"
   ]
  },
  {
   "cell_type": "code",
   "execution_count": 30,
   "id": "1b188e45-d7cc-47ef-aee8-a5dad5f28ee2",
   "metadata": {},
   "outputs": [],
   "source": [
    "model = HMFModel()"
   ]
  },
  {
   "cell_type": "code",
   "execution_count": 50,
   "id": "443232a3-8b06-45c1-a4cc-86d6cf761a50",
   "metadata": {},
   "outputs": [
    {
     "data": {
      "text/plain": [
       "<orion_recommend.models.hmf.HybridMatrixFactorizationModel at 0x7feff8a062b0>"
      ]
     },
     "execution_count": 50,
     "metadata": {},
     "output_type": "execute_result"
    }
   ],
   "source": [
    "model.fit(train)"
   ]
  },
  {
   "cell_type": "code",
   "execution_count": 45,
   "id": "117a474e-e3d5-4dc0-9edb-b5d75df0e379",
   "metadata": {},
   "outputs": [],
   "source": [
    "%%capture\n",
    "preds = model.predict(test.items)\n"
   ]
  },
  {
   "cell_type": "code",
   "execution_count": 52,
   "id": "c57a6813-5d39-4abc-a771-b7337590cd0f",
   "metadata": {},
   "outputs": [
    {
     "ename": "TypeError",
     "evalue": "Invalid type passed to user_ids parameter. This must be either int or np.int32 array. Type received: <class 'numpy.int64'>",
     "output_type": "error",
     "traceback": [
      "\u001b[0;31m---------------------------------------------------------------------------\u001b[0m",
      "\u001b[0;31mTypeError\u001b[0m                                 Traceback (most recent call last)",
      "\u001b[0;32m<ipython-input-52-9d92f828695e>\u001b[0m in \u001b[0;36m<module>\u001b[0;34m\u001b[0m\n\u001b[0;32m----> 1\u001b[0;31m \u001b[0mprint\u001b[0m\u001b[0;34m(\u001b[0m\u001b[0mmodel\u001b[0m\u001b[0;34m.\u001b[0m\u001b[0mscore\u001b[0m\u001b[0;34m(\u001b[0m\u001b[0mtest\u001b[0m\u001b[0;34m,\u001b[0m \u001b[0mk\u001b[0m\u001b[0;34m=\u001b[0m\u001b[0;36m10\u001b[0m\u001b[0;34m,\u001b[0m \u001b[0mfn\u001b[0m\u001b[0;34m=\u001b[0m\u001b[0mmetrics\u001b[0m\u001b[0;34m.\u001b[0m\u001b[0mtruncated_ndcg\u001b[0m\u001b[0;34m)\u001b[0m\u001b[0;34m)\u001b[0m\u001b[0;34m\u001b[0m\u001b[0;34m\u001b[0m\u001b[0m\n\u001b[0m",
      "\u001b[0;32m~/thesis/src/orion-recommend/orion_recommend/models/hmf.py\u001b[0m in \u001b[0;36mscore\u001b[0;34m(self, test, train, fn, k, **kwargs)\u001b[0m\n\u001b[1;32m     65\u001b[0m \u001b[0;34m\u001b[0m\u001b[0m\n\u001b[1;32m     66\u001b[0m         recs = np.asarray(\n\u001b[0;32m---> 67\u001b[0;31m             [\n\u001b[0m\u001b[1;32m     68\u001b[0m                 \u001b[0mself\u001b[0m\u001b[0;34m.\u001b[0m\u001b[0m_rank_items_single\u001b[0m\u001b[0;34m(\u001b[0m\u001b[0muser\u001b[0m\u001b[0;34m,\u001b[0m \u001b[0mitems\u001b[0m\u001b[0;34m)\u001b[0m\u001b[0;34m\u001b[0m\u001b[0;34m\u001b[0m\u001b[0m\n\u001b[1;32m     69\u001b[0m                 \u001b[0;32mfor\u001b[0m \u001b[0muser\u001b[0m\u001b[0;34m,\u001b[0m \u001b[0mitems\u001b[0m \u001b[0;32min\u001b[0m \u001b[0mzip\u001b[0m\u001b[0;34m(\u001b[0m\u001b[0musers\u001b[0m\u001b[0;34m,\u001b[0m \u001b[0mrankings\u001b[0m\u001b[0;34m)\u001b[0m\u001b[0;34m\u001b[0m\u001b[0;34m\u001b[0m\u001b[0m\n",
      "\u001b[0;32m~/thesis/src/orion-recommend/orion_recommend/models/hmf.py\u001b[0m in \u001b[0;36m<listcomp>\u001b[0;34m(.0)\u001b[0m\n\u001b[1;32m     66\u001b[0m         recs = np.asarray(\n\u001b[1;32m     67\u001b[0m             [\n\u001b[0;32m---> 68\u001b[0;31m                 \u001b[0mself\u001b[0m\u001b[0;34m.\u001b[0m\u001b[0m_rank_items_single\u001b[0m\u001b[0;34m(\u001b[0m\u001b[0muser\u001b[0m\u001b[0;34m,\u001b[0m \u001b[0mitems\u001b[0m\u001b[0;34m)\u001b[0m\u001b[0;34m\u001b[0m\u001b[0;34m\u001b[0m\u001b[0m\n\u001b[0m\u001b[1;32m     69\u001b[0m                 \u001b[0;32mfor\u001b[0m \u001b[0muser\u001b[0m\u001b[0;34m,\u001b[0m \u001b[0mitems\u001b[0m \u001b[0;32min\u001b[0m \u001b[0mzip\u001b[0m\u001b[0;34m(\u001b[0m\u001b[0musers\u001b[0m\u001b[0;34m,\u001b[0m \u001b[0mrankings\u001b[0m\u001b[0;34m)\u001b[0m\u001b[0;34m\u001b[0m\u001b[0;34m\u001b[0m\u001b[0m\n\u001b[1;32m     70\u001b[0m             ]\n",
      "\u001b[0;32m~/thesis/src/orion-recommend/orion_recommend/models/hmf.py\u001b[0m in \u001b[0;36m_rank_items_single\u001b[0;34m(self, user, selected)\u001b[0m\n\u001b[1;32m    328\u001b[0m     \u001b[0;32mdef\u001b[0m \u001b[0m_rank_items_single\u001b[0m\u001b[0;34m(\u001b[0m\u001b[0mself\u001b[0m\u001b[0;34m,\u001b[0m \u001b[0muser\u001b[0m\u001b[0;34m,\u001b[0m \u001b[0mselected\u001b[0m\u001b[0;34m)\u001b[0m\u001b[0;34m:\u001b[0m\u001b[0;34m\u001b[0m\u001b[0;34m\u001b[0m\u001b[0m\n\u001b[1;32m    329\u001b[0m \u001b[0;34m\u001b[0m\u001b[0m\n\u001b[0;32m--> 330\u001b[0;31m         scores = self._model.predict(\n\u001b[0m\u001b[1;32m    331\u001b[0m             \u001b[0muser\u001b[0m\u001b[0;34m,\u001b[0m\u001b[0;34m\u001b[0m\u001b[0;34m\u001b[0m\u001b[0m\n\u001b[1;32m    332\u001b[0m             \u001b[0mselected\u001b[0m\u001b[0;34m.\u001b[0m\u001b[0mcopy\u001b[0m\u001b[0;34m(\u001b[0m\u001b[0morder\u001b[0m\u001b[0;34m=\u001b[0m\u001b[0;34m\"C\"\u001b[0m\u001b[0;34m)\u001b[0m\u001b[0;34m,\u001b[0m\u001b[0;34m\u001b[0m\u001b[0;34m\u001b[0m\u001b[0m\n",
      "\u001b[0;32m~/thesis/lib/python3.8/site-packages/lightfm/lightfm.py\u001b[0m in \u001b[0;36mpredict\u001b[0;34m(self, user_ids, item_ids, item_features, user_features, num_threads)\u001b[0m\n\u001b[1;32m    786\u001b[0m \u001b[0;34m\u001b[0m\u001b[0m\n\u001b[1;32m    787\u001b[0m         \u001b[0;32mif\u001b[0m \u001b[0;32mnot\u001b[0m \u001b[0misinstance\u001b[0m\u001b[0;34m(\u001b[0m\u001b[0muser_ids\u001b[0m\u001b[0;34m,\u001b[0m \u001b[0mnp\u001b[0m\u001b[0;34m.\u001b[0m\u001b[0mndarray\u001b[0m\u001b[0;34m)\u001b[0m\u001b[0;34m:\u001b[0m\u001b[0;34m\u001b[0m\u001b[0;34m\u001b[0m\u001b[0m\n\u001b[0;32m--> 788\u001b[0;31m             raise TypeError(\n\u001b[0m\u001b[1;32m    789\u001b[0m                 \u001b[0;34mf\"Invalid type passed to user_ids parameter. \"\u001b[0m\u001b[0;34m\u001b[0m\u001b[0;34m\u001b[0m\u001b[0m\n\u001b[1;32m    790\u001b[0m                 \u001b[0;34mf\"This must be either int or np.int32 array. \"\u001b[0m\u001b[0;34m\u001b[0m\u001b[0;34m\u001b[0m\u001b[0m\n",
      "\u001b[0;31mTypeError\u001b[0m: Invalid type passed to user_ids parameter. This must be either int or np.int32 array. Type received: <class 'numpy.int64'>"
     ]
    }
   ],
   "source": [
    "print(model.score(test, k=10, fn=metrics.truncated_ndcg))\n"
   ]
  },
  {
   "cell_type": "code",
   "execution_count": null,
   "id": "6c4d2657-7b9d-47d9-b6af-c0322cfd1e95",
   "metadata": {},
   "outputs": [],
   "source": [
    "fts = df_prod.iloc[:,1:]"
   ]
  },
  {
   "cell_type": "code",
   "execution_count": null,
   "id": "6f5d3b73-4357-40fe-9805-746f2707478e",
   "metadata": {
    "tags": []
   },
   "outputs": [],
   "source": [
    "model.score(test,train, k=10, fn=metrics.ndcg)\n",
    "model.score(test, train, k=10, fn=metrics.precision_at_k)"
   ]
  },
  {
   "cell_type": "markdown",
   "id": "59ef126c-e591-4d37-92f8-110741b0a3ee",
   "metadata": {},
   "source": [
    "### Implicit"
   ]
  },
  {
   "cell_type": "code",
   "execution_count": null,
   "id": "e9ccb9b8-9c88-4879-b747-f52055674dc0",
   "metadata": {},
   "outputs": [],
   "source": [
    "from implicit.bpr import BayesianPersonalizedRanking as BPR\n"
   ]
  },
  {
   "cell_type": "code",
   "execution_count": null,
   "id": "c890ba7f-a539-4883-8b66-7c9e3574d8b8",
   "metadata": {},
   "outputs": [],
   "source": [
    "mod = BPR()"
   ]
  },
  {
   "cell_type": "code",
   "execution_count": null,
   "id": "86735377-fe57-4ebc-ad43-7ee36564d6c3",
   "metadata": {},
   "outputs": [],
   "source": [
    "mod.fit(train)"
   ]
  }
 ],
 "metadata": {
  "kernelspec": {
   "display_name": "thesis",
   "language": "python",
   "name": "thesis"
  },
  "language_info": {
   "codemirror_mode": {
    "name": "ipython",
    "version": 3
   },
   "file_extension": ".py",
   "mimetype": "text/x-python",
   "name": "python",
   "nbconvert_exporter": "python",
   "pygments_lexer": "ipython3",
   "version": "3.8.10"
  }
 },
 "nbformat": 4,
 "nbformat_minor": 5
}
