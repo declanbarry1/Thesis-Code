{
 "cells": [
  {
   "cell_type": "code",
   "execution_count": 74,
   "id": "6bd35441-cf1e-4359-b8a0-88918afec161",
   "metadata": {
    "tags": []
   },
   "outputs": [],
   "source": [
    "import orion_recommend\n",
    "from orion_recommend.models import HybridMatrixFactorizationModel as HMFModel\n",
    "from orion_recommend.models import MatrixFactorizationModel as MFModel\n",
    "\n",
    "import pandas as pd\n",
    "import numpy as np\n",
    "from orion_recommend.datasets import DatasetMap, synthetic, utils, Encoder\n",
    "from orion.sources import S3Source\n",
    "from orion.sources.io import read_csv, write_csv\n",
    "from orion.sources import RedshiftSource\n",
    "import pandas as pd\n",
    "import numpy as np\n",
    "from scipy import sparse\n",
    "from orion_recommend.evaluate import metrics\n",
    "import implicit\n",
    "import lightfm"
   ]
  },
  {
   "cell_type": "markdown",
   "id": "ec2ae2a4-e632-4ef9-8696-ee59f8fe6d53",
   "metadata": {},
   "source": [
    "### Orion baselines"
   ]
  },
  {
   "cell_type": "code",
   "execution_count": 15,
   "id": "3d549f0d-d329-4663-9e69-0068ad663005",
   "metadata": {
    "tags": []
   },
   "outputs": [],
   "source": [
    "users = pd.read_csv(\"users\", index_col= 0)\n",
    "items = pd.read_csv(\"items\", index_col= 0)\n",
    "interactions = pd.read_csv(\"interactions\", index_col= 0)"
   ]
  },
  {
   "cell_type": "code",
   "execution_count": 71,
   "id": "be024afb-159c-4092-84d2-ba38b6e1fe01",
   "metadata": {},
   "outputs": [
    {
     "name": "stderr",
     "output_type": "stream",
     "text": [
      "/home/declanbarrycbc1/thesis/src/orion-recommend/orion_recommend/evaluate/utils.py:176: UserWarning: The total number of users that can be sampled from for your test set is less than 75% of the available users. Consider reducing yourchosen 'n_test' (it is set to 1).\n",
      "  warnings.warn(\n",
      "/home/declanbarrycbc1/thesis/src/orion-recommend/orion_recommend/datasets/dataset_map.py:222: UserWarning: There are elements in 'customer_list' that are not in 'users'.\n",
      "  warnings.warn(\n",
      "/home/declanbarrycbc1/thesis/src/orion-recommend/orion_recommend/datasets/dataset_map.py:222: UserWarning: There are elements in 'inventory' that are not in 'items'.\n",
      "  warnings.warn(\n",
      "/home/declanbarrycbc1/thesis/src/orion-recommend/orion_recommend/datasets/dataset_map.py:222: UserWarning: There are elements in 'customer_list' that are not in 'users'.\n",
      "  warnings.warn(\n",
      "/home/declanbarrycbc1/thesis/src/orion-recommend/orion_recommend/datasets/dataset_map.py:222: UserWarning: There are elements in 'inventory' that are not in 'items'.\n",
      "  warnings.warn(\n"
     ]
    }
   ],
   "source": [
    "train, test = DatasetMap.split(interactions, users=users, items=items, frac_train=0.8)"
   ]
  },
  {
   "cell_type": "code",
   "execution_count": 94,
   "id": "8b1eaf23-630b-4dd2-a745-7433c84f368f",
   "metadata": {},
   "outputs": [],
   "source": [
    "hmod = HMFModel()"
   ]
  },
  {
   "cell_type": "code",
   "execution_count": 75,
   "id": "1b188e45-d7cc-47ef-aee8-a5dad5f28ee2",
   "metadata": {},
   "outputs": [
    {
     "name": "stderr",
     "output_type": "stream",
     "text": [
      "WARNING:root:OpenBLAS detected. Its highly recommend to set the environment variable 'export OPENBLAS_NUM_THREADS=1' to disable its internal multithreading\n"
     ]
    }
   ],
   "source": [
    "model = MFModel()"
   ]
  },
  {
   "cell_type": "code",
   "execution_count": 95,
   "id": "92ff8999-654d-4560-ad90-1f95748cb5de",
   "metadata": {},
   "outputs": [
    {
     "data": {
      "text/plain": [
       "<orion_recommend.models.hmf.HybridMatrixFactorizationModel at 0x7f430ab8ae20>"
      ]
     },
     "execution_count": 95,
     "metadata": {},
     "output_type": "execute_result"
    }
   ],
   "source": [
    "hmod.fit(train)"
   ]
  },
  {
   "cell_type": "code",
   "execution_count": 97,
   "id": "40d88cd9-1148-4630-8e86-7903962ae24e",
   "metadata": {},
   "outputs": [],
   "source": [
    "x = hmod.fit(train)"
   ]
  },
  {
   "cell_type": "code",
   "execution_count": 101,
   "id": "6f8924da-39cb-4731-b454-428964563645",
   "metadata": {},
   "outputs": [
    {
     "ename": "KeyboardInterrupt",
     "evalue": "",
     "output_type": "error",
     "traceback": [
      "\u001b[0;31m---------------------------------------------------------------------------\u001b[0m",
      "\u001b[0;31mKeyboardInterrupt\u001b[0m                         Traceback (most recent call last)",
      "\u001b[0;32m<ipython-input-101-4934f155cbaf>\u001b[0m in \u001b[0;36m<module>\u001b[0;34m\u001b[0m\n\u001b[0;32m----> 1\u001b[0;31m \u001b[0mH_preds\u001b[0m \u001b[0;34m=\u001b[0m \u001b[0mx\u001b[0m\u001b[0;34m.\u001b[0m\u001b[0mpredict\u001b[0m\u001b[0;34m(\u001b[0m\u001b[0mtest\u001b[0m\u001b[0;34m.\u001b[0m\u001b[0mitems\u001b[0m\u001b[0;34m,\u001b[0m \u001b[0mn\u001b[0m\u001b[0;34m=\u001b[0m\u001b[0;36m10\u001b[0m\u001b[0;34m)\u001b[0m\u001b[0;34m\u001b[0m\u001b[0;34m\u001b[0m\u001b[0m\n\u001b[0m",
      "\u001b[0;32m~/thesis/src/orion-recommend/orion_recommend/models/base.py\u001b[0m in \u001b[0;36mpredict\u001b[0;34m(self, *args, **kwargs)\u001b[0m\n\u001b[1;32m     60\u001b[0m     ) -> Dict[str, List[str]]:\n\u001b[1;32m     61\u001b[0m \u001b[0;34m\u001b[0m\u001b[0m\n\u001b[0;32m---> 62\u001b[0;31m         \u001b[0;32mreturn\u001b[0m \u001b[0mself\u001b[0m\u001b[0;34m.\u001b[0m\u001b[0mrecommend\u001b[0m\u001b[0;34m(\u001b[0m\u001b[0;34m*\u001b[0m\u001b[0margs\u001b[0m\u001b[0;34m,\u001b[0m \u001b[0;34m**\u001b[0m\u001b[0mkwargs\u001b[0m\u001b[0;34m)\u001b[0m\u001b[0;34m\u001b[0m\u001b[0;34m\u001b[0m\u001b[0m\n\u001b[0m\u001b[1;32m     63\u001b[0m \u001b[0;34m\u001b[0m\u001b[0m\n\u001b[1;32m     64\u001b[0m     def recommend(\n",
      "\u001b[0;32m~/thesis/src/orion-recommend/orion_recommend/models/hmf.py\u001b[0m in \u001b[0;36mrecommend\u001b[0;34m(self, targets, using_tags, *args, **kwargs)\u001b[0m\n\u001b[1;32m     95\u001b[0m     ) -> Dict[str, List[str]]:\n\u001b[1;32m     96\u001b[0m         \u001b[0;32mif\u001b[0m \u001b[0;32mnot\u001b[0m \u001b[0musing_tags\u001b[0m\u001b[0;34m:\u001b[0m\u001b[0;34m\u001b[0m\u001b[0;34m\u001b[0m\u001b[0m\n\u001b[0;32m---> 97\u001b[0;31m             \u001b[0;32mreturn\u001b[0m \u001b[0msuper\u001b[0m\u001b[0;34m(\u001b[0m\u001b[0;34m)\u001b[0m\u001b[0;34m.\u001b[0m\u001b[0mrecommend\u001b[0m\u001b[0;34m(\u001b[0m\u001b[0mtargets\u001b[0m\u001b[0;34m,\u001b[0m \u001b[0;34m*\u001b[0m\u001b[0margs\u001b[0m\u001b[0;34m,\u001b[0m \u001b[0;34m**\u001b[0m\u001b[0mkwargs\u001b[0m\u001b[0;34m)\u001b[0m\u001b[0;34m\u001b[0m\u001b[0;34m\u001b[0m\u001b[0m\n\u001b[0m\u001b[1;32m     98\u001b[0m         \u001b[0;32melse\u001b[0m\u001b[0;34m:\u001b[0m\u001b[0;34m\u001b[0m\u001b[0;34m\u001b[0m\u001b[0m\n\u001b[1;32m     99\u001b[0m             \u001b[0;32mreturn\u001b[0m \u001b[0mself\u001b[0m\u001b[0;34m.\u001b[0m\u001b[0mrecommend_from_tags\u001b[0m\u001b[0;34m(\u001b[0m\u001b[0mtargets\u001b[0m\u001b[0;34m,\u001b[0m \u001b[0;34m*\u001b[0m\u001b[0margs\u001b[0m\u001b[0;34m,\u001b[0m \u001b[0;34m**\u001b[0m\u001b[0mkwargs\u001b[0m\u001b[0;34m)\u001b[0m\u001b[0;34m\u001b[0m\u001b[0;34m\u001b[0m\u001b[0m\n",
      "\u001b[0;32m~/thesis/src/orion-recommend/orion_recommend/models/base.py\u001b[0m in \u001b[0;36mrecommend\u001b[0;34m(self, users, chunk_size, workers, filter_items, *args, **kwargs)\u001b[0m\n\u001b[1;32m     94\u001b[0m             )\n\u001b[1;32m     95\u001b[0m \u001b[0;34m\u001b[0m\u001b[0m\n\u001b[0;32m---> 96\u001b[0;31m             recs = parallelized_mapping(\n\u001b[0m\u001b[1;32m     97\u001b[0m                 \u001b[0mfn\u001b[0m\u001b[0;34m,\u001b[0m \u001b[0mencoded_users\u001b[0m\u001b[0;34m,\u001b[0m \u001b[0mworkers\u001b[0m\u001b[0;34m=\u001b[0m\u001b[0mworkers\u001b[0m\u001b[0;34m,\u001b[0m \u001b[0mchunk_size\u001b[0m\u001b[0;34m=\u001b[0m\u001b[0mchunk_size\u001b[0m\u001b[0;34m\u001b[0m\u001b[0;34m\u001b[0m\u001b[0m\n\u001b[1;32m     98\u001b[0m             )\n",
      "\u001b[0;32m~/thesis/src/orion-recommend/orion_recommend/models/utils.py\u001b[0m in \u001b[0;36mparallelized_mapping\u001b[0;34m(fn, arr, workers, chunk_size)\u001b[0m\n\u001b[1;32m     21\u001b[0m         \u001b[0mprocesses\u001b[0m\u001b[0;34m=\u001b[0m\u001b[0mn_cpu\u001b[0m\u001b[0;34m,\u001b[0m \u001b[0minitializer\u001b[0m\u001b[0;34m=\u001b[0m\u001b[0mtqdm\u001b[0m\u001b[0;34m.\u001b[0m\u001b[0mset_lock\u001b[0m\u001b[0;34m,\u001b[0m \u001b[0minitargs\u001b[0m\u001b[0;34m=\u001b[0m\u001b[0;34m(\u001b[0m\u001b[0mtqdm\u001b[0m\u001b[0;34m.\u001b[0m\u001b[0mget_lock\u001b[0m\u001b[0;34m(\u001b[0m\u001b[0;34m)\u001b[0m\u001b[0;34m,\u001b[0m\u001b[0;34m)\u001b[0m\u001b[0;34m\u001b[0m\u001b[0;34m\u001b[0m\u001b[0m\n\u001b[1;32m     22\u001b[0m     ) as pool:\n\u001b[0;32m---> 23\u001b[0;31m         \u001b[0mrecs\u001b[0m \u001b[0;34m=\u001b[0m \u001b[0;34m{\u001b[0m\u001b[0mk\u001b[0m\u001b[0;34m:\u001b[0m \u001b[0mv\u001b[0m \u001b[0;32mfor\u001b[0m \u001b[0mx\u001b[0m \u001b[0;32min\u001b[0m \u001b[0mpool\u001b[0m\u001b[0;34m.\u001b[0m\u001b[0mmap\u001b[0m\u001b[0;34m(\u001b[0m\u001b[0mfn\u001b[0m\u001b[0;34m,\u001b[0m \u001b[0mtarget_chunks\u001b[0m\u001b[0;34m)\u001b[0m \u001b[0;32mfor\u001b[0m \u001b[0;34m(\u001b[0m\u001b[0mk\u001b[0m\u001b[0;34m,\u001b[0m \u001b[0mv\u001b[0m\u001b[0;34m)\u001b[0m \u001b[0;32min\u001b[0m \u001b[0mx\u001b[0m\u001b[0;34m.\u001b[0m\u001b[0mitems\u001b[0m\u001b[0;34m(\u001b[0m\u001b[0;34m)\u001b[0m\u001b[0;34m}\u001b[0m\u001b[0;34m\u001b[0m\u001b[0;34m\u001b[0m\u001b[0m\n\u001b[0m\u001b[1;32m     24\u001b[0m \u001b[0;34m\u001b[0m\u001b[0m\n\u001b[1;32m     25\u001b[0m     \u001b[0;32mreturn\u001b[0m \u001b[0mrecs\u001b[0m\u001b[0;34m\u001b[0m\u001b[0;34m\u001b[0m\u001b[0m\n",
      "\u001b[0;32m/usr/local/lib/python3.8/multiprocessing/pool.py\u001b[0m in \u001b[0;36mmap\u001b[0;34m(self, func, iterable, chunksize)\u001b[0m\n\u001b[1;32m    362\u001b[0m         \u001b[0;32min\u001b[0m \u001b[0ma\u001b[0m \u001b[0mlist\u001b[0m \u001b[0mthat\u001b[0m \u001b[0;32mis\u001b[0m \u001b[0mreturned\u001b[0m\u001b[0;34m.\u001b[0m\u001b[0;34m\u001b[0m\u001b[0;34m\u001b[0m\u001b[0m\n\u001b[1;32m    363\u001b[0m         '''\n\u001b[0;32m--> 364\u001b[0;31m         \u001b[0;32mreturn\u001b[0m \u001b[0mself\u001b[0m\u001b[0;34m.\u001b[0m\u001b[0m_map_async\u001b[0m\u001b[0;34m(\u001b[0m\u001b[0mfunc\u001b[0m\u001b[0;34m,\u001b[0m \u001b[0miterable\u001b[0m\u001b[0;34m,\u001b[0m \u001b[0mmapstar\u001b[0m\u001b[0;34m,\u001b[0m \u001b[0mchunksize\u001b[0m\u001b[0;34m)\u001b[0m\u001b[0;34m.\u001b[0m\u001b[0mget\u001b[0m\u001b[0;34m(\u001b[0m\u001b[0;34m)\u001b[0m\u001b[0;34m\u001b[0m\u001b[0;34m\u001b[0m\u001b[0m\n\u001b[0m\u001b[1;32m    365\u001b[0m \u001b[0;34m\u001b[0m\u001b[0m\n\u001b[1;32m    366\u001b[0m     \u001b[0;32mdef\u001b[0m \u001b[0mstarmap\u001b[0m\u001b[0;34m(\u001b[0m\u001b[0mself\u001b[0m\u001b[0;34m,\u001b[0m \u001b[0mfunc\u001b[0m\u001b[0;34m,\u001b[0m \u001b[0miterable\u001b[0m\u001b[0;34m,\u001b[0m \u001b[0mchunksize\u001b[0m\u001b[0;34m=\u001b[0m\u001b[0;32mNone\u001b[0m\u001b[0;34m)\u001b[0m\u001b[0;34m:\u001b[0m\u001b[0;34m\u001b[0m\u001b[0;34m\u001b[0m\u001b[0m\n",
      "\u001b[0;32m/usr/local/lib/python3.8/multiprocessing/pool.py\u001b[0m in \u001b[0;36mget\u001b[0;34m(self, timeout)\u001b[0m\n\u001b[1;32m    763\u001b[0m \u001b[0;34m\u001b[0m\u001b[0m\n\u001b[1;32m    764\u001b[0m     \u001b[0;32mdef\u001b[0m \u001b[0mget\u001b[0m\u001b[0;34m(\u001b[0m\u001b[0mself\u001b[0m\u001b[0;34m,\u001b[0m \u001b[0mtimeout\u001b[0m\u001b[0;34m=\u001b[0m\u001b[0;32mNone\u001b[0m\u001b[0;34m)\u001b[0m\u001b[0;34m:\u001b[0m\u001b[0;34m\u001b[0m\u001b[0;34m\u001b[0m\u001b[0m\n\u001b[0;32m--> 765\u001b[0;31m         \u001b[0mself\u001b[0m\u001b[0;34m.\u001b[0m\u001b[0mwait\u001b[0m\u001b[0;34m(\u001b[0m\u001b[0mtimeout\u001b[0m\u001b[0;34m)\u001b[0m\u001b[0;34m\u001b[0m\u001b[0;34m\u001b[0m\u001b[0m\n\u001b[0m\u001b[1;32m    766\u001b[0m         \u001b[0;32mif\u001b[0m \u001b[0;32mnot\u001b[0m \u001b[0mself\u001b[0m\u001b[0;34m.\u001b[0m\u001b[0mready\u001b[0m\u001b[0;34m(\u001b[0m\u001b[0;34m)\u001b[0m\u001b[0;34m:\u001b[0m\u001b[0;34m\u001b[0m\u001b[0;34m\u001b[0m\u001b[0m\n\u001b[1;32m    767\u001b[0m             \u001b[0;32mraise\u001b[0m \u001b[0mTimeoutError\u001b[0m\u001b[0;34m\u001b[0m\u001b[0;34m\u001b[0m\u001b[0m\n",
      "\u001b[0;32m/usr/local/lib/python3.8/multiprocessing/pool.py\u001b[0m in \u001b[0;36mwait\u001b[0;34m(self, timeout)\u001b[0m\n\u001b[1;32m    760\u001b[0m \u001b[0;34m\u001b[0m\u001b[0m\n\u001b[1;32m    761\u001b[0m     \u001b[0;32mdef\u001b[0m \u001b[0mwait\u001b[0m\u001b[0;34m(\u001b[0m\u001b[0mself\u001b[0m\u001b[0;34m,\u001b[0m \u001b[0mtimeout\u001b[0m\u001b[0;34m=\u001b[0m\u001b[0;32mNone\u001b[0m\u001b[0;34m)\u001b[0m\u001b[0;34m:\u001b[0m\u001b[0;34m\u001b[0m\u001b[0;34m\u001b[0m\u001b[0m\n\u001b[0;32m--> 762\u001b[0;31m         \u001b[0mself\u001b[0m\u001b[0;34m.\u001b[0m\u001b[0m_event\u001b[0m\u001b[0;34m.\u001b[0m\u001b[0mwait\u001b[0m\u001b[0;34m(\u001b[0m\u001b[0mtimeout\u001b[0m\u001b[0;34m)\u001b[0m\u001b[0;34m\u001b[0m\u001b[0;34m\u001b[0m\u001b[0m\n\u001b[0m\u001b[1;32m    763\u001b[0m \u001b[0;34m\u001b[0m\u001b[0m\n\u001b[1;32m    764\u001b[0m     \u001b[0;32mdef\u001b[0m \u001b[0mget\u001b[0m\u001b[0;34m(\u001b[0m\u001b[0mself\u001b[0m\u001b[0;34m,\u001b[0m \u001b[0mtimeout\u001b[0m\u001b[0;34m=\u001b[0m\u001b[0;32mNone\u001b[0m\u001b[0;34m)\u001b[0m\u001b[0;34m:\u001b[0m\u001b[0;34m\u001b[0m\u001b[0;34m\u001b[0m\u001b[0m\n",
      "\u001b[0;32m/usr/local/lib/python3.8/threading.py\u001b[0m in \u001b[0;36mwait\u001b[0;34m(self, timeout)\u001b[0m\n\u001b[1;32m    556\u001b[0m             \u001b[0msignaled\u001b[0m \u001b[0;34m=\u001b[0m \u001b[0mself\u001b[0m\u001b[0;34m.\u001b[0m\u001b[0m_flag\u001b[0m\u001b[0;34m\u001b[0m\u001b[0;34m\u001b[0m\u001b[0m\n\u001b[1;32m    557\u001b[0m             \u001b[0;32mif\u001b[0m \u001b[0;32mnot\u001b[0m \u001b[0msignaled\u001b[0m\u001b[0;34m:\u001b[0m\u001b[0;34m\u001b[0m\u001b[0;34m\u001b[0m\u001b[0m\n\u001b[0;32m--> 558\u001b[0;31m                 \u001b[0msignaled\u001b[0m \u001b[0;34m=\u001b[0m \u001b[0mself\u001b[0m\u001b[0;34m.\u001b[0m\u001b[0m_cond\u001b[0m\u001b[0;34m.\u001b[0m\u001b[0mwait\u001b[0m\u001b[0;34m(\u001b[0m\u001b[0mtimeout\u001b[0m\u001b[0;34m)\u001b[0m\u001b[0;34m\u001b[0m\u001b[0;34m\u001b[0m\u001b[0m\n\u001b[0m\u001b[1;32m    559\u001b[0m             \u001b[0;32mreturn\u001b[0m \u001b[0msignaled\u001b[0m\u001b[0;34m\u001b[0m\u001b[0;34m\u001b[0m\u001b[0m\n\u001b[1;32m    560\u001b[0m \u001b[0;34m\u001b[0m\u001b[0m\n",
      "\u001b[0;32m/usr/local/lib/python3.8/threading.py\u001b[0m in \u001b[0;36mwait\u001b[0;34m(self, timeout)\u001b[0m\n\u001b[1;32m    300\u001b[0m         \u001b[0;32mtry\u001b[0m\u001b[0;34m:\u001b[0m    \u001b[0;31m# restore state no matter what (e.g., KeyboardInterrupt)\u001b[0m\u001b[0;34m\u001b[0m\u001b[0;34m\u001b[0m\u001b[0m\n\u001b[1;32m    301\u001b[0m             \u001b[0;32mif\u001b[0m \u001b[0mtimeout\u001b[0m \u001b[0;32mis\u001b[0m \u001b[0;32mNone\u001b[0m\u001b[0;34m:\u001b[0m\u001b[0;34m\u001b[0m\u001b[0;34m\u001b[0m\u001b[0m\n\u001b[0;32m--> 302\u001b[0;31m                 \u001b[0mwaiter\u001b[0m\u001b[0;34m.\u001b[0m\u001b[0macquire\u001b[0m\u001b[0;34m(\u001b[0m\u001b[0;34m)\u001b[0m\u001b[0;34m\u001b[0m\u001b[0;34m\u001b[0m\u001b[0m\n\u001b[0m\u001b[1;32m    303\u001b[0m                 \u001b[0mgotit\u001b[0m \u001b[0;34m=\u001b[0m \u001b[0;32mTrue\u001b[0m\u001b[0;34m\u001b[0m\u001b[0;34m\u001b[0m\u001b[0m\n\u001b[1;32m    304\u001b[0m             \u001b[0;32melse\u001b[0m\u001b[0;34m:\u001b[0m\u001b[0;34m\u001b[0m\u001b[0;34m\u001b[0m\u001b[0m\n",
      "\u001b[0;31mKeyboardInterrupt\u001b[0m: "
     ]
    }
   ],
   "source": [
    "H_preds = x.predict(test.items, n=10)"
   ]
  },
  {
   "cell_type": "code",
   "execution_count": 76,
   "id": "443232a3-8b06-45c1-a4cc-86d6cf761a50",
   "metadata": {},
   "outputs": [
    {
     "data": {
      "application/vnd.jupyter.widget-view+json": {
       "model_id": "399c62e203dc49e993102f545f4fc7bb",
       "version_major": 2,
       "version_minor": 0
      },
      "text/plain": [
       "  0%|          | 0/15 [00:00<?, ?it/s]"
      ]
     },
     "metadata": {},
     "output_type": "display_data"
    },
    {
     "data": {
      "text/plain": [
       "<orion_recommend.models.mf.MatrixFactorizationModel at 0x7f430aac4460>"
      ]
     },
     "execution_count": 76,
     "metadata": {},
     "output_type": "execute_result"
    }
   ],
   "source": [
    "model.fit(train)"
   ]
  },
  {
   "cell_type": "code",
   "execution_count": 78,
   "id": "de08b058-12c6-46a5-a098-224192bed3f9",
   "metadata": {},
   "outputs": [
    {
     "data": {
      "text/plain": [
       "array([    0,     1,     2, ..., 10389, 10390, 10391])"
      ]
     },
     "execution_count": 78,
     "metadata": {},
     "output_type": "execute_result"
    }
   ],
   "source": [
    "test.items"
   ]
  },
  {
   "cell_type": "code",
   "execution_count": 77,
   "id": "117a474e-e3d5-4dc0-9edb-b5d75df0e379",
   "metadata": {
    "collapsed": true,
    "jupyter": {
     "outputs_hidden": true
    },
    "tags": []
   },
   "outputs": [
    {
     "name": "stderr",
     "output_type": "stream",
     "text": [
      "Recommending Chunk 0:  10%|█         | 523/5196 [00:00<00:04, 1025.76it/s]\n",
      "Recommending Chunk 0:  12%|█▏        | 642/5196 [00:00<00:04, 958.33it/s] \n",
      "Recommending Chunk 0:  14%|█▍        | 747/5196 [00:00<00:05, 826.21it/s][A\n",
      "Recommending Chunk 0:  16%|█▌        | 837/5196 [00:00<00:05, 802.63it/s][A\n",
      "Recommending Chunk 0:  18%|█▊        | 923/5196 [00:00<00:05, 816.15it/s]\u001b[A\n",
      "Recommending Chunk 0:  19%|█▉        | 1011/5196 [00:01<00:05, 831.88it/s][A\n",
      "Recommending Chunk 0:  21%|██        | 1102/5196 [00:01<00:04, 852.90it/s][A\n",
      "Recommending Chunk 0:  23%|██▎       | 1190/5196 [00:01<00:04, 851.07it/s][A\n",
      "Recommending Chunk 0:  25%|██▍       | 1287/5196 [00:01<00:04, 883.81it/s][A\n",
      "Recommending Chunk 0:  27%|██▋       | 1383/5196 [00:01<00:04, 904.86it/s][A\n",
      "Recommending Chunk 0:  28%|██▊       | 1475/5196 [00:01<00:04, 834.60it/s][A\n",
      "Recommending Chunk 0:  30%|███       | 1581/5196 [00:01<00:04, 894.78it/s][A\n",
      "Recommending Chunk 0:  33%|███▎      | 1691/5196 [00:01<00:03, 950.96it/s][A\n",
      "Recommending Chunk 0:  35%|███▍      | 1795/5196 [00:01<00:03, 975.95it/s][A\n",
      "Recommending Chunk 0:  36%|███▋      | 1894/5196 [00:02<00:03, 956.73it/s][A\n",
      "Recommending Chunk 0:  38%|███▊      | 1998/5196 [00:02<00:03, 979.71it/s][A\n",
      "Recommending Chunk 0:  42%|████▏     | 2208/5196 [00:02<00:03, 992.06it/s][A\n",
      "Recommending Chunk 0:  44%|████▍     | 2308/5196 [00:02<00:02, 980.09it/s][A\n",
      "Recommending Chunk 0:  46%|████▋     | 2407/5196 [00:02<00:02, 978.54it/s][A\n",
      "Recommending Chunk 0:  48%|████▊     | 2510/5196 [00:02<00:02, 990.14it/s][A\n",
      "Recommending Chunk 0:  52%|█████▏    | 2720/5196 [00:02<00:02, 1008.90it/s][A\n",
      "Recommending Chunk 1:  20%|██        | 1057/5196 [00:02<00:10, 385.07it/s]\u001b[A\n",
      "Recommending Chunk 0:  54%|█████▍    | 2822/5196 [00:02<00:02, 999.39it/s] [A\n",
      "Recommending Chunk 0:  56%|█████▋    | 2923/5196 [00:03<00:02, 896.01it/s]\u001b[A\n",
      "Recommending Chunk 0:  58%|█████▊    | 3015/5196 [00:03<00:02, 841.14it/s]\u001b[A\n",
      "Recommending Chunk 0:  60%|█████▉    | 3101/5196 [00:03<00:02, 839.64it/s]\u001b[A\n",
      "Recommending Chunk 0:  61%|██████▏   | 3188/5196 [00:03<00:02, 847.35it/s]\u001b[A\n",
      "Recommending Chunk 0:  63%|██████▎   | 3274/5196 [00:03<00:02, 849.59it/s]\u001b[A\n",
      "Recommending Chunk 0:  65%|██████▍   | 3360/5196 [00:03<00:02, 757.37it/s]\u001b[A\n",
      "Recommending Chunk 0:  67%|██████▋   | 3456/5196 [00:03<00:02, 809.87it/s]\u001b[A\n",
      "Recommending Chunk 0:  68%|██████▊   | 3540/5196 [00:03<00:02, 757.42it/s]\u001b[A\n",
      "Recommending Chunk 0:  70%|██████▉   | 3618/5196 [00:04<00:02, 746.86it/s]\u001b[A\n",
      "Recommending Chunk 0:  71%|███████   | 3694/5196 [00:04<00:02, 726.74it/s]\u001b[A\n",
      "Recommending Chunk 0:  73%|███████▎  | 3802/5196 [00:04<00:01, 822.07it/s]\u001b[A\n",
      "Recommending Chunk 0:  75%|███████▍  | 3886/5196 [00:04<00:01, 783.80it/s]\u001b[A\n",
      "Recommending Chunk 0:  77%|███████▋  | 3976/5196 [00:04<00:01, 815.12it/s]\u001b[A\n",
      "Recommending Chunk 0:  78%|███████▊  | 4078/5196 [00:04<00:01, 872.84it/s]\u001b[A\n",
      "Recommending Chunk 0:  80%|████████  | 4167/5196 [00:04<00:01, 872.49it/s]\u001b[A\n",
      "Recommending Chunk 0:  82%|████████▏ | 4256/5196 [00:04<00:01, 858.86it/s]\u001b[A\n",
      "Recommending Chunk 0:  84%|████████▎ | 4343/5196 [00:04<00:00, 859.02it/s]\u001b[A\n",
      "Recommending Chunk 0:  86%|████████▌ | 4444/5196 [00:04<00:00, 901.40it/s]\u001b[A\n",
      "Recommending Chunk 0:  90%|████████▉ | 4652/5196 [00:05<00:00, 953.60it/s]\u001b[A\n",
      "Recommending Chunk 0:  92%|█████████▏| 4762/5196 [00:05<00:00, 995.31it/s]\u001b[A\n",
      "Recommending Chunk 0:  94%|█████████▎| 4867/5196 [00:05<00:00, 1011.34it/s][A\n",
      "Recommending Chunk 0:  96%|█████████▌| 4969/5196 [00:05<00:00, 1002.32it/s][A\n",
      "Recommending Chunk 0:  98%|█████████▊| 5070/5196 [00:05<00:00, 963.77it/s] [A\n",
      "Recommending Chunk 0: 100%|██████████| 5196/5196 [00:05<00:00, 908.48it/s]\u001b[A\n",
      "\n",
      "Recommending Chunk 1:  42%|████▏     | 2182/5196 [00:05<00:08, 365.14it/s]\u001b[A\n",
      "Recommending Chunk 1:  43%|████▎     | 2232/5196 [00:05<00:07, 402.30it/s]\u001b[A\n",
      "Recommending Chunk 1:  44%|████▍     | 2309/5196 [00:05<00:05, 491.44it/s]\u001b[A\n",
      "Recommending Chunk 1:  45%|████▌     | 2361/5196 [00:05<00:05, 499.38it/s]\u001b[A\n",
      "Recommending Chunk 1:  47%|████▋     | 2427/5196 [00:05<00:05, 544.40it/s]\u001b[A\n",
      "Recommending Chunk 1:  49%|████▊     | 2521/5196 [00:05<00:04, 638.73it/s]\u001b[A\n",
      "Recommending Chunk 1:  50%|█████     | 2603/5196 [00:05<00:03, 689.84it/s]\u001b[A\n",
      "Recommending Chunk 1:  52%|█████▏    | 2709/5196 [00:05<00:03, 796.72it/s]\u001b[A\n",
      "Recommending Chunk 1:  54%|█████▍    | 2801/5196 [00:05<00:02, 815.60it/s]\u001b[A\n",
      "Recommending Chunk 1:  55%|█████▌    | 2883/5196 [00:06<00:02, 807.01it/s]\u001b[A\n",
      "Recommending Chunk 1:  57%|█████▋    | 2964/5196 [00:06<00:02, 780.47it/s]\u001b[A\n",
      "Recommending Chunk 1:  59%|█████▊    | 3047/5196 [00:06<00:02, 793.71it/s]\u001b[A\n",
      "Recommending Chunk 1:  62%|██████▏   | 3212/5196 [00:06<00:01, 1041.82it/s]\u001b[A\n",
      "Recommending Chunk 1:  64%|██████▍   | 3318/5196 [00:06<00:01, 945.46it/s] \u001b[A\n",
      "Recommending Chunk 1:  66%|██████▌   | 3415/5196 [00:06<00:02, 878.77it/s]\u001b[A\n",
      "Recommending Chunk 1:  68%|██████▊   | 3509/5196 [00:06<00:01, 894.83it/s]\u001b[A\n",
      "Recommending Chunk 1:  69%|██████▉   | 3601/5196 [00:06<00:01, 861.10it/s]\u001b[A\n",
      "Recommending Chunk 1:  71%|███████   | 3695/5196 [00:06<00:01, 881.10it/s]\u001b[A\n",
      "Recommending Chunk 1:  73%|███████▎  | 3788/5196 [00:07<00:01, 894.00it/s]\u001b[A\n",
      "Recommending Chunk 1:  75%|███████▍  | 3881/5196 [00:07<00:01, 904.24it/s]\u001b[A\n",
      "Recommending Chunk 1:  76%|███████▋  | 3973/5196 [00:07<00:01, 838.82it/s]\u001b[A\n",
      "Recommending Chunk 1:  78%|███████▊  | 4066/5196 [00:07<00:01, 863.36it/s]\u001b[A\n",
      "Recommending Chunk 1:  80%|███████▉  | 4154/5196 [00:07<00:01, 857.59it/s]\u001b[A\n",
      "Recommending Chunk 1:  82%|████████▏ | 4241/5196 [00:07<00:01, 796.56it/s]\u001b[A\n",
      "Recommending Chunk 1:  83%|████████▎ | 4330/5196 [00:07<00:01, 804.62it/s]\u001b[A\n",
      "Recommending Chunk 1:  85%|████████▌ | 4426/5196 [00:07<00:00, 846.44it/s]\u001b[A\n",
      "Recommending Chunk 1:  87%|████████▋ | 4536/5196 [00:07<00:00, 918.18it/s]\u001b[A\n",
      "Recommending Chunk 1:  89%|████████▉ | 4630/5196 [00:07<00:00, 923.44it/s]\u001b[A\n",
      "Recommending Chunk 1:  91%|█████████ | 4724/5196 [00:08<00:00, 913.81it/s]\u001b[A\n",
      "Recommending Chunk 1:  93%|█████████▎| 4833/5196 [00:08<00:00, 964.05it/s]\u001b[A\n",
      "Recommending Chunk 1:  95%|█████████▍| 4930/5196 [00:08<00:00, 896.76it/s]\u001b[A\n",
      "Recommending Chunk 1:  97%|█████████▋| 5026/5196 [00:08<00:00, 912.40it/s]\u001b[A\n",
      "Recommending Chunk 1: 100%|██████████| 5196/5196 [00:08<00:00, 602.40it/s]\u001b[A\n",
      "Recommending Chunk 0:  13%|█▎        | 662/5196 [00:00<00:03, 1227.92it/s]\n",
      "Recommending Chunk 0:  15%|█▌        | 792/5196 [00:00<00:03, 1109.38it/s]\n",
      "Recommending Chunk 0:  17%|█▋        | 908/5196 [00:00<00:04, 983.88it/s] A\n",
      "Recommending Chunk 0:  20%|██        | 1058/5196 [00:00<00:03, 1115.62it/s]\n",
      "Recommending Chunk 0:  23%|██▎       | 1192/5196 [00:00<00:03, 1156.95it/s]A\n",
      "Recommending Chunk 1:   4%|▍         | 219/5196 [00:00<00:08, 576.90it/s]\u001b[A\n",
      "Recommending Chunk 0:  25%|██▌       | 1313/5196 [00:01<00:04, 970.21it/s] A\n",
      "Recommending Chunk 0:  27%|██▋       | 1418/5196 [00:01<00:04, 866.13it/s][A\n",
      "Recommending Chunk 1:   8%|▊         | 411/5196 [00:00<00:07, 608.65it/s]\u001b[A\n",
      "Recommending Chunk 0:  29%|██▉       | 1511/5196 [00:01<00:04, 780.41it/s][A\n",
      "Recommending Chunk 0:  31%|███       | 1594/5196 [00:01<00:05, 713.97it/s][A\n",
      "Recommending Chunk 0:  32%|███▏      | 1669/5196 [00:01<00:05, 690.65it/s][A\n",
      "Recommending Chunk 0:  34%|███▍      | 1759/5196 [00:01<00:04, 738.86it/s][A\n",
      "Recommending Chunk 0:  36%|███▌      | 1851/5196 [00:01<00:04, 784.52it/s][A\n",
      "Recommending Chunk 0:  37%|███▋      | 1933/5196 [00:02<00:04, 773.31it/s][A\n",
      "Recommending Chunk 0:  39%|███▊      | 2013/5196 [00:02<00:04, 756.33it/s][A\n",
      "Recommending Chunk 0:  40%|████      | 2090/5196 [00:02<00:04, 735.53it/s][A\n",
      "Recommending Chunk 0:  42%|████▏     | 2189/5196 [00:02<00:03, 804.44it/s][A\n",
      "Recommending Chunk 0:  44%|████▍     | 2290/5196 [00:02<00:03, 860.59it/s]\u001b[A\n",
      "Recommending Chunk 0:  46%|████▌     | 2390/5196 [00:02<00:03, 898.85it/s]\u001b[A\n",
      "Recommending Chunk 0:  48%|████▊     | 2481/5196 [00:02<00:03, 881.52it/s]\u001b[A\n",
      "Recommending Chunk 0:  50%|████▉     | 2582/5196 [00:02<00:02, 917.72it/s]\u001b[A\n",
      "Recommending Chunk 0:  52%|█████▏    | 2683/5196 [00:02<00:02, 944.01it/s]\u001b[A\n",
      "Recommending Chunk 0:  53%|█████▎    | 2778/5196 [00:03<00:02, 911.55it/s]\u001b[A\n",
      "Recommending Chunk 0:  55%|█████▌    | 2878/5196 [00:03<00:02, 935.58it/s]\u001b[A\n",
      "Recommending Chunk 1:  29%|██▉       | 1499/5196 [00:02<00:05, 621.28it/s]\u001b[A\n",
      "Recommending Chunk 0:  57%|█████▋    | 2973/5196 [00:03<00:02, 853.60it/s]\u001b[A\n",
      "Recommending Chunk 0:  59%|█████▉    | 3061/5196 [00:03<00:02, 783.96it/s]\u001b[A\n",
      "Recommending Chunk 0:  60%|██████    | 3142/5196 [00:03<00:02, 761.76it/s]\u001b[A\n",
      "Recommending Chunk 0:  62%|██████▏   | 3244/5196 [00:03<00:02, 828.51it/s]\u001b[A\n",
      "Recommending Chunk 0:  64%|██████▍   | 3342/5196 [00:03<00:02, 868.15it/s]\u001b[A\n",
      "Recommending Chunk 0:  66%|██████▌   | 3431/5196 [00:03<00:02, 854.25it/s]\u001b[A\n",
      "Recommending Chunk 0:  68%|██████▊   | 3518/5196 [00:03<00:02, 806.48it/s]\u001b[A\n",
      "Recommending Chunk 0:  69%|██████▉   | 3607/5196 [00:04<00:01, 827.70it/s]\u001b[A\n",
      "Recommending Chunk 0:  71%|███████▏  | 3710/5196 [00:04<00:01, 882.67it/s]\u001b[A\n",
      "Recommending Chunk 0:  73%|███████▎  | 3800/5196 [00:04<00:01, 845.81it/s]\u001b[A\n",
      "Recommending Chunk 0:  75%|███████▍  | 3886/5196 [00:04<00:01, 732.88it/s]\u001b[A\n",
      "Recommending Chunk 1:  44%|████▍     | 2305/5196 [00:03<00:04, 578.91it/s]\u001b[A\n",
      "Recommending Chunk 0:  76%|███████▋  | 3963/5196 [00:04<00:01, 705.70it/s]\u001b[A\n",
      "Recommending Chunk 0:  78%|███████▊  | 4036/5196 [00:04<00:01, 664.64it/s]\u001b[A\n",
      "Recommending Chunk 0:  79%|███████▉  | 4105/5196 [00:04<00:01, 569.57it/s]\u001b[A\n",
      "Recommending Chunk 0:  80%|████████  | 4165/5196 [00:04<00:01, 548.29it/s]\u001b[A\n",
      "Recommending Chunk 0:  81%|████████▏ | 4234/5196 [00:05<00:01, 582.51it/s]\u001b[A\n",
      "Recommending Chunk 1:  52%|█████▏    | 2718/5196 [00:04<00:03, 638.15it/s]\u001b[A\n",
      "Recommending Chunk 0:  83%|████████▎ | 4295/5196 [00:05<00:01, 532.21it/s]\u001b[A\n",
      "Recommending Chunk 0:  84%|████████▎ | 4351/5196 [00:05<00:01, 450.76it/s]\u001b[A\n",
      "Recommending Chunk 0:  85%|████████▍ | 4399/5196 [00:05<00:01, 413.91it/s]\u001b[A\n",
      "Recommending Chunk 0:  86%|████████▌ | 4449/5196 [00:05<00:01, 432.21it/s]\u001b[A\n",
      "Recommending Chunk 0:  87%|████████▋ | 4508/5196 [00:05<00:01, 469.97it/s]\u001b[A\n",
      "Recommending Chunk 0:  88%|████████▊ | 4558/5196 [00:05<00:01, 468.23it/s]\u001b[A\n",
      "Recommending Chunk 0:  89%|████████▊ | 4607/5196 [00:05<00:01, 447.93it/s]\u001b[A\n",
      "Recommending Chunk 0:  90%|████████▉ | 4653/5196 [00:06<00:01, 443.22it/s]\u001b[A\n",
      "Recommending Chunk 0:  90%|█████████ | 4699/5196 [00:06<00:01, 390.00it/s]\u001b[A\n",
      "Recommending Chunk 0:  91%|█████████ | 4740/5196 [00:06<00:01, 387.07it/s]\u001b[A\n",
      "Recommending Chunk 0:  92%|█████████▏| 4781/5196 [00:06<00:01, 384.74it/s]\u001b[A\n",
      "Recommending Chunk 0:  93%|█████████▎| 4821/5196 [00:06<00:00, 383.25it/s]\u001b[A\n",
      "Recommending Chunk 0:  94%|█████████▎| 4869/5196 [00:06<00:00, 391.16it/s]\u001b[A\n",
      "Recommending Chunk 0:  95%|█████████▍| 4913/5196 [00:06<00:00, 400.40it/s]\u001b[A\n",
      "Recommending Chunk 0:  95%|█████████▌| 4956/5196 [00:06<00:00, 398.26it/s]\u001b[A\n",
      "Recommending Chunk 0:  96%|█████████▌| 4997/5196 [00:06<00:00, 399.51it/s]\u001b[A\n",
      "Recommending Chunk 0:  97%|█████████▋| 5049/5196 [00:07<00:00, 415.70it/s]\u001b[A\n",
      "Recommending Chunk 0:  98%|█████████▊| 5100/5196 [00:07<00:00, 441.75it/s]\u001b[A\n",
      "Recommending Chunk 0: 100%|██████████| 5196/5196 [00:07<00:00, 709.50it/s]\u001b[A\n",
      "\n",
      "Recommending Chunk 1:  77%|███████▋  | 4009/5196 [00:06<00:02, 586.10it/s]\u001b[A\n",
      "Recommending Chunk 1:  79%|███████▊  | 4088/5196 [00:06<00:01, 644.74it/s]\u001b[A\n",
      "Recommending Chunk 1:  80%|███████▉  | 4153/5196 [00:06<00:01, 638.79it/s]\u001b[A\n",
      "Recommending Chunk 1:  82%|████████▏ | 4246/5196 [00:06<00:01, 716.80it/s]\u001b[A\n",
      "Recommending Chunk 1:  83%|████████▎ | 4318/5196 [00:07<00:01, 679.52it/s]\u001b[A\n",
      "Recommending Chunk 1:  85%|████████▍ | 4404/5196 [00:07<00:01, 729.96it/s]\u001b[A\n",
      "Recommending Chunk 1:  86%|████████▌ | 4478/5196 [00:07<00:01, 653.78it/s]\u001b[A\n",
      "Recommending Chunk 1:  87%|████████▋ | 4546/5196 [00:07<00:01, 635.05it/s]\u001b[A\n",
      "Recommending Chunk 1:  89%|████████▉ | 4614/5196 [00:07<00:00, 641.71it/s]\u001b[A\n",
      "Recommending Chunk 1:  90%|█████████ | 4685/5196 [00:07<00:00, 658.99it/s]\u001b[A\n",
      "Recommending Chunk 1:  92%|█████████▏| 4774/5196 [00:07<00:00, 723.57it/s]\u001b[A\n",
      "Recommending Chunk 1:  93%|█████████▎| 4848/5196 [00:07<00:00, 692.82it/s]\u001b[A\n",
      "Recommending Chunk 1:  95%|█████████▍| 4934/5196 [00:08<00:00, 738.38it/s]\u001b[A\n",
      "Recommending Chunk 1:  96%|█████████▋| 5009/5196 [00:08<00:00, 671.96it/s]\u001b[A\n",
      "Recommending Chunk 1:  98%|█████████▊| 5087/5196 [00:08<00:00, 700.16it/s]\u001b[A\n",
      "Recommending Chunk 1: 100%|██████████| 5196/5196 [00:08<00:00, 616.55it/s]\u001b[A\n"
     ]
    }
   ],
   "source": [
    "preds_10 = model.predict(test.items,n=10)\n",
    "preds_20 =  model.predict(test.items,n=20)"
   ]
  },
  {
   "cell_type": "code",
   "execution_count": 84,
   "id": "00bad7df-942b-46b7-8b09-d33d6f1af4a0",
   "metadata": {},
   "outputs": [],
   "source": [
    "preds_10_arr = np.array(list(preds_10.values()))"
   ]
  },
  {
   "cell_type": "code",
   "execution_count": 88,
   "id": "a2b4d610-3a4e-465a-b497-f46c0bd412fb",
   "metadata": {},
   "outputs": [
    {
     "data": {
      "text/plain": [
       "0.0"
      ]
     },
     "execution_count": 88,
     "metadata": {},
     "output_type": "execute_result"
    }
   ],
   "source": [
    "metrics.precision_at_k(test.items,preds_10_arr)"
   ]
  },
  {
   "cell_type": "code",
   "execution_count": 102,
   "id": "12b8bfab-5d89-459f-b926-1b840c5466fb",
   "metadata": {
    "collapsed": true,
    "jupyter": {
     "outputs_hidden": true
    },
    "tags": []
   },
   "outputs": [
    {
     "ename": "TypeError",
     "evalue": "Invalid type passed to user_ids parameter. This must be either int or np.int32 array. Type received: <class 'numpy.int64'>",
     "output_type": "error",
     "traceback": [
      "\u001b[0;31m---------------------------------------------------------------------------\u001b[0m",
      "\u001b[0;31mTypeError\u001b[0m                                 Traceback (most recent call last)",
      "\u001b[0;32m<ipython-input-102-154749b86c14>\u001b[0m in \u001b[0;36m<module>\u001b[0;34m\u001b[0m\n\u001b[0;32m----> 1\u001b[0;31m print(hmod.score(test,train, k=10, fn=metrics.ndcg),\n\u001b[0m\u001b[1;32m      2\u001b[0m \u001b[0mmodel\u001b[0m\u001b[0;34m.\u001b[0m\u001b[0mscore\u001b[0m\u001b[0;34m(\u001b[0m\u001b[0mtest\u001b[0m\u001b[0;34m,\u001b[0m \u001b[0mtrain\u001b[0m\u001b[0;34m,\u001b[0m \u001b[0mk\u001b[0m\u001b[0;34m=\u001b[0m\u001b[0;36m10\u001b[0m\u001b[0;34m,\u001b[0m \u001b[0mfn\u001b[0m\u001b[0;34m=\u001b[0m\u001b[0mmetrics\u001b[0m\u001b[0;34m.\u001b[0m\u001b[0mprecision_at_k\u001b[0m\u001b[0;34m)\u001b[0m\u001b[0;34m,\u001b[0m\u001b[0;34m\u001b[0m\u001b[0;34m\u001b[0m\u001b[0m\n\u001b[1;32m      3\u001b[0m      \u001b[0mmodel\u001b[0m\u001b[0;34m.\u001b[0m\u001b[0mscore\u001b[0m\u001b[0;34m(\u001b[0m\u001b[0mtest\u001b[0m\u001b[0;34m,\u001b[0m\u001b[0mtrain\u001b[0m\u001b[0;34m,\u001b[0m \u001b[0mk\u001b[0m\u001b[0;34m=\u001b[0m\u001b[0;36m20\u001b[0m\u001b[0;34m,\u001b[0m \u001b[0mfn\u001b[0m\u001b[0;34m=\u001b[0m\u001b[0mmetrics\u001b[0m\u001b[0;34m.\u001b[0m\u001b[0mndcg\u001b[0m\u001b[0;34m)\u001b[0m\u001b[0;34m,\u001b[0m\u001b[0;34m\u001b[0m\u001b[0;34m\u001b[0m\u001b[0m\n\u001b[1;32m      4\u001b[0m model.score(test, train, k=20, fn=metrics.precision_at_k))\n",
      "\u001b[0;32m~/thesis/src/orion-recommend/orion_recommend/models/hmf.py\u001b[0m in \u001b[0;36mscore\u001b[0;34m(self, test, train, fn, k, **kwargs)\u001b[0m\n\u001b[1;32m     65\u001b[0m \u001b[0;34m\u001b[0m\u001b[0m\n\u001b[1;32m     66\u001b[0m         recs = np.asarray(\n\u001b[0;32m---> 67\u001b[0;31m             [\n\u001b[0m\u001b[1;32m     68\u001b[0m                 \u001b[0mself\u001b[0m\u001b[0;34m.\u001b[0m\u001b[0m_rank_items_single\u001b[0m\u001b[0;34m(\u001b[0m\u001b[0muser\u001b[0m\u001b[0;34m,\u001b[0m \u001b[0mitems\u001b[0m\u001b[0;34m)\u001b[0m\u001b[0;34m\u001b[0m\u001b[0;34m\u001b[0m\u001b[0m\n\u001b[1;32m     69\u001b[0m                 \u001b[0;32mfor\u001b[0m \u001b[0muser\u001b[0m\u001b[0;34m,\u001b[0m \u001b[0mitems\u001b[0m \u001b[0;32min\u001b[0m \u001b[0mzip\u001b[0m\u001b[0;34m(\u001b[0m\u001b[0musers\u001b[0m\u001b[0;34m,\u001b[0m \u001b[0mrankings\u001b[0m\u001b[0;34m)\u001b[0m\u001b[0;34m\u001b[0m\u001b[0;34m\u001b[0m\u001b[0m\n",
      "\u001b[0;32m~/thesis/src/orion-recommend/orion_recommend/models/hmf.py\u001b[0m in \u001b[0;36m<listcomp>\u001b[0;34m(.0)\u001b[0m\n\u001b[1;32m     66\u001b[0m         recs = np.asarray(\n\u001b[1;32m     67\u001b[0m             [\n\u001b[0;32m---> 68\u001b[0;31m                 \u001b[0mself\u001b[0m\u001b[0;34m.\u001b[0m\u001b[0m_rank_items_single\u001b[0m\u001b[0;34m(\u001b[0m\u001b[0muser\u001b[0m\u001b[0;34m,\u001b[0m \u001b[0mitems\u001b[0m\u001b[0;34m)\u001b[0m\u001b[0;34m\u001b[0m\u001b[0;34m\u001b[0m\u001b[0m\n\u001b[0m\u001b[1;32m     69\u001b[0m                 \u001b[0;32mfor\u001b[0m \u001b[0muser\u001b[0m\u001b[0;34m,\u001b[0m \u001b[0mitems\u001b[0m \u001b[0;32min\u001b[0m \u001b[0mzip\u001b[0m\u001b[0;34m(\u001b[0m\u001b[0musers\u001b[0m\u001b[0;34m,\u001b[0m \u001b[0mrankings\u001b[0m\u001b[0;34m)\u001b[0m\u001b[0;34m\u001b[0m\u001b[0;34m\u001b[0m\u001b[0m\n\u001b[1;32m     70\u001b[0m             ]\n",
      "\u001b[0;32m~/thesis/src/orion-recommend/orion_recommend/models/hmf.py\u001b[0m in \u001b[0;36m_rank_items_single\u001b[0;34m(self, user, selected)\u001b[0m\n\u001b[1;32m    328\u001b[0m     \u001b[0;32mdef\u001b[0m \u001b[0m_rank_items_single\u001b[0m\u001b[0;34m(\u001b[0m\u001b[0mself\u001b[0m\u001b[0;34m,\u001b[0m \u001b[0muser\u001b[0m\u001b[0;34m,\u001b[0m \u001b[0mselected\u001b[0m\u001b[0;34m)\u001b[0m\u001b[0;34m:\u001b[0m\u001b[0;34m\u001b[0m\u001b[0;34m\u001b[0m\u001b[0m\n\u001b[1;32m    329\u001b[0m \u001b[0;34m\u001b[0m\u001b[0m\n\u001b[0;32m--> 330\u001b[0;31m         scores = self._model.predict(\n\u001b[0m\u001b[1;32m    331\u001b[0m             \u001b[0muser\u001b[0m\u001b[0;34m,\u001b[0m\u001b[0;34m\u001b[0m\u001b[0;34m\u001b[0m\u001b[0m\n\u001b[1;32m    332\u001b[0m             \u001b[0mselected\u001b[0m\u001b[0;34m.\u001b[0m\u001b[0mcopy\u001b[0m\u001b[0;34m(\u001b[0m\u001b[0morder\u001b[0m\u001b[0;34m=\u001b[0m\u001b[0;34m\"C\"\u001b[0m\u001b[0;34m)\u001b[0m\u001b[0;34m,\u001b[0m\u001b[0;34m\u001b[0m\u001b[0;34m\u001b[0m\u001b[0m\n",
      "\u001b[0;32m~/thesis/lib/python3.8/site-packages/lightfm/lightfm.py\u001b[0m in \u001b[0;36mpredict\u001b[0;34m(self, user_ids, item_ids, item_features, user_features, num_threads)\u001b[0m\n\u001b[1;32m    786\u001b[0m \u001b[0;34m\u001b[0m\u001b[0m\n\u001b[1;32m    787\u001b[0m         \u001b[0;32mif\u001b[0m \u001b[0;32mnot\u001b[0m \u001b[0misinstance\u001b[0m\u001b[0;34m(\u001b[0m\u001b[0muser_ids\u001b[0m\u001b[0;34m,\u001b[0m \u001b[0mnp\u001b[0m\u001b[0;34m.\u001b[0m\u001b[0mndarray\u001b[0m\u001b[0;34m)\u001b[0m\u001b[0;34m:\u001b[0m\u001b[0;34m\u001b[0m\u001b[0;34m\u001b[0m\u001b[0m\n\u001b[0;32m--> 788\u001b[0;31m             raise TypeError(\n\u001b[0m\u001b[1;32m    789\u001b[0m                 \u001b[0;34mf\"Invalid type passed to user_ids parameter. \"\u001b[0m\u001b[0;34m\u001b[0m\u001b[0;34m\u001b[0m\u001b[0m\n\u001b[1;32m    790\u001b[0m                 \u001b[0;34mf\"This must be either int or np.int32 array. \"\u001b[0m\u001b[0;34m\u001b[0m\u001b[0;34m\u001b[0m\u001b[0m\n",
      "\u001b[0;31mTypeError\u001b[0m: Invalid type passed to user_ids parameter. This must be either int or np.int32 array. Type received: <class 'numpy.int64'>"
     ]
    }
   ],
   "source": [
    "print(hmod.score(test,train, k=10, fn=metrics.ndcg),\n",
    "model.score(test, train, k=10, fn=metrics.precision_at_k),\n",
    "     model.score(test,train, k=20, fn=metrics.ndcg),\n",
    "model.score(test, train, k=20, fn=metrics.precision_at_k))"
   ]
  },
  {
   "cell_type": "code",
   "execution_count": 93,
   "id": "6f5d3b73-4357-40fe-9805-746f2707478e",
   "metadata": {
    "tags": []
   },
   "outputs": [
    {
     "name": "stdout",
     "output_type": "stream",
     "text": [
      "0.03232025746454116 0.2783269961977186 0.03256525528080157 0.28060836501901143\n"
     ]
    }
   ],
   "source": [
    "print(model.score(test,train, k=10, fn=metrics.ndcg),\n",
    "model.score(test, train, k=10, fn=metrics.precision_at_k),\n",
    "     model.score(test,train, k=20, fn=metrics.ndcg),\n",
    "model.score(test, train, k=20, fn=metrics.precision_at_k))"
   ]
  }
 ],
 "metadata": {
  "kernelspec": {
   "display_name": "thesis",
   "language": "python",
   "name": "thesis"
  },
  "language_info": {
   "codemirror_mode": {
    "name": "ipython",
    "version": 3
   },
   "file_extension": ".py",
   "mimetype": "text/x-python",
   "name": "python",
   "nbconvert_exporter": "python",
   "pygments_lexer": "ipython3",
   "version": "3.8.10"
  }
 },
 "nbformat": 4,
 "nbformat_minor": 5
}
