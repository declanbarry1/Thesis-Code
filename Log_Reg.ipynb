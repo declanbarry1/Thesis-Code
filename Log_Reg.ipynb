{
 "cells": [
  {
   "cell_type": "code",
   "execution_count": 64,
   "id": "773d9789-77fa-4e23-a1b3-86de2424f7d1",
   "metadata": {},
   "outputs": [],
   "source": [
    "from sklearn.linear_model import LogisticRegression as LR\n",
    "from sklearn.linear_model import SGDClassifier as SGD\n",
    "\n",
    "import numpy as np\n",
    "import pandas as pd\n",
    "import fa_support\n",
    "import evall\n",
    "import random\n",
    "from scipy import sparse\n"
   ]
  },
  {
   "cell_type": "code",
   "execution_count": 3,
   "id": "b0230ba5-da05-440e-9718-5b3d94f1ad16",
   "metadata": {},
   "outputs": [],
   "source": [
    "train =  np.load(\"new_fa_train_data.npy\")\n"
   ]
  },
  {
   "cell_type": "code",
   "execution_count": 39,
   "id": "c5a088d8-46ec-416a-87ee-839cbaada87c",
   "metadata": {},
   "outputs": [],
   "source": [
    "test =  np.load(\"new_fa_test_data.npy\")\n"
   ]
  },
  {
   "cell_type": "code",
   "execution_count": 20,
   "id": "b228797e-5554-46aa-9c0c-426460e99802",
   "metadata": {},
   "outputs": [],
   "source": [
    "X_train = train[:,[1,2,4,5]]"
   ]
  },
  {
   "cell_type": "code",
   "execution_count": 31,
   "id": "3e277c58-7e91-4334-b841-987748787d6e",
   "metadata": {},
   "outputs": [],
   "source": [
    "y_train = train[:,3]"
   ]
  },
  {
   "cell_type": "code",
   "execution_count": 67,
   "id": "fc2f3745-20ac-49e6-a3f8-b6515be5fb32",
   "metadata": {},
   "outputs": [],
   "source": [
    "sgd = SGD(loss='log')"
   ]
  },
  {
   "cell_type": "code",
   "execution_count": 24,
   "id": "ff51867c-ad64-497a-8948-9e84a32a5620",
   "metadata": {},
   "outputs": [],
   "source": [
    "model = LR()"
   ]
  },
  {
   "cell_type": "code",
   "execution_count": 28,
   "id": "42891473-6ba6-4a6a-95aa-61160ff17597",
   "metadata": {},
   "outputs": [
    {
     "data": {
      "text/plain": [
       "(76163, 4)"
      ]
     },
     "execution_count": 28,
     "metadata": {},
     "output_type": "execute_result"
    }
   ],
   "source": [
    "X_train.shape"
   ]
  },
  {
   "cell_type": "code",
   "execution_count": 29,
   "id": "8520d0bc-ac32-4f06-a692-7d755bb9bcfc",
   "metadata": {},
   "outputs": [
    {
     "data": {
      "text/plain": [
       "(76163,)"
      ]
     },
     "execution_count": 29,
     "metadata": {},
     "output_type": "execute_result"
    }
   ],
   "source": [
    "y_train.shape\n"
   ]
  },
  {
   "cell_type": "code",
   "execution_count": 40,
   "id": "73c42ae0-f9a0-4a20-997c-bdad95946227",
   "metadata": {},
   "outputs": [],
   "source": [
    "X_test = test[:,[1,2,4,5]]"
   ]
  },
  {
   "cell_type": "code",
   "execution_count": 41,
   "id": "e7b0c5be-0e54-424b-afdf-eb65d7fb8499",
   "metadata": {},
   "outputs": [],
   "source": [
    "y_test = test[:,3]"
   ]
  },
  {
   "cell_type": "code",
   "execution_count": 60,
   "id": "12c41c13-0adb-45db-ac89-75e62e904467",
   "metadata": {},
   "outputs": [],
   "source": [
    "sparse_xtrain = sparse.csr_matrix(X_train)\n",
    "sparse_ytrain = sparse.csr_matrix(y_train)"
   ]
  },
  {
   "cell_type": "code",
   "execution_count": 69,
   "id": "153b00ec-ec7b-4c3d-be74-2532fda81870",
   "metadata": {},
   "outputs": [
    {
     "data": {
      "text/plain": [
       "SGDClassifier(loss='log')"
      ]
     },
     "execution_count": 69,
     "metadata": {},
     "output_type": "execute_result"
    }
   ],
   "source": [
    "sgd.fit(X_train, y= y_train)"
   ]
  },
  {
   "cell_type": "code",
   "execution_count": 78,
   "id": "ea0b11c8-a914-4fd0-9291-c30e4af3ccf3",
   "metadata": {},
   "outputs": [],
   "source": [
    "n=10\n",
    "probs = sgd.predict_proba(X_test)\n",
    "sim_items = np.argsort(probs, axis=1)[:,-n:]\n"
   ]
  },
  {
   "cell_type": "code",
   "execution_count": 87,
   "id": "eb9ded9d-feb4-4bea-a61f-0928b7951a6d",
   "metadata": {},
   "outputs": [],
   "source": [
    "user = test[:,0]"
   ]
  },
  {
   "cell_type": "code",
   "execution_count": 90,
   "id": "ce19fad2-478d-4ec6-b978-7f638c81abd9",
   "metadata": {},
   "outputs": [],
   "source": [
    "sim_items = best_n"
   ]
  },
  {
   "cell_type": "code",
   "execution_count": 92,
   "id": "807e721f-ddbb-4a10-83b8-43755e2fee96",
   "metadata": {},
   "outputs": [],
   "source": [
    "ui_matrix= np.load(\"fa_ui_matrix.npy\")"
   ]
  },
  {
   "cell_type": "code",
   "execution_count": 107,
   "id": "21c7bb2c-1b0f-4e9c-9299-9e35e20577e0",
   "metadata": {},
   "outputs": [],
   "source": [
    "def metrics(user, similar_items, k):\n",
    "    count = 0\n",
    "    for u, item_list in zip(user, sim_items):       \n",
    "        for i in item_list:\n",
    "            if ui_matrix[u,i] == 1:\n",
    "                count = count + 1            \n",
    "    p_at_k = round(count/(user.shape[0] * k), 4)\n",
    "\n",
    "    RS = []\n",
    "    ans = 0.0\n",
    "    for u, item_list in zip(user, sim_items):           \n",
    "        r=[]\n",
    "        for i in item_list:\n",
    "             r.append(ui_matrix[u][i])\n",
    "        ans = ans + evall.ndcg_at_k(r, k, method=1)\n",
    "        RS.append(r)\n",
    "    G_at_k = ans/user.shape[0]\n",
    "    M_at_k = evall.mean_average_precision(RS)\n",
    "    return p_at_k, G_at_k, M_at_k\n"
   ]
  },
  {
   "cell_type": "code",
   "execution_count": 106,
   "id": "71bc1e5e-c447-4074-9479-f05d73036833",
   "metadata": {},
   "outputs": [
    {
     "data": {
      "text/plain": [
       "((0.0002, 0.0006913814010470353, 0.00038159093618365714),\n",
       " (0.0001, 0.0006913814010470353, 0.00038159093618365714))"
      ]
     },
     "execution_count": 106,
     "metadata": {},
     "output_type": "execute_result"
    }
   ],
   "source": [
    "metrics(user, sim_items, 10), metrics(user, sim_items, 20)"
   ]
  }
 ],
 "metadata": {
  "kernelspec": {
   "display_name": "thesis",
   "language": "python",
   "name": "thesis"
  },
  "language_info": {
   "codemirror_mode": {
    "name": "ipython",
    "version": 3
   },
   "file_extension": ".py",
   "mimetype": "text/x-python",
   "name": "python",
   "nbconvert_exporter": "python",
   "pygments_lexer": "ipython3",
   "version": "3.8.10"
  }
 },
 "nbformat": 4,
 "nbformat_minor": 5
}
