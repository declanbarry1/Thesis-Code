{
 "cells": [
  {
   "cell_type": "code",
   "execution_count": 108,
   "id": "7d7ba576-220f-49b5-acf9-78310e9cc14f",
   "metadata": {
    "tags": []
   },
   "outputs": [],
   "source": [
    "from orion.sources import S3Source\n",
    "from orion.sources.io import read_csv, write_csv\n",
    "from orion.sources import RedshiftSource\n",
    "import pandas as pd\n",
    "import numpy as np\n",
    "from scipy import sparse"
   ]
  },
  {
   "cell_type": "code",
   "execution_count": 109,
   "id": "b4a27f18-00ab-4965-b6a7-1937c8c68f6c",
   "metadata": {},
   "outputs": [
    {
     "name": "stderr",
     "output_type": "stream",
     "text": [
      "/home/declanbarrycbc1/thesis/lib/python3.8/site-packages/IPython/core/interactiveshell.py:3441: DtypeWarning: Columns (0,11) have mixed types.Specify dtype option on import or set low_memory=False.\n",
      "  exec(code_obj, self.user_global_ns, self.user_ns)\n"
     ]
    }
   ],
   "source": [
    "#source = RedshiftSource(query='SELECT * FROM publish.inventory_lookup WHERE productid IS NULL')\n",
    "#df_stock = source.read_csv()\n",
    "\n",
    "with S3Source(key=\"masters/uploads/customers/1560425511130_Peak_customers.csv\", bucket=\"kilimanjaro-prod-datalake\") as s3:\n",
    "    df_cust = read_csv(s3)\n",
    "\n",
    "df_trans = read_csv(S3Source(key=\"masters/uploads/transactions/1560426066385_Peak_transactions.csv\", bucket=\"kilimanjaro-prod-datalake\"))\n",
    "df_prod = read_csv(S3Source(key=\"masters/uploads/product/1560425499995_Peak_product.csv\", bucket=\"kilimanjaro-prod-datalake\"))\n"
   ]
  },
  {
   "cell_type": "code",
   "execution_count": 110,
   "id": "830679e4-7c22-498a-a0fd-96ef3510f428",
   "metadata": {},
   "outputs": [
    {
     "data": {
      "text/plain": [
       "0.5487752814984791"
      ]
     },
     "execution_count": 110,
     "metadata": {},
     "output_type": "execute_result"
    }
   ],
   "source": [
    "# 30pc of transactions have keys that are not in df_cust\n",
    "pd.Series(df_trans.customerkey.unique()).isin(df_cust.customerkey).sum()/len(df_trans.customerkey.unique())\n",
    "# 45pc of item numbers not in df_prod\n",
    "pd.Series(df_trans.itemnumber.unique()).isin(df_prod.itemnumber).sum()/len(df_trans.itemnumber.unique())"
   ]
  },
  {
   "cell_type": "code",
   "execution_count": 111,
   "id": "b4a52153-603d-42b4-8041-bb09f779f0d7",
   "metadata": {},
   "outputs": [],
   "source": [
    "df_cust.drop(df_cust[df_cust.gender=='unknown'].index, axis=0, inplace=True)"
   ]
  },
  {
   "cell_type": "code",
   "execution_count": 112,
   "id": "0d66d8f9-777b-43ef-b4a1-bb056c3fbbd9",
   "metadata": {},
   "outputs": [],
   "source": [
    "# Fix item number\n",
    "df_prod.itemnumber = pd.to_numeric(df_prod.itemnumber, errors='coerce') "
   ]
  },
  {
   "cell_type": "code",
   "execution_count": 113,
   "id": "a614da5d-bea3-4547-a8eb-afe4bd83ef66",
   "metadata": {
    "tags": []
   },
   "outputs": [],
   "source": [
    "# Remove keys not in customer and product tables\n",
    "df_trans = df_trans.iloc[df_trans.customerkey[df_trans.customerkey.isin(df_cust.customerkey)].index,:]\n",
    "df_trans.reset_index(inplace=True, drop=True)\n",
    "df_trans = df_trans.iloc[df_trans.itemnumber[df_trans.itemnumber.isin(df_prod.itemnumber)].index,:]\n",
    "\n",
    "# Reset index before changing keys to integers\n",
    "df_trans.reset_index(inplace=True, drop=True)\n",
    "df_prod.reset_index(inplace=True, drop=True)\n"
   ]
  },
  {
   "cell_type": "code",
   "execution_count": 114,
   "id": "f4d633a0-9bf1-4249-9f92-60e3502fdea4",
   "metadata": {},
   "outputs": [
    {
     "data": {
      "text/plain": [
       "(71993,)"
      ]
     },
     "execution_count": 114,
     "metadata": {},
     "output_type": "execute_result"
    }
   ],
   "source": [
    "# Drop nas\n",
    "df_prod.dropna(inplace=True)\n",
    "df_prod.itemnumber.unique().shape"
   ]
  },
  {
   "cell_type": "code",
   "execution_count": 115,
   "id": "4a52916c-dbf6-4a30-ac18-f2603a310422",
   "metadata": {},
   "outputs": [
    {
     "name": "stdout",
     "output_type": "stream",
     "text": [
      "(2425998,)\n",
      "(1692766,)\n",
      "(1605552,)\n",
      "(1605201,)\n"
     ]
    }
   ],
   "source": [
    "print(df_cust.customerkey.unique().shape)\n",
    "df_cust.dropna(inplace=True)\n",
    "print(df_cust.customerkey.unique().shape)\n",
    "\n",
    "print(df_trans.customerkey.unique().shape)\n",
    "df_trans.dropna(inplace=True)\n",
    "print(df_trans.customerkey.unique().shape)"
   ]
  },
  {
   "cell_type": "code",
   "execution_count": 116,
   "id": "21778c02-5bc9-48f6-8110-532c40ad9139",
   "metadata": {},
   "outputs": [],
   "source": [
    "# Drop redundant cols. Fabric all unknown, item colour less info than colourvalue\n",
    "df_prod.drop([\"itemstylecode\", \"itemquarter\", \"itemcolour\", \"fabric\"], axis=1, inplace=True)"
   ]
  },
  {
   "cell_type": "code",
   "execution_count": 117,
   "id": "f1adee85-394b-4b93-8191-dab43e21ef51",
   "metadata": {},
   "outputs": [],
   "source": [
    "df_prod.reset_index(inplace=True, drop=True)"
   ]
  },
  {
   "cell_type": "code",
   "execution_count": 118,
   "id": "6219059f-dbdf-41d9-9668-16a21005da3f",
   "metadata": {},
   "outputs": [
    {
     "data": {
      "text/plain": [
       "45306"
      ]
     },
     "execution_count": 118,
     "metadata": {},
     "output_type": "execute_result"
    }
   ],
   "source": [
    "df_prod.iloc[:,1:].duplicated().sum()"
   ]
  },
  {
   "cell_type": "code",
   "execution_count": 119,
   "id": "6385486a-8109-47d6-9c22-2e94c16e7559",
   "metadata": {},
   "outputs": [],
   "source": [
    "dups = df_prod.loc[df_prod.iloc[:,1:].duplicated(),:]"
   ]
  },
  {
   "cell_type": "code",
   "execution_count": 120,
   "id": "a415b2d8-225f-46b2-a9f3-1e83e7f65f50",
   "metadata": {},
   "outputs": [],
   "source": [
    "df_prod.drop(dups.index, inplace=True)"
   ]
  },
  {
   "cell_type": "code",
   "execution_count": 121,
   "id": "3310baac-f3e2-49da-b0a2-9d86594bc8c1",
   "metadata": {},
   "outputs": [],
   "source": [
    "# Drop columns\n",
    "df_trans.drop([\"salestransactionkey\", \"salesordernumber\",\"discountpercent\", \"grosssales\",\n",
    "              'orderdate', 'ordertime', 'shippingdate','grossprofit'], axis=1, inplace=True)"
   ]
  },
  {
   "cell_type": "code",
   "execution_count": 122,
   "id": "dde23c7b-55c9-4898-a915-97ca1ebc968a",
   "metadata": {
    "tags": []
   },
   "outputs": [],
   "source": [
    "df = df_trans.merge(df_cust, on='customerkey', how = \"outer\")\n",
    "df = df.merge(df_prod, on = \"itemnumber\")"
   ]
  },
  {
   "cell_type": "code",
   "execution_count": 123,
   "id": "2b8366c1-0c0b-437b-8830-a9d3b6debbd7",
   "metadata": {
    "tags": []
   },
   "outputs": [],
   "source": [
    "# Rename and drop columns, nas\n",
    "df.rename(columns={\"customerkey\":\"user_id\",\"itemnumber\":\"item_id\",\"shipcountry\":\"country\", \"brandcode\":\"brand_id\",\n",
    "                  \"colourvalue\":\"colour\", }, inplace=True)\n",
    "df.dropna(inplace=True)\n",
    "df.reset_index(inplace=True, drop=True)"
   ]
  },
  {
   "cell_type": "code",
   "execution_count": 124,
   "id": "f34ae5de-4c8b-4cd4-9d6a-1f6b71331d05",
   "metadata": {
    "tags": []
   },
   "outputs": [],
   "source": [
    "df_trans.rename(columns={\"customerkey\":\"user_id\",\"itemnumber\":\"item_id\"}, inplace=True)\n",
    "df_cust.rename(columns={\"customerkey\":\"user_id\"}, inplace=True)\n",
    "df_prod.rename(columns={\"itemnumber\":\"item_id\"}, inplace=True)"
   ]
  },
  {
   "cell_type": "code",
   "execution_count": 125,
   "id": "ab3b5ff9-ab59-4c74-a0d9-4a0ceed5788e",
   "metadata": {
    "tags": []
   },
   "outputs": [],
   "source": [
    "df.drop_duplicates(inplace=True)"
   ]
  },
  {
   "cell_type": "code",
   "execution_count": 126,
   "id": "3b58a947-af04-4e01-b2c5-45ab1ec6921b",
   "metadata": {},
   "outputs": [
    {
     "data": {
      "text/plain": [
       "((952042, 16), (558421,), (12324,))"
      ]
     },
     "execution_count": 126,
     "metadata": {},
     "output_type": "execute_result"
    }
   ],
   "source": [
    "df.shape,df.user_id.unique().shape, df.item_id.unique().shape"
   ]
  },
  {
   "cell_type": "code",
   "execution_count": 127,
   "id": "d6b9c9f8-801b-46c1-a220-41d4fe2f3331",
   "metadata": {},
   "outputs": [],
   "source": [
    "check = df[['user_id', 'item_id']].apply(lambda x:x.factorize()[0])"
   ]
  },
  {
   "cell_type": "code",
   "execution_count": 128,
   "id": "e4d19491-2ef7-4e2a-bd40-2792eb3e10ac",
   "metadata": {},
   "outputs": [
    {
     "data": {
      "text/plain": [
       "(881203, 2)"
      ]
     },
     "execution_count": 128,
     "metadata": {},
     "output_type": "execute_result"
    }
   ],
   "source": [
    "np.unique(np.array(check),axis=0).shape"
   ]
  },
  {
   "cell_type": "markdown",
   "id": "ea9de100-d32e-4f02-a762-2f4c753b110e",
   "metadata": {},
   "source": [
    "### Take subset of data\n"
   ]
  },
  {
   "cell_type": "code",
   "execution_count": 129,
   "id": "5bd5751d-27c9-4c73-ac41-932611b52e77",
   "metadata": {},
   "outputs": [],
   "source": [
    "cats = df.select_dtypes('object').columns\n",
    "keys = df[cats].apply(lambda x: x.factorize()[1])\n",
    "df[cats] = df[cats].apply(lambda x: x.factorize()[0])"
   ]
  },
  {
   "cell_type": "code",
   "execution_count": 130,
   "id": "e3aeceee-570a-4c0c-957e-e2047bde5528",
   "metadata": {},
   "outputs": [],
   "source": [
    "df_sub = df.sample(frac = 0.10)"
   ]
  },
  {
   "cell_type": "code",
   "execution_count": 131,
   "id": "2a69c959-caaa-4a2a-8953-6653f54b18ab",
   "metadata": {},
   "outputs": [
    {
     "data": {
      "text/plain": [
       "(95204, 16)"
      ]
     },
     "execution_count": 131,
     "metadata": {},
     "output_type": "execute_result"
    }
   ],
   "source": [
    "df_sub.shape"
   ]
  },
  {
   "cell_type": "code",
   "execution_count": 135,
   "id": "e743baa9-f6eb-4fcf-bcdb-9c4b1c5c5a1e",
   "metadata": {},
   "outputs": [],
   "source": [
    "df1= df"
   ]
  },
  {
   "cell_type": "code",
   "execution_count": 132,
   "id": "930d062f-8ea7-4fdc-ac9a-caaec7ef879a",
   "metadata": {},
   "outputs": [
    {
     "data": {
      "text/plain": [
       "[(558421,),\n",
       " (62,),\n",
       " (11949,),\n",
       " (12324,),\n",
       " (2,),\n",
       " (10,),\n",
       " (2,),\n",
       " (2,),\n",
       " (328,),\n",
       " (8,),\n",
       " (58,),\n",
       " (3,),\n",
       " (13,),\n",
       " (7,),\n",
       " (3,),\n",
       " (78,)]"
      ]
     },
     "execution_count": 132,
     "metadata": {},
     "output_type": "execute_result"
    }
   ],
   "source": [
    "[df[i].unique().shape for i in df.columns]"
   ]
  },
  {
   "cell_type": "code",
   "execution_count": 133,
   "id": "d1f7bded-1f61-4489-bf06-80b24ddbfa3a",
   "metadata": {},
   "outputs": [
    {
     "data": {
      "text/plain": [
       "[(86309,),\n",
       " (58,),\n",
       " (5537,),\n",
       " (10333,),\n",
       " (2,),\n",
       " (9,),\n",
       " (2,),\n",
       " (2,),\n",
       " (309,),\n",
       " (8,),\n",
       " (54,),\n",
       " (3,),\n",
       " (13,),\n",
       " (6,),\n",
       " (3,),\n",
       " (78,)]"
      ]
     },
     "execution_count": 133,
     "metadata": {},
     "output_type": "execute_result"
    }
   ],
   "source": [
    "[df_sub[i].unique().shape for i in df_sub.columns]"
   ]
  },
  {
   "cell_type": "code",
   "execution_count": 104,
   "id": "dd357ce1-d6b9-45e7-a40f-86f89aca9901",
   "metadata": {},
   "outputs": [],
   "source": [
    "df = df_sub"
   ]
  },
  {
   "cell_type": "code",
   "execution_count": 134,
   "id": "084b9c8c-94a1-461d-9f68-2773d9a491f0",
   "metadata": {
    "tags": []
   },
   "outputs": [],
   "source": [
    "df.drop(['unitssold', 'pricetype'], axis=1, inplace=True)"
   ]
  },
  {
   "cell_type": "code",
   "execution_count": 152,
   "id": "d5f84a9e-b890-4ee0-9b1d-ec67b2bca087",
   "metadata": {},
   "outputs": [
    {
     "data": {
      "text/plain": [
       "12324"
      ]
     },
     "execution_count": 152,
     "metadata": {},
     "output_type": "execute_result"
    }
   ],
   "source": [
    "len(df.item_id.unique())"
   ]
  },
  {
   "cell_type": "code",
   "execution_count": 143,
   "id": "7ca5de7a-5e04-4d0e-9427-869e0a6ee636",
   "metadata": {},
   "outputs": [],
   "source": [
    "user_num = df.user_id.unique().shape[0]\n",
    "item_num = df.item_id.unique().shape[0]"
   ]
  },
  {
   "cell_type": "code",
   "execution_count": 153,
   "id": "cece1928-6b63-4165-a05b-246d1256aa95",
   "metadata": {},
   "outputs": [
    {
     "data": {
      "text/plain": [
       "(558421, 12324)"
      ]
     },
     "execution_count": 153,
     "metadata": {},
     "output_type": "execute_result"
    }
   ],
   "source": [
    "user_num, item_num"
   ]
  },
  {
   "cell_type": "code",
   "execution_count": 155,
   "id": "144cf5b3-0f15-4bbe-98f0-54e36c3a694b",
   "metadata": {
    "tags": []
   },
   "outputs": [],
   "source": [
    "#Renumber item ids\n",
    "ints = [i for i in range(item_num)]\n",
    "item_keys = [i for i in df.item_id.unique()]\n",
    "item_key_dict = {i:j for i,j in zip( item_keys, ints)}\n",
    "\n",
    "# Change keys to integers in dataframes\n",
    "df.item_id = [item_key_dict[df.item_id.iloc[i]] for i in range(len(df))]"
   ]
  },
  {
   "cell_type": "code",
   "execution_count": 156,
   "id": "54741ace-4855-416f-a41a-b8e20cb08504",
   "metadata": {
    "tags": []
   },
   "outputs": [],
   "source": [
    "user_cols = ['user_id', 'country','postcode','loyaltyaccount','gender']\n",
    "users = df[user_cols]\n",
    "items = df[['item_id',\"brand_id\",\"category\",\"colour\", \"divisioncode\",\"itemcategorycode\",\"itemfamilycode\",\"itemseason\",\"productgroup\"]]"
   ]
  },
  {
   "cell_type": "code",
   "execution_count": null,
   "id": "a2a93e54-9fae-4138-a400-13106ca2ff12",
   "metadata": {},
   "outputs": [],
   "source": [
    "interactions = df[['user_id', 'item_id']]"
   ]
  },
  {
   "cell_type": "code",
   "execution_count": null,
   "id": "4349cfb3-c279-4f54-a358-fd53ff285d9f",
   "metadata": {},
   "outputs": [],
   "source": [
    "users.drop_duplicates(inplace=True)\n",
    "items.drop_duplicates(inplace=True)"
   ]
  },
  {
   "cell_type": "code",
   "execution_count": null,
   "id": "70d17315-b9fd-4c97-bcf1-c940fbe4b0e8",
   "metadata": {},
   "outputs": [],
   "source": [
    "users.to_csv(\"users\")\n",
    "items.to_csv(\"items\")\n",
    "interactions.to_csv(\"interactions\")"
   ]
  },
  {
   "cell_type": "code",
   "execution_count": null,
   "id": "8eaabd2b-50ee-482e-a120-abe8c0d6b853",
   "metadata": {},
   "outputs": [],
   "source": [
    "# Train-test split\n",
    "train = df.sample(frac = 0.8)\n",
    "ind = df.index.isin(train.index)\n",
    "test = df[~ind]"
   ]
  },
  {
   "cell_type": "code",
   "execution_count": null,
   "id": "cb83b349-0985-4b15-83aa-0ea7b34cd699",
   "metadata": {},
   "outputs": [],
   "source": [
    "train.head()"
   ]
  },
  {
   "cell_type": "code",
   "execution_count": 53,
   "id": "567480ac-b1ad-499e-a020-a9c1fd54e81c",
   "metadata": {},
   "outputs": [],
   "source": [
    "np.save(\"new_fa_train_data\",train.to_numpy())\n",
    "np.save(\"new_fa_test_data\",test.to_numpy())"
   ]
  },
  {
   "cell_type": "markdown",
   "id": "6749de22-c773-47cb-bee0-7fbf5a631c21",
   "metadata": {},
   "source": [
    "## Matrices"
   ]
  },
  {
   "cell_type": "code",
   "execution_count": 157,
   "id": "bec811db-14cf-4e2b-af17-3413cbf3ee03",
   "metadata": {},
   "outputs": [],
   "source": [
    "USER_NUM = len(df.user_id.unique())\n",
    "country_num = len(df.country.unique())\n",
    "postcode_num = len(df.postcode.unique())\t\n",
    "item_id_num = len(df.item_id.unique())\n",
    "loyaltyaccount_num = len(df.loyaltyaccount.unique())\n",
    "gender_num = len(df.gender.unique())\n",
    "brand_id_num = len(df.brand_id.unique())\n",
    "category_num = len(df.category.unique())\n",
    "colour_num = len(df.colour.unique())\n",
    "divisioncode_num = len(df.divisioncode.unique())\n",
    "itemcategorycode_num = len(df.itemcategorycode.unique())\n",
    "itemfamilycode_num = len(df.itemfamilycode.unique())\n",
    "itemseason_num = len(df.itemseason.unique())\n",
    "productgroup_num = len(df.productgroup.unique())"
   ]
  },
  {
   "cell_type": "code",
   "execution_count": 158,
   "id": "33fdb9fe-c743-424f-abbc-7c896d182e23",
   "metadata": {},
   "outputs": [
    {
     "name": "stdout",
     "output_type": "stream",
     "text": [
      "558421 62 11949 12324 2 2 328 8 58 3 13 7 3 78\n"
     ]
    }
   ],
   "source": [
    "print(USER_NUM,\n",
    "country_num,\n",
    "postcode_num,\n",
    "item_id_num,\n",
    "loyaltyaccount_num,\n",
    "gender_num,\n",
    "brand_id_num,\n",
    "category_num,\n",
    "colour_num,\n",
    "divisioncode_num,\n",
    "itemcategorycode_num,\n",
    "itemfamilycode_num,\n",
    "itemseason_num,\n",
    "productgroup_num)"
   ]
  },
  {
   "cell_type": "markdown",
   "id": "40922cbf-0674-4df4-8f5c-015e57932d2f",
   "metadata": {},
   "source": [
    "### Item Attribute matrix"
   ]
  },
  {
   "cell_type": "code",
   "execution_count": 159,
   "id": "a23cc4c4-074e-45c9-b278-185b3f352de4",
   "metadata": {},
   "outputs": [],
   "source": [
    "features = [   brand_id_num, category_num, colour_num, divisioncode_num, \n",
    "            itemcategorycode_num, itemfamilycode_num, itemseason_num, productgroup_num]\n",
    "names = [  'brand_id',\n",
    "         'category', 'colour', 'divisioncode', 'itemcategorycode',\n",
    "         'itemfamilycode', 'itemseason', 'productgroup']\n",
    "dic = dict(zip(names,features))"
   ]
  },
  {
   "cell_type": "code",
   "execution_count": 162,
   "id": "e4cdcf0f-91ec-4da2-b14a-4928fb5d309a",
   "metadata": {
    "tags": []
   },
   "outputs": [
    {
     "name": "stdout",
     "output_type": "stream",
     "text": [
      "[0 1 0 0 0 0 0 0 0 0 0 0 0 0 0 0 0 0 0 0 0 0 0 0 0 0 0 0 0 0 0 0 0 0 0 0 0\n",
      " 0 0 0 0 0 0 0 0 0 0 0 0 0 0 0 0 0 0 0 0 0 0 0 0 0 0 0 0 0 0 0 0 0 0 0 0 0\n",
      " 0 0 0 0 0 0 0 0 0 0 0 0 0 0 0 0 0 0 0 0 0 0 0 0 0 0 0 0 0 0 0 0 0 0 0 0 0\n",
      " 0 0 0 0 0 0 0 0 0 0 0 0 0 0 0 0 0 0 0 0 0 0 0 0 0 0 0 0 0 0 0 0 0 0 0 0 0\n",
      " 0 0 0 0 0 0 0 0 0 0 0 0 0 0 0 0 0 0 0 0 0 0 0 0 0 0 0 0 0 0 0 0 0 0 0 0 0\n",
      " 0 0 0 0 0 0 0 0 0 0 0 0 0 0 0 0 0 0 0 0 0 0 0 0 0 0 0 0 0 0 0 0 0 0 0 0 0\n",
      " 0 0 0 0 0 0 0 0 0 0 0 0 0 0 0 0 0 0 0 0 0 0 0 0 0 0 0 0 0 0 0 0 0 0 0 0 0\n",
      " 0 0 0 0 0 0 0 0 0 0 0 0 0 0 0 0 0 0 0 0 0 0 0 0 0 0 0 0 0 0 0 0 0 0 0 0 0\n",
      " 0 0 0 0 0 0 0 0 0 0 0 0 0 0 0 0 0 0 0 0 0 0 0 0 0 0 0 0 0 0 0 0]\n",
      "[0 1 0 0 0 0 0 0]\n",
      "[0 1 0 0 0 0 0 0 0 0 0 0 0 0 0 0 0 0 0 0 0 0 0 0 0 0 0 0 0 0 0 0 0 0 0 0 0\n",
      " 0 0 0 0 0 0 0 0 0 0 0 0 0 0 0 0 0 0 0 0 0]\n",
      "[1 0 0]\n",
      "[0 1 0 0 0 0 0 0 0 0 0 0 0]\n",
      "[1 0 0 0 0 0 0]\n",
      "[1 0 0]\n",
      "[0 1 0 0 0 0 0 0 0 0 0 0 0 0 0 0 0 0 0 0 0 0 0 0 0 0 0 0 0 0 0 0 0 0 0 0 0\n",
      " 0 0 0 0 0 0 0 0 0 0 0 0 0 0 0 0 0 0 0 0 0 0 0 0 0 0 0 0 0 0 0 0 0 0 0 0 0\n",
      " 0 0 0 0]\n"
     ]
    }
   ],
   "source": [
    "matrices = []\n",
    "for i in dic.keys():\n",
    "    mat = np.zeros((item_num, dic[i]), dtype = np.int)    \n",
    "    pair = df.loc[:,[\"item_id\", i]]\n",
    "    M = np.unique(pair, axis=0)\n",
    "    for m in M:\n",
    "        mat[m[0], m[1]] = 1\n",
    "    print(mat[1])\n",
    "    matrices.append(mat)"
   ]
  },
  {
   "cell_type": "code",
   "execution_count": 163,
   "id": "cb355c98-774b-447d-bc39-8cbc6f10081c",
   "metadata": {},
   "outputs": [
    {
     "data": {
      "text/plain": [
       "[(12324, 328),\n",
       " (12324, 8),\n",
       " (12324, 58),\n",
       " (12324, 3),\n",
       " (12324, 13),\n",
       " (12324, 7),\n",
       " (12324, 3),\n",
       " (12324, 78)]"
      ]
     },
     "execution_count": 163,
     "metadata": {},
     "output_type": "execute_result"
    }
   ],
   "source": [
    "[(matrices[i]).shape for i in range(len(matrices))]"
   ]
  },
  {
   "cell_type": "code",
   "execution_count": 164,
   "id": "d3cb7e2b-30fd-4c75-a998-ba6a5735481a",
   "metadata": {},
   "outputs": [],
   "source": [
    "ia_matrix = np.concatenate((matrices), axis=1)"
   ]
  },
  {
   "cell_type": "code",
   "execution_count": 165,
   "id": "c6a21b2f-2c66-44b2-9c22-94f326d296a6",
   "metadata": {},
   "outputs": [],
   "source": [
    "np.save('new_fa_ia_matrix.npy', ia_matrix)"
   ]
  },
  {
   "cell_type": "code",
   "execution_count": 167,
   "id": "0586725f-4979-4e97-8a74-ebeb1933ab0f",
   "metadata": {},
   "outputs": [
    {
     "data": {
      "text/plain": [
       "(12324, 328)"
      ]
     },
     "execution_count": 167,
     "metadata": {},
     "output_type": "execute_result"
    }
   ],
   "source": [
    "matrices[0].shape"
   ]
  },
  {
   "cell_type": "markdown",
   "id": "c3f40ff2-a16d-4edc-ab6f-fb6746e79064",
   "metadata": {},
   "source": [
    "### User- attribute matrix"
   ]
  },
  {
   "cell_type": "code",
   "execution_count": 168,
   "id": "33efd21c-354c-47d8-af68-902e631fd468",
   "metadata": {
    "tags": []
   },
   "outputs": [
    {
     "name": "stdout",
     "output_type": "stream",
     "text": [
      "[1 0 0 0 0 0 0 0 0 0 0 0 0 0 0 0 0 0 0 0 0 0 0 0 0 0 0 0 0 0 0 0 0 0 0 0 0\n",
      " 0 0 0 0 0 0 0 0 0 0 0 0 0 0 0 0 0 0 0 0 0 0 0 0 0 0 0 0 0 0 0 0 0 0 0 0 0\n",
      " 0 0 0 0 0 0 0 0 0 0 0 0 0 0 0 0 0 0 0 0 0 0 0 0 0 0 0 0 0 0 0 0 0 0 0 0 0\n",
      " 0 0 0 0 0 0 0 0 0 0 0 0 0 0 0 0 0 0 0 0 0 0 0 0 0 0 0 0 0 0 0 0 0 0 0 0 0\n",
      " 0 0 0 0 0 0 0 0 0 0 0 0 0 0 0 0 0 0 0 0 0 0 0 0 0 0 0 0 0 0 0 0 0 0 0 0 0\n",
      " 0 0 0 0 0 0 0 0 0 0 0 0 0 0 0 0 0 0 0 0 0 0 0 0 0 0 0 0 0 0 0 0 0 0 0 0 0\n",
      " 0 0 0 0 0 0 0 0 0 0 0 0 0 0 0 0 0 0 0 0 0 0 0 0 0 0 0 0 0 0 0 0 0 0 0 0 0\n",
      " 0 0 0 0 0 0 0 0 0 0 0 0 0 0 0 0 0 0 0 0 0 0 0 0 0 0 0 0 0 0 0 0 0 0 0 0 0\n",
      " 0 0 0 0 0 0 0 0 0 0 0 0 0 0 0 0 0 0 0 0 0 0 0 0 0 0 0 0 0 0 0 0]\n",
      "[1 0 0 0 0 0 0 0]\n",
      "[1 0 0 0 0 0 0 0 0 0 0 0 0 0 0 0 0 0 0 0 0 0 0 0 0 0 0 0 0 0 0 0 0 0 0 0 0\n",
      " 0 0 0 0 0 0 0 0 0 0 0 0 0 0 0 0 0 0 0 0 0]\n",
      "[1 0 0]\n",
      "[1 0 0 0 0 0 0 0 0 0 0 0 0]\n",
      "[1 0 0 0 0 0 0]\n",
      "[1 0 0]\n",
      "[1 0 0 0 0 0 0 0 0 0 0 0 0 0 0 0 0 0 0 0 0 0 0 0 0 0 0 0 0 0 0 0 0 0 0 0 0\n",
      " 0 0 0 0 0 0 0 0 0 0 0 0 0 0 0 0 0 0 0 0 0 0 0 0 0 0 0 0 0 0 0 0 0 0 0 0 0\n",
      " 0 0 0 0]\n"
     ]
    }
   ],
   "source": [
    "matrices = []\n",
    "for i in dic.keys():\n",
    "    mat = np.zeros((USER_NUM, dic[i]), dtype = np.int)\n",
    "    pair = df.loc[:,[\"user_id\", i]]\n",
    "    M = np.unique(pair, axis=0)\n",
    "    for m in M:\n",
    "        mat[m[0], m[1]] = 1\n",
    "    print(mat[1])\n",
    "    matrices.append(mat)"
   ]
  },
  {
   "cell_type": "code",
   "execution_count": 169,
   "id": "57fb19bb-166d-437e-b87b-e7f232341268",
   "metadata": {},
   "outputs": [],
   "source": [
    "fa_matrix = np.concatenate((matrices), axis=1)"
   ]
  },
  {
   "cell_type": "code",
   "execution_count": 170,
   "id": "5302f9b1-257d-4264-9bb6-a134b3a740c5",
   "metadata": {},
   "outputs": [
    {
     "data": {
      "text/plain": [
       "498"
      ]
     },
     "execution_count": 170,
     "metadata": {},
     "output_type": "execute_result"
    }
   ],
   "source": [
    "fa_matrix.shape[1]"
   ]
  },
  {
   "cell_type": "code",
   "execution_count": 171,
   "id": "babf933d-21dc-418e-bbdc-79462fee6b82",
   "metadata": {},
   "outputs": [
    {
     "data": {
      "text/plain": [
       "[(558421, 328),\n",
       " (558421, 8),\n",
       " (558421, 58),\n",
       " (558421, 3),\n",
       " (558421, 13),\n",
       " (558421, 7),\n",
       " (558421, 3),\n",
       " (558421, 78)]"
      ]
     },
     "execution_count": 171,
     "metadata": {},
     "output_type": "execute_result"
    }
   ],
   "source": [
    "[(matrices[i]).shape for i in range(len(matrices))]"
   ]
  },
  {
   "cell_type": "code",
   "execution_count": 172,
   "id": "7450c74a-1e89-44ed-9e7b-3808a888c053",
   "metadata": {},
   "outputs": [
    {
     "name": "stdout",
     "output_type": "stream",
     "text": [
      "(12324, 498) (152501, 498)\n"
     ]
    }
   ],
   "source": [
    "print(np.unique(ia_matrix, axis=0).shape, np.unique(fa_matrix, axis=0).shape)"
   ]
  },
  {
   "cell_type": "code",
   "execution_count": 173,
   "id": "ed22da31-97cc-4f59-85f1-b0a8570fa909",
   "metadata": {},
   "outputs": [
    {
     "data": {
      "text/plain": [
       "(558421, 498)"
      ]
     },
     "execution_count": 173,
     "metadata": {},
     "output_type": "execute_result"
    }
   ],
   "source": [
    "fa_matrix.shape"
   ]
  },
  {
   "cell_type": "code",
   "execution_count": 174,
   "id": "40ef8a9d-74f8-4bdc-acd9-57b39979d475",
   "metadata": {},
   "outputs": [],
   "source": [
    "np.save('new_fa_ua_matrix', fa_matrix)"
   ]
  },
  {
   "cell_type": "markdown",
   "id": "0e2e6bfc-ea8a-4e88-a304-20f695569bbd",
   "metadata": {},
   "source": [
    "### User - attribute Matrices"
   ]
  },
  {
   "cell_type": "code",
   "execution_count": 144,
   "id": "683e11d5-f563-489e-9cee-b004c5cdc87b",
   "metadata": {},
   "outputs": [],
   "source": [
    "features = [   country_num, postcode_num, gender_num, loyaltyaccount_num]\n",
    "names = [ \"country\", \"postcode\", \"gender\", \"loyaltyaccount\" ]\n",
    "dic = dict(zip(names,features))"
   ]
  },
  {
   "cell_type": "code",
   "execution_count": 70,
   "id": "d2c38b31-75dc-4c50-9b3e-eb5e9ba24145",
   "metadata": {
    "tags": []
   },
   "outputs": [
    {
     "name": "stdout",
     "output_type": "stream",
     "text": [
      "[1 0 0 0 0 0 0 0 0 0 0 0 0 0 0 0 0 0 0 0 0 0 0 0 0 0 0 0 0 0 0 0 0 0 0 0 0\n",
      " 0 0 0 0 0 0 0 0 0 0 0 0 0 0 0 0 0 0 0 0]\n",
      "[0 1 0 ... 0 0 0]\n",
      "[1 1]\n",
      "[0 1]\n"
     ]
    }
   ],
   "source": [
    "matrices = []\n",
    "for i in dic.keys():\n",
    "    mat = np.zeros((item_num, dic[i]), dtype = np.int)\n",
    "    pair = df.loc[:,[\"item_id\", i]]\n",
    "    M = np.unique(pair, axis=0)\n",
    "    for m in M:\n",
    "        mat[m[0], m[1]] = 1\n",
    "    print(mat[1])\n",
    "    matrices.append(mat)"
   ]
  },
  {
   "cell_type": "code",
   "execution_count": 71,
   "id": "e1c3e94a-6497-420e-95e4-06602bc88d2a",
   "metadata": {},
   "outputs": [
    {
     "data": {
      "text/plain": [
       "[(10393, 57), (10393, 5504), (10393, 2), (10393, 2)]"
      ]
     },
     "execution_count": 71,
     "metadata": {},
     "output_type": "execute_result"
    }
   ],
   "source": [
    "[(matrices[i]).shape for i in range(len(matrices))]"
   ]
  },
  {
   "cell_type": "code",
   "execution_count": 72,
   "id": "092e3fa0-17ca-45ee-b0b2-428852ca4346",
   "metadata": {},
   "outputs": [],
   "source": [
    "user_atts_matrix = np.concatenate((matrices), axis=1)"
   ]
  },
  {
   "cell_type": "code",
   "execution_count": 73,
   "id": "2b8f54d6-24b4-4b4c-a7d0-692c28f2416f",
   "metadata": {},
   "outputs": [
    {
     "data": {
      "text/plain": [
       "(10393, 5565)"
      ]
     },
     "execution_count": 73,
     "metadata": {},
     "output_type": "execute_result"
    }
   ],
   "source": [
    "user_atts_matrix.shape"
   ]
  },
  {
   "cell_type": "code",
   "execution_count": 74,
   "id": "ae848c71-8725-4928-9cca-40740d2e4976",
   "metadata": {},
   "outputs": [],
   "source": [
    "np.save(\"item_attributes\", user_atts_matrix)"
   ]
  },
  {
   "cell_type": "code",
   "execution_count": 75,
   "id": "c559a595-01cd-4538-be30-d91cfb284621",
   "metadata": {},
   "outputs": [],
   "source": [
    "# Ignore postcode"
   ]
  },
  {
   "cell_type": "code",
   "execution_count": 76,
   "id": "867f4a0b-8f82-4b42-b235-2f6daa69805f",
   "metadata": {},
   "outputs": [],
   "source": [
    "features = [   country_num, gender_num, loyaltyaccount_num]\n",
    "names = [ \"country\", \"gender\", \"loyaltyaccount\" ]\n",
    "dic = dict(zip(names,features))"
   ]
  },
  {
   "cell_type": "code",
   "execution_count": 77,
   "id": "07c56d31-77c8-41be-a323-21d20bdd13fb",
   "metadata": {
    "tags": []
   },
   "outputs": [
    {
     "name": "stdout",
     "output_type": "stream",
     "text": [
      "[1 0 0 0 0 0 0 0 0 0 0 0 0 0 0 0 0 0 0 0 0 0 0 0 0 0 0 0 0 0 0 0 0 0 0 0 0\n",
      " 0 0 0 0 0 0 0 0 0 0 0 0 0 0 0 0 0 0 0 0]\n",
      "[0 1]\n",
      "[0 1]\n"
     ]
    }
   ],
   "source": [
    "matrices = []\n",
    "for i in dic.keys():\n",
    "    mat = np.zeros((USER_NUM, dic[i]), dtype = np.int)\n",
    "    pair = df.loc[:,[\"user_id\", i]]\n",
    "    M = np.unique(pair, axis=0)\n",
    "    for m in M:\n",
    "        mat[m[0], m[1]] = 1\n",
    "    print(mat[1])\n",
    "    matrices.append(mat)"
   ]
  },
  {
   "cell_type": "code",
   "execution_count": 78,
   "id": "4c3c7145-6c8e-409d-8991-cce45fe33b52",
   "metadata": {},
   "outputs": [
    {
     "data": {
      "text/plain": [
       "[(86364, 57), (86364, 2), (86364, 2)]"
      ]
     },
     "execution_count": 78,
     "metadata": {},
     "output_type": "execute_result"
    }
   ],
   "source": [
    "[(matrices[i]).shape for i in range(len(matrices))]"
   ]
  },
  {
   "cell_type": "code",
   "execution_count": 79,
   "id": "0eaf33ee-efa3-45df-968e-bea9e049bbda",
   "metadata": {},
   "outputs": [],
   "source": [
    "user_atts_matrix = np.concatenate((matrices), axis=1)"
   ]
  },
  {
   "cell_type": "code",
   "execution_count": 80,
   "id": "c4a8ef18-f2f7-4932-90c3-c4d49f12025f",
   "metadata": {},
   "outputs": [
    {
     "data": {
      "text/plain": [
       "(86364, 61)"
      ]
     },
     "execution_count": 80,
     "metadata": {},
     "output_type": "execute_result"
    }
   ],
   "source": [
    "user_atts_matrix.shape"
   ]
  },
  {
   "cell_type": "code",
   "execution_count": 81,
   "id": "022b522c-24ff-438d-9ef5-98848ec18200",
   "metadata": {},
   "outputs": [],
   "source": [
    "np.save(\"user_attributes_npc\", user_atts_matrix)"
   ]
  },
  {
   "cell_type": "markdown",
   "id": "e668fd7e-0219-4dd6-b46d-83797c48bc27",
   "metadata": {},
   "source": [
    "### User - Item Matrix"
   ]
  },
  {
   "cell_type": "code",
   "execution_count": 82,
   "id": "385db7f6-3abf-4543-a6fc-cd040ebe0d8c",
   "metadata": {},
   "outputs": [
    {
     "name": "stdout",
     "output_type": "stream",
     "text": [
      "[0 1 0 ... 0 0 0]\n"
     ]
    }
   ],
   "source": [
    "mat = np.zeros((user_num, item_num), dtype = np.int32)\n",
    "pair = df.loc[:,[\"user_id\", \"item_id\"]]\n",
    "M = np.unique(pair, axis=0)\n",
    "for m in M:\n",
    "    mat[m[0], m[1]] = 1\n",
    "print(mat[1])"
   ]
  },
  {
   "cell_type": "code",
   "execution_count": 83,
   "id": "05c7b28e-a7ad-437c-9d8e-0f182320cf0a",
   "metadata": {},
   "outputs": [],
   "source": [
    "np.save(\"fa_ui_matrix\", mat)"
   ]
  }
 ],
 "metadata": {
  "kernelspec": {
   "display_name": "thesis",
   "language": "python",
   "name": "thesis"
  },
  "language_info": {
   "codemirror_mode": {
    "name": "ipython",
    "version": 3
   },
   "file_extension": ".py",
   "mimetype": "text/x-python",
   "name": "python",
   "nbconvert_exporter": "python",
   "pygments_lexer": "ipython3",
   "version": "3.8.10"
  }
 },
 "nbformat": 4,
 "nbformat_minor": 5
}
