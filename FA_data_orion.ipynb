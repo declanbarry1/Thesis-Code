{
 "cells": [
  {
   "cell_type": "code",
   "execution_count": 1,
   "id": "7d7ba576-220f-49b5-acf9-78310e9cc14f",
   "metadata": {
    "tags": []
   },
   "outputs": [],
   "source": [
    "from orion_recommend.datasets import DatasetMap, synthetic, utils\n",
    "from orion.sources import S3Source\n",
    "from orion.sources.io import read_csv, write_csv\n",
    "from orion.sources import RedshiftSource\n",
    "import pandas as pd\n",
    "import numpy as np\n",
    "from scipy import sparse"
   ]
  },
  {
   "cell_type": "code",
   "execution_count": 2,
   "id": "b4a27f18-00ab-4965-b6a7-1937c8c68f6c",
   "metadata": {},
   "outputs": [
    {
     "name": "stderr",
     "output_type": "stream",
     "text": [
      "/usr/local/lib/python3.8/site-packages/IPython/core/interactiveshell.py:3441: DtypeWarning: Columns (0,11) have mixed types.Specify dtype option on import or set low_memory=False.\n",
      "  exec(code_obj, self.user_global_ns, self.user_ns)\n"
     ]
    }
   ],
   "source": [
    "#source = RedshiftSource(query='SELECT * FROM publish.inventory_lookup WHERE productid IS NULL')\n",
    "#df_stock = source.read_csv()\n",
    "\n",
    "with S3Source(key=\"masters/uploads/customers/1560425511130_Peak_customers.csv\", bucket=\"kilimanjaro-prod-datalake\") as s3:\n",
    "    df_cust = read_csv(s3)\n",
    "\n",
    "df_trans = read_csv(S3Source(key=\"masters/uploads/transactions/1560426066385_Peak_transactions.csv\", bucket=\"kilimanjaro-prod-datalake\"))\n",
    "df_prod = read_csv(S3Source(key=\"masters/uploads/product/1560425499995_Peak_product.csv\", bucket=\"kilimanjaro-prod-datalake\"))\n"
   ]
  },
  {
   "cell_type": "code",
   "execution_count": 3,
   "id": "830679e4-7c22-498a-a0fd-96ef3510f428",
   "metadata": {},
   "outputs": [
    {
     "data": {
      "text/plain": [
       "0.5487752814984791"
      ]
     },
     "execution_count": 3,
     "metadata": {},
     "output_type": "execute_result"
    }
   ],
   "source": [
    "# 30pc of transactions have keys that are not in df_cust\n",
    "pd.Series(df_trans.customerkey.unique()).isin(df_cust.customerkey).sum()/len(df_trans.customerkey.unique())\n",
    "# 45pc of item numbers not in df_prod\n",
    "pd.Series(df_trans.itemnumber.unique()).isin(df_prod.itemnumber).sum()/len(df_trans.itemnumber.unique())"
   ]
  },
  {
   "cell_type": "code",
   "execution_count": 4,
   "id": "0d66d8f9-777b-43ef-b4a1-bb056c3fbbd9",
   "metadata": {},
   "outputs": [],
   "source": [
    "# Fix item number \n",
    "df_prod.itemnumber = pd.to_numeric(df_prod.itemnumber, errors='coerce') "
   ]
  },
  {
   "cell_type": "code",
   "execution_count": 5,
   "id": "e35089f0-89b1-45f3-9b41-58f816b38671",
   "metadata": {},
   "outputs": [],
   "source": [
    "# Drop nas\n",
    "df_prod.dropna(subset=[\"itemnumber\"], inplace=True)"
   ]
  },
  {
   "cell_type": "code",
   "execution_count": 6,
   "id": "a614da5d-bea3-4547-a8eb-afe4bd83ef66",
   "metadata": {
    "tags": []
   },
   "outputs": [],
   "source": [
    "# Remove keys not in customer and product tables\n",
    "df_trans = df_trans.iloc[df_trans.customerkey[df_trans.customerkey.isin(df_cust.customerkey)].index,:]\n",
    "df_trans.reset_index(inplace=True, drop=True)\n",
    "df_trans = df_trans.iloc[df_trans.itemnumber[df_trans.itemnumber.isin(df_prod.itemnumber)].index,:]\n",
    "\n",
    "# Reset index before changing keys to integers\n",
    "df_trans.reset_index(inplace=True, drop=True)\n",
    "df_prod.reset_index(inplace=True, drop=True)\n"
   ]
  },
  {
   "cell_type": "code",
   "execution_count": 7,
   "id": "f4d633a0-9bf1-4249-9f92-60e3502fdea4",
   "metadata": {},
   "outputs": [
    {
     "data": {
      "text/html": [
       "<div>\n",
       "<style scoped>\n",
       "    .dataframe tbody tr th:only-of-type {\n",
       "        vertical-align: middle;\n",
       "    }\n",
       "\n",
       "    .dataframe tbody tr th {\n",
       "        vertical-align: top;\n",
       "    }\n",
       "\n",
       "    .dataframe thead th {\n",
       "        text-align: right;\n",
       "    }\n",
       "</style>\n",
       "<table border=\"1\" class=\"dataframe\">\n",
       "  <thead>\n",
       "    <tr style=\"text-align: right;\">\n",
       "      <th></th>\n",
       "      <th>itemnumber</th>\n",
       "      <th>brandcode</th>\n",
       "      <th>category</th>\n",
       "      <th>colourvalue</th>\n",
       "      <th>divisioncode</th>\n",
       "      <th>fabric</th>\n",
       "      <th>itemcategorycode</th>\n",
       "      <th>itemcolour</th>\n",
       "      <th>itemfamilycode</th>\n",
       "      <th>itemquarter</th>\n",
       "      <th>itemseason</th>\n",
       "      <th>itemstylecode</th>\n",
       "      <th>productgroup</th>\n",
       "    </tr>\n",
       "  </thead>\n",
       "  <tbody>\n",
       "    <tr>\n",
       "      <th>1</th>\n",
       "      <td>83567.0</td>\n",
       "      <td>FEK</td>\n",
       "      <td>Mens</td>\n",
       "      <td>BLUE</td>\n",
       "      <td>APPAREL</td>\n",
       "      <td>Unknown</td>\n",
       "      <td>AM</td>\n",
       "      <td>Blue</td>\n",
       "      <td>WB</td>\n",
       "      <td>Quarter 2</td>\n",
       "      <td>SS</td>\n",
       "      <td>83566</td>\n",
       "      <td>T-shirts</td>\n",
       "    </tr>\n",
       "    <tr>\n",
       "      <th>6</th>\n",
       "      <td>89686.0</td>\n",
       "      <td>SU</td>\n",
       "      <td>Mens</td>\n",
       "      <td>BLACK</td>\n",
       "      <td>APPAREL</td>\n",
       "      <td>Unknown</td>\n",
       "      <td>AM</td>\n",
       "      <td>Black</td>\n",
       "      <td>DM</td>\n",
       "      <td>Quarter 1</td>\n",
       "      <td>SS</td>\n",
       "      <td>89686</td>\n",
       "      <td>Hoods</td>\n",
       "    </tr>\n",
       "    <tr>\n",
       "      <th>9</th>\n",
       "      <td>116110.0</td>\n",
       "      <td>PP</td>\n",
       "      <td>Womens</td>\n",
       "      <td>BLACK</td>\n",
       "      <td>FOOTWEAR</td>\n",
       "      <td>Unknown</td>\n",
       "      <td>FW</td>\n",
       "      <td>White/White</td>\n",
       "      <td>FA</td>\n",
       "      <td>Quarter 3</td>\n",
       "      <td>AW</td>\n",
       "      <td>116107</td>\n",
       "      <td>Basketball</td>\n",
       "    </tr>\n",
       "    <tr>\n",
       "      <th>11</th>\n",
       "      <td>92233.0</td>\n",
       "      <td>NN</td>\n",
       "      <td>Mens</td>\n",
       "      <td>BLACK</td>\n",
       "      <td>FOOTWEAR</td>\n",
       "      <td>Unknown</td>\n",
       "      <td>FM</td>\n",
       "      <td>Black</td>\n",
       "      <td>FA</td>\n",
       "      <td>Quarter 3</td>\n",
       "      <td>AW</td>\n",
       "      <td>90975</td>\n",
       "      <td>Basketball</td>\n",
       "    </tr>\n",
       "    <tr>\n",
       "      <th>13</th>\n",
       "      <td>131524.0</td>\n",
       "      <td>RR</td>\n",
       "      <td>Womens</td>\n",
       "      <td>WHITE</td>\n",
       "      <td>FOOTWEAR</td>\n",
       "      <td>Unknown</td>\n",
       "      <td>FW</td>\n",
       "      <td>White</td>\n",
       "      <td>FA</td>\n",
       "      <td>Quarter 4</td>\n",
       "      <td>AW</td>\n",
       "      <td>131524</td>\n",
       "      <td>Nylon Running</td>\n",
       "    </tr>\n",
       "    <tr>\n",
       "      <th>...</th>\n",
       "      <td>...</td>\n",
       "      <td>...</td>\n",
       "      <td>...</td>\n",
       "      <td>...</td>\n",
       "      <td>...</td>\n",
       "      <td>...</td>\n",
       "      <td>...</td>\n",
       "      <td>...</td>\n",
       "      <td>...</td>\n",
       "      <td>...</td>\n",
       "      <td>...</td>\n",
       "      <td>...</td>\n",
       "      <td>...</td>\n",
       "    </tr>\n",
       "    <tr>\n",
       "      <th>145428</th>\n",
       "      <td>126411.0</td>\n",
       "      <td>PP</td>\n",
       "      <td>Womens</td>\n",
       "      <td>WHITE</td>\n",
       "      <td>FOOTWEAR</td>\n",
       "      <td>Unknown</td>\n",
       "      <td>FW</td>\n",
       "      <td>White/Metallic Gold</td>\n",
       "      <td>FA</td>\n",
       "      <td>Quarter 4</td>\n",
       "      <td>AW</td>\n",
       "      <td>126411.0</td>\n",
       "      <td>Nylon Running</td>\n",
       "    </tr>\n",
       "    <tr>\n",
       "      <th>145432</th>\n",
       "      <td>82952.0</td>\n",
       "      <td>VV</td>\n",
       "      <td>Womens</td>\n",
       "      <td>WHITE</td>\n",
       "      <td>FOOTWEAR</td>\n",
       "      <td>Unknown</td>\n",
       "      <td>FW</td>\n",
       "      <td>White</td>\n",
       "      <td>FA</td>\n",
       "      <td>Quarter 3</td>\n",
       "      <td>AW</td>\n",
       "      <td>82952.0</td>\n",
       "      <td>Vulcanised</td>\n",
       "    </tr>\n",
       "    <tr>\n",
       "      <th>145433</th>\n",
       "      <td>111261.0</td>\n",
       "      <td>NAP</td>\n",
       "      <td>Mens</td>\n",
       "      <td>BLACK</td>\n",
       "      <td>APPAREL</td>\n",
       "      <td>Unknown</td>\n",
       "      <td>AM</td>\n",
       "      <td>Black</td>\n",
       "      <td>DM</td>\n",
       "      <td>Quarter 4</td>\n",
       "      <td>AW</td>\n",
       "      <td>111261.0</td>\n",
       "      <td>Jackets</td>\n",
       "    </tr>\n",
       "    <tr>\n",
       "      <th>145435</th>\n",
       "      <td>4031961.0</td>\n",
       "      <td>VV</td>\n",
       "      <td>Womens</td>\n",
       "      <td>RED</td>\n",
       "      <td>APPAREL</td>\n",
       "      <td>Unknown</td>\n",
       "      <td>AW</td>\n",
       "      <td>Chilli Pepper</td>\n",
       "      <td>FA</td>\n",
       "      <td>Quarter 4</td>\n",
       "      <td>AW</td>\n",
       "      <td>4028768.0</td>\n",
       "      <td>T-shirts</td>\n",
       "    </tr>\n",
       "    <tr>\n",
       "      <th>145436</th>\n",
       "      <td>4032853.0</td>\n",
       "      <td>GUE</td>\n",
       "      <td>Womens</td>\n",
       "      <td>BLACK</td>\n",
       "      <td>APPAREL</td>\n",
       "      <td>Unknown</td>\n",
       "      <td>AW</td>\n",
       "      <td>JET BLACK</td>\n",
       "      <td>FA</td>\n",
       "      <td>Quarter 4</td>\n",
       "      <td>AW</td>\n",
       "      <td>4029307.0</td>\n",
       "      <td>Sweats</td>\n",
       "    </tr>\n",
       "  </tbody>\n",
       "</table>\n",
       "<p>71993 rows × 13 columns</p>\n",
       "</div>"
      ],
      "text/plain": [
       "        itemnumber brandcode category colourvalue divisioncode   fabric  \\\n",
       "1          83567.0       FEK     Mens        BLUE      APPAREL  Unknown   \n",
       "6          89686.0        SU     Mens       BLACK      APPAREL  Unknown   \n",
       "9         116110.0        PP   Womens       BLACK     FOOTWEAR  Unknown   \n",
       "11         92233.0        NN     Mens       BLACK     FOOTWEAR  Unknown   \n",
       "13        131524.0        RR   Womens       WHITE     FOOTWEAR  Unknown   \n",
       "...            ...       ...      ...         ...          ...      ...   \n",
       "145428    126411.0        PP   Womens       WHITE     FOOTWEAR  Unknown   \n",
       "145432     82952.0        VV   Womens       WHITE     FOOTWEAR  Unknown   \n",
       "145433    111261.0       NAP     Mens       BLACK      APPAREL  Unknown   \n",
       "145435   4031961.0        VV   Womens         RED      APPAREL  Unknown   \n",
       "145436   4032853.0       GUE   Womens       BLACK      APPAREL  Unknown   \n",
       "\n",
       "       itemcategorycode           itemcolour itemfamilycode itemquarter  \\\n",
       "1                    AM                 Blue             WB   Quarter 2   \n",
       "6                    AM                Black             DM   Quarter 1   \n",
       "9                    FW          White/White             FA   Quarter 3   \n",
       "11                   FM                Black             FA   Quarter 3   \n",
       "13                   FW                White             FA   Quarter 4   \n",
       "...                 ...                  ...            ...         ...   \n",
       "145428               FW  White/Metallic Gold             FA   Quarter 4   \n",
       "145432               FW                White             FA   Quarter 3   \n",
       "145433               AM                Black             DM   Quarter 4   \n",
       "145435               AW        Chilli Pepper             FA   Quarter 4   \n",
       "145436               AW            JET BLACK             FA   Quarter 4   \n",
       "\n",
       "       itemseason itemstylecode   productgroup  \n",
       "1              SS         83566       T-shirts  \n",
       "6              SS         89686          Hoods  \n",
       "9              AW        116107     Basketball  \n",
       "11             AW         90975     Basketball  \n",
       "13             AW        131524  Nylon Running  \n",
       "...           ...           ...            ...  \n",
       "145428         AW      126411.0  Nylon Running  \n",
       "145432         AW       82952.0     Vulcanised  \n",
       "145433         AW      111261.0        Jackets  \n",
       "145435         AW     4028768.0       T-shirts  \n",
       "145436         AW     4029307.0         Sweats  \n",
       "\n",
       "[71993 rows x 13 columns]"
      ]
     },
     "execution_count": 7,
     "metadata": {},
     "output_type": "execute_result"
    }
   ],
   "source": [
    "df_prod.dropna()"
   ]
  },
  {
   "cell_type": "code",
   "execution_count": 8,
   "id": "21778c02-5bc9-48f6-8110-532c40ad9139",
   "metadata": {},
   "outputs": [],
   "source": [
    "# Drop redundant cols. Fabric all unknown, item colour less info than colourvalue\n",
    "df_prod.drop([\"itemstylecode\", \"itemquarter\", \"itemcolour\", \"fabric\"], axis=1, inplace=True)"
   ]
  },
  {
   "cell_type": "code",
   "execution_count": 9,
   "id": "3310baac-f3e2-49da-b0a2-9d86594bc8c1",
   "metadata": {},
   "outputs": [],
   "source": [
    "# Drop columns\n",
    "df_trans.drop([\"salestransactionkey\", \"salesordernumber\",\"discountpercent\", \"grosssales\",\n",
    "              'orderdate', 'ordertime', 'shippingdate','grossprofit'], axis=1, inplace=True)"
   ]
  },
  {
   "cell_type": "code",
   "execution_count": 10,
   "id": "25c76668-9188-41c5-8762-35fee56dde04",
   "metadata": {},
   "outputs": [],
   "source": [
    "df = df_trans.merge(df_cust, on='customerkey', how = \"outer\")\n",
    "df = df.merge(df_prod, on = \"itemnumber\")"
   ]
  },
  {
   "cell_type": "code",
   "execution_count": 11,
   "id": "2fad0cfc-f611-4e08-93bc-0d7abf10a6a6",
   "metadata": {},
   "outputs": [],
   "source": [
    "# Rename and drop columns, nas\n",
    "df.rename(columns={\"customerkey\":\"user_id\",\"itemnumber\":\"item_id\",\"shipcountry\":\"country\", \"brandcode\":\"brand_id\",\n",
    "                  \"colourvalue\":\"colour\", }, inplace=True)\n",
    "df.dropna(inplace=True)\n",
    "df.reset_index(inplace=True, drop=True)"
   ]
  },
  {
   "cell_type": "code",
   "execution_count": 12,
   "id": "9163d3bb-5a4a-4dd7-9b88-e9000690c5b7",
   "metadata": {},
   "outputs": [],
   "source": [
    "df_trans.rename(columns={\"customerkey\":\"user_id\",\"itemnumber\":\"item_id\"}, inplace=True)\n",
    "df_cust.rename(columns={\"customerkey\":\"user_id\"}, inplace=True)\n",
    "df_prod.rename(columns={\"itemnumber\":\"item_id\"}, inplace=True)"
   ]
  },
  {
   "cell_type": "code",
   "execution_count": 13,
   "id": "39a6bc10-f3cf-4fd0-9b6d-6cc2480979c2",
   "metadata": {},
   "outputs": [],
   "source": [
    "df_trans.drop_duplicates(subset=[\"user_id\", \"item_id\", 'pricetype'], inplace=True)\n"
   ]
  },
  {
   "cell_type": "code",
   "execution_count": 14,
   "id": "5bd5751d-27c9-4c73-ac41-932611b52e77",
   "metadata": {},
   "outputs": [],
   "source": [
    "cats = df.select_dtypes('object').columns\n",
    "keys = df[cats].apply(lambda x: x.factorize()[1])\n",
    "df[cats] = df[cats].apply(lambda x: x.factorize()[0])"
   ]
  },
  {
   "cell_type": "code",
   "execution_count": 15,
   "id": "b97d864e-4db2-4670-a98c-ef83a9a8463c",
   "metadata": {},
   "outputs": [],
   "source": [
    "user_num = len(df.user_id.unique())\n",
    "item_num = len(df.item_id.unique())"
   ]
  },
  {
   "cell_type": "code",
   "execution_count": 16,
   "id": "d6e86d46-9a99-4076-8b6d-9050a9a4fbf6",
   "metadata": {},
   "outputs": [],
   "source": [
    "# Renumber customer keys\n",
    "ints = [i for i in range(user_num)]\n",
    "cust_keys = [i for i in df.user_id.unique()]\n",
    "customer_key_dict = {i:j for i,j in zip( cust_keys, ints)}\n",
    "\n",
    "#Renumber item ids\n",
    "ints = [i for i in range(item_num)]\n",
    "item_keys = [i for i in df.item_id.unique()]\n",
    "item_key_dict = {i:j for i,j in zip( item_keys, ints)}"
   ]
  },
  {
   "cell_type": "code",
   "execution_count": 17,
   "id": "43eae393-5eff-46c6-b20e-ae70c6665e81",
   "metadata": {
    "tags": []
   },
   "outputs": [],
   "source": [
    "# Change keys to integers in dataframes\n",
    "df.item_id = [item_key_dict[df.item_id[i]] for i in range(len(df))]\n",
    "df.user_id = [customer_key_dict[df.user_id[i]] for i in range(len(df))]"
   ]
  },
  {
   "cell_type": "code",
   "execution_count": 27,
   "id": "084b9c8c-94a1-461d-9f68-2773d9a491f0",
   "metadata": {
    "tags": []
   },
   "outputs": [],
   "source": [
    "df.drop('unitssold', axis=1, inplace=True)"
   ]
  },
  {
   "cell_type": "code",
   "execution_count": 28,
   "id": "8eaabd2b-50ee-482e-a120-abe8c0d6b853",
   "metadata": {},
   "outputs": [],
   "source": [
    "# Train-test split\n",
    "train = df.sample(frac = 0.8)\n",
    "ind = df.index.isin(train.index)\n",
    "test = df[~ind]"
   ]
  },
  {
   "cell_type": "code",
   "execution_count": 30,
   "id": "567480ac-b1ad-499e-a020-a9c1fd54e81c",
   "metadata": {},
   "outputs": [],
   "source": [
    "np.save(\"fa_train_data\",train.to_numpy())\n",
    "np.save(\"fa_test_data\",test.to_numpy())"
   ]
  },
  {
   "cell_type": "code",
   "execution_count": 19,
   "id": "bec811db-14cf-4e2b-af17-3413cbf3ee03",
   "metadata": {},
   "outputs": [],
   "source": [
    "USER_NUM = len(df.user_id.unique())\n",
    "country_num = len(df.country.unique())\n",
    "postcode_num = len(df.postcode.unique())\t\n",
    "item_id_num = len(df.item_id.unique())\n",
    "pricetype_num = len(df.pricetype.unique())\n",
    "unitssold_num = len(df.unitssold.unique())\n",
    "loyaltyaccount_num = len(df.loyaltyaccount.unique())\n",
    "gender_num = len(df.gender.unique())\n",
    "brand_id_num = len(df.brand_id.unique())\n",
    "category_num = len(df.category.unique())\n",
    "colour_num = len(df.colour.unique())\n",
    "divisioncode_num = len(df.divisioncode.unique())\n",
    "itemcategorycode_num = len(df.itemcategorycode.unique())\n",
    "itemfamilycode_num = len(df.itemfamilycode.unique())\n",
    "itemseason_num = len(df.itemseason.unique())\n",
    "productgroup_num = len(df.productgroup.unique())"
   ]
  },
  {
   "cell_type": "markdown",
   "id": "40922cbf-0674-4df4-8f5c-015e57932d2f",
   "metadata": {},
   "source": [
    "### Item Attribute matrix"
   ]
  },
  {
   "cell_type": "code",
   "execution_count": 20,
   "id": "a23cc4c4-074e-45c9-b278-185b3f352de4",
   "metadata": {},
   "outputs": [],
   "source": [
    "features = [  pricetype_num, brand_id_num, category_num, colour_num, divisioncode_num, \n",
    "            itemcategorycode_num, itemfamilycode_num, itemseason_num, productgroup_num]\n",
    "names = [ 'pricetype', 'brand_id',\n",
    "         'category', 'colour', 'divisioncode', 'itemcategorycode',\n",
    "         'itemfamilycode', 'itemseason', 'productgroup']\n",
    "dic = dict(zip(names,features))"
   ]
  },
  {
   "cell_type": "code",
   "execution_count": 25,
   "id": "5ef0e831-bbd6-4766-bc4b-a6cf76406fc2",
   "metadata": {},
   "outputs": [
    {
     "data": {
      "text/plain": [
       "dict_values([2, 335, 8, 59, 3, 13, 7, 3, 78])"
      ]
     },
     "execution_count": 25,
     "metadata": {},
     "output_type": "execute_result"
    }
   ],
   "source": [
    "dic.values()"
   ]
  },
  {
   "cell_type": "code",
   "execution_count": 31,
   "id": "e4cdcf0f-91ec-4da2-b14a-4928fb5d309a",
   "metadata": {
    "tags": []
   },
   "outputs": [
    {
     "name": "stdout",
     "output_type": "stream",
     "text": [
      "[1 1]\n",
      "[0 1 0 0 0 0 0 0 0 0 0 0 0 0 0 0 0 0 0 0 0 0 0 0 0 0 0 0 0 0 0 0 0 0 0 0 0\n",
      " 0 0 0 0 0 0 0 0 0 0 0 0 0 0 0 0 0 0 0 0 0 0 0 0 0 0 0 0 0 0 0 0 0 0 0 0 0\n",
      " 0 0 0 0 0 0 0 0 0 0 0 0 0 0 0 0 0 0 0 0 0 0 0 0 0 0 0 0 0 0 0 0 0 0 0 0 0\n",
      " 0 0 0 0 0 0 0 0 0 0 0 0 0 0 0 0 0 0 0 0 0 0 0 0 0 0 0 0 0 0 0 0 0 0 0 0 0\n",
      " 0 0 0 0 0 0 0 0 0 0 0 0 0 0 0 0 0 0 0 0 0 0 0 0 0 0 0 0 0 0 0 0 0 0 0 0 0\n",
      " 0 0 0 0 0 0 0 0 0 0 0 0 0 0 0 0 0 0 0 0 0 0 0 0 0 0 0 0 0 0 0 0 0 0 0 0 0\n",
      " 0 0 0 0 0 0 0 0 0 0 0 0 0 0 0 0 0 0 0 0 0 0 0 0 0 0 0 0 0 0 0 0 0 0 0 0 0\n",
      " 0 0 0 0 0 0 0 0 0 0 0 0 0 0 0 0 0 0 0 0 0 0 0 0 0 0 0 0 0 0 0 0 0 0 0 0 0\n",
      " 0 0 0 0 0 0 0 0 0 0 0 0 0 0 0 0 0 0 0 0 0 0 0 0 0 0 0 0 0 0 0 0 0 0 0 0 0\n",
      " 0 0]\n",
      "[1 0 0 0 0 0 0 0]\n",
      "[0 1 0 0 0 0 0 0 0 0 0 0 0 0 0 0 0 0 0 0 0 0 0 0 0 0 0 0 0 0 0 0 0 0 0 0 0\n",
      " 0 0 0 0 0 0 0 0 0 0 0 0 0 0 0 0 0 0 0 0 0 0]\n",
      "[1 0 0]\n",
      "[1 0 0 0 0 0 0 0 0 0 0 0 0]\n",
      "[1 0 0 0 0 0 0]\n",
      "[0 1 0]\n",
      "[0 1 0 0 0 0 0 0 0 0 0 0 0 0 0 0 0 0 0 0 0 0 0 0 0 0 0 0 0 0 0 0 0 0 0 0 0\n",
      " 0 0 0 0 0 0 0 0 0 0 0 0 0 0 0 0 0 0 0 0 0 0 0 0 0 0 0 0 0 0 0 0 0 0 0 0 0\n",
      " 0 0 0 0]\n"
     ]
    }
   ],
   "source": [
    "matrices = []\n",
    "for i in dic.keys():\n",
    "    mat = np.zeros((item_num, dic[i]), dtype = np.int)    \n",
    "    pair = df.loc[:,[\"item_id\", i]]\n",
    "    M = np.unique(pair, axis=0)\n",
    "    for m in M:\n",
    "        mat[m[0], m[1]] = 1\n",
    "    print(mat[1])\n",
    "    matrices.append(mat)"
   ]
  },
  {
   "cell_type": "code",
   "execution_count": 32,
   "id": "d3cb7e2b-30fd-4c75-a998-ba6a5735481a",
   "metadata": {},
   "outputs": [],
   "source": [
    "fa_matrix = np.concatenate((matrices), axis=1)"
   ]
  },
  {
   "cell_type": "code",
   "execution_count": 33,
   "id": "c6a21b2f-2c66-44b2-9c22-94f326d296a6",
   "metadata": {},
   "outputs": [],
   "source": [
    "np.save('fa_ia_matrix.npy', fa_matrix)"
   ]
  },
  {
   "cell_type": "code",
   "execution_count": 73,
   "id": "23c419d8-b805-47f3-b600-a5ea95f77a8f",
   "metadata": {},
   "outputs": [
    {
     "data": {
      "text/plain": [
       "(37130, 2)"
      ]
     },
     "execution_count": 73,
     "metadata": {},
     "output_type": "execute_result"
    }
   ],
   "source": [
    "matrices[0].shape"
   ]
  },
  {
   "cell_type": "markdown",
   "id": "c3f40ff2-a16d-4edc-ab6f-fb6746e79064",
   "metadata": {},
   "source": [
    "### User- attribute matrix"
   ]
  },
  {
   "cell_type": "code",
   "execution_count": 21,
   "id": "33efd21c-354c-47d8-af68-902e631fd468",
   "metadata": {
    "tags": []
   },
   "outputs": [
    {
     "name": "stdout",
     "output_type": "stream",
     "text": [
      "[1 1]\n",
      "[1 0 1 0 0 0 0 0 0 0 0 0 0 0 0 0 0 0 0 0 0 0 0 0 0 0 0 0 0 0 0 0 0 0 0 0 0\n",
      " 0 0 0 0 0 0 0 0 0 0 0 0 0 0 0 0 0 0 0 0 0 0 0 0 0 0 0 0 0 0 0 0 0 0 0 0 0\n",
      " 0 0 0 0 0 0 0 0 0 0 0 0 0 0 0 0 0 0 0 0 0 0 0 0 0 0 0 0 0 0 0 0 0 0 0 0 0\n",
      " 0 0 0 0 0 0 0 0 0 0 0 0 0 0 0 0 0 0 0 0 0 0 0 0 0 0 0 0 0 0 0 0 0 0 0 0 0\n",
      " 0 0 0 0 0 0 0 0 0 0 0 0 0 0 0 0 0 0 0 0 0 0 0 0 0 0 0 0 0 0 0 0 0 0 0 0 0\n",
      " 0 0 0 0 0 0 0 0 0 0 0 0 0 0 0 0 0 0 0 0 0 0 0 0 0 0 0 0 0 0 0 0 0 0 0 0 0\n",
      " 0 0 0 0 0 0 0 0 0 0 0 0 0 0 0 0 0 0 0 0 0 0 0 0 0 0 0 0 0 0 0 0 0 0 0 0 0\n",
      " 0 0 0 0 0 0 0 0 0 0 0 0 0 0 0 0 0 0 0 0 0 0 0 0 0 0 0 0 0 0 0 0 0 0 0 0 0\n",
      " 0 0 0 0 0 0 0 0 0 0 0 0 0 0 0 0 0 0 0 0 0 0 0 0 0 0 0 0 0 0 0 0 0 0 0 0 0\n",
      " 0 0]\n",
      "[1 1 0 0 0 0 0 0]\n",
      "[1 0 1 0 0 0 0 0 0 0 0 0 0 0 0 0 0 0 0 0 0 0 0 0 0 0 0 0 0 0 0 0 0 0 0 0 0\n",
      " 0 0 0 0 0 0 0 0 0 0 0 0 0 0 0 0 0 0 0 0 0 0]\n",
      "[1 1 0]\n",
      "[1 1 0 0 0 0 0 0 0 0 0 0 0]\n",
      "[1 0 0 0 0 0 0]\n",
      "[1 1 0]\n",
      "[1 0 1 0 0 0 0 0 0 0 0 0 0 0 0 0 0 0 0 0 0 0 0 0 0 0 0 0 0 0 0 0 0 0 0 0 0\n",
      " 0 0 0 0 0 0 0 0 0 0 0 0 0 0 0 0 0 0 0 0 0 0 0 0 0 0 0 0 0 0 0 0 0 0 0 0 0\n",
      " 0 0 0 0]\n"
     ]
    }
   ],
   "source": [
    "matrices = []\n",
    "for i in dic.keys():\n",
    "    mat = np.zeros((USER_NUM, dic[i]), dtype = np.int)\n",
    "    pair = df.loc[:,[\"user_id\", i]]\n",
    "    M = np.unique(pair, axis=0)\n",
    "    for m in M:\n",
    "        mat[m[0], m[1]] = 1\n",
    "    print(mat[1])\n",
    "    matrices.append(mat)"
   ]
  },
  {
   "cell_type": "code",
   "execution_count": 22,
   "id": "57fb19bb-166d-437e-b87b-e7f232341268",
   "metadata": {},
   "outputs": [],
   "source": [
    "fa_matrix = np.concatenate((matrices), axis=1)"
   ]
  },
  {
   "cell_type": "code",
   "execution_count": 23,
   "id": "40ef8a9d-74f8-4bdc-acd9-57b39979d475",
   "metadata": {},
   "outputs": [],
   "source": [
    "np.save('fa_ua_matrix.npy', fa_matrix)"
   ]
  }
 ],
 "metadata": {
  "kernelspec": {
   "display_name": "Python 3",
   "language": "python",
   "name": "python3"
  },
  "language_info": {
   "codemirror_mode": {
    "name": "ipython",
    "version": 3
   },
   "file_extension": ".py",
   "mimetype": "text/x-python",
   "name": "python",
   "nbconvert_exporter": "python",
   "pygments_lexer": "ipython3",
   "version": "3.8.10"
  }
 },
 "nbformat": 4,
 "nbformat_minor": 5
}
